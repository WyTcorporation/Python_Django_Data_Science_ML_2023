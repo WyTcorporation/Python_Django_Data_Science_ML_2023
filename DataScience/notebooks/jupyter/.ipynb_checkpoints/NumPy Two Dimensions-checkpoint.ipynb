{
 "cells": [
  {
   "cell_type": "code",
   "execution_count": 30,
   "id": "d3e0a741-f24f-4c8b-9d4b-dd5ff570ac10",
   "metadata": {
    "editable": true,
    "slideshow": {
     "slide_type": ""
    },
    "tags": []
   },
   "outputs": [
    {
     "data": {
      "text/plain": [
       "array([[1, 2, 3],\n",
       "       [4, 5, 6]])"
      ]
     },
     "execution_count": 30,
     "metadata": {},
     "output_type": "execute_result"
    }
   ],
   "source": [
    "import numpy as np\n",
    "first = np.array([[1,2,3],[4,5,6]])\n",
    "first"
   ]
  },
  {
   "cell_type": "code",
   "execution_count": 31,
   "id": "3e9a0e53-7fff-47ba-b977-e38a579a474f",
   "metadata": {},
   "outputs": [],
   "source": [
    "# error_array = np.array([[1,2,3],[4]])"
   ]
  },
  {
   "cell_type": "code",
   "execution_count": 32,
   "id": "6931f56a-59c5-4509-b57e-19e8983e9b13",
   "metadata": {},
   "outputs": [
    {
     "data": {
      "text/plain": [
       "(2, 3)"
      ]
     },
     "execution_count": 32,
     "metadata": {},
     "output_type": "execute_result"
    }
   ],
   "source": [
    "first.shape # 2 ряда (оси) и три столбца"
   ]
  },
  {
   "cell_type": "code",
   "execution_count": 33,
   "id": "126e2050-1d94-4074-b932-cb6399ac7a14",
   "metadata": {},
   "outputs": [
    {
     "data": {
      "text/plain": [
       "2"
      ]
     },
     "execution_count": 33,
     "metadata": {},
     "output_type": "execute_result"
    }
   ],
   "source": [
    "first.ndim"
   ]
  },
  {
   "cell_type": "code",
   "execution_count": 34,
   "id": "ae51dd80-205e-47a0-a55a-9d414e7a830a",
   "metadata": {},
   "outputs": [
    {
     "data": {
      "text/plain": [
       "array([[ 7,  8,  9],\n",
       "       [10, 11, 12]])"
      ]
     },
     "execution_count": 34,
     "metadata": {},
     "output_type": "execute_result"
    }
   ],
   "source": [
    "second = np.array([[7,8,9],[10,11,12]])\n",
    "second"
   ]
  },
  {
   "cell_type": "code",
   "execution_count": 35,
   "id": "aee3852e-b78a-4780-84c4-6df2f14e1aca",
   "metadata": {},
   "outputs": [
    {
     "data": {
      "text/plain": [
       "(2, 3)"
      ]
     },
     "execution_count": 35,
     "metadata": {},
     "output_type": "execute_result"
    }
   ],
   "source": [
    "second.shape"
   ]
  },
  {
   "cell_type": "code",
   "execution_count": 36,
   "id": "ec7f6381-bf6e-41ca-903d-e149761bd0d4",
   "metadata": {},
   "outputs": [
    {
     "data": {
      "text/plain": [
       "array([[ 8, 10, 12],\n",
       "       [14, 16, 18]])"
      ]
     },
     "execution_count": 36,
     "metadata": {},
     "output_type": "execute_result"
    }
   ],
   "source": [
    "first + second"
   ]
  },
  {
   "cell_type": "code",
   "execution_count": 37,
   "id": "d09fd145-23e5-419b-be38-945025d78c46",
   "metadata": {},
   "outputs": [
    {
     "data": {
      "text/plain": [
       "array([[0, 1, 2],\n",
       "       [3, 4, 5]])"
      ]
     },
     "execution_count": 37,
     "metadata": {},
     "output_type": "execute_result"
    }
   ],
   "source": [
    "first - 1"
   ]
  },
  {
   "cell_type": "code",
   "execution_count": 38,
   "id": "04dd7f32-ae25-44e0-aaae-a0e03fed0a8f",
   "metadata": {},
   "outputs": [
    {
     "data": {
      "text/plain": [
       "array([[0.5, 1. , 1.5],\n",
       "       [2. , 2.5, 3. ]])"
      ]
     },
     "execution_count": 38,
     "metadata": {},
     "output_type": "execute_result"
    }
   ],
   "source": [
    "first / 2 "
   ]
  },
  {
   "cell_type": "code",
   "execution_count": 39,
   "id": "d6fdf3a9-93b0-4e1e-b682-81279672cf49",
   "metadata": {},
   "outputs": [
    {
     "data": {
      "text/plain": [
       "array([[ 2,  4,  6],\n",
       "       [ 8, 10, 12]])"
      ]
     },
     "execution_count": 39,
     "metadata": {},
     "output_type": "execute_result"
    }
   ],
   "source": [
    "first * 2 "
   ]
  },
  {
   "cell_type": "code",
   "execution_count": 40,
   "id": "6ef548f7-56c9-478e-8d53-a2fd4e82894c",
   "metadata": {},
   "outputs": [
    {
     "data": {
      "text/plain": [
       "array([[1, 2, 3],\n",
       "       [4, 5, 6],\n",
       "       [7, 8, 9]])"
      ]
     },
     "execution_count": 40,
     "metadata": {},
     "output_type": "execute_result"
    }
   ],
   "source": [
    "third = np.array([[1,2,3],[4,5,6],[7,8,9]])\n",
    "third"
   ]
  },
  {
   "cell_type": "code",
   "execution_count": 41,
   "id": "9028041a-c11a-4e2f-b76f-7611059b3566",
   "metadata": {},
   "outputs": [
    {
     "data": {
      "text/plain": [
       "(3, 3)"
      ]
     },
     "execution_count": 41,
     "metadata": {},
     "output_type": "execute_result"
    }
   ],
   "source": [
    "third.shape # Количество осей, смотри рисунки"
   ]
  },
  {
   "cell_type": "code",
   "execution_count": 42,
   "id": "e656938a-027b-4c20-b479-5c5c53c9c007",
   "metadata": {},
   "outputs": [
    {
     "data": {
      "text/plain": [
       "5"
      ]
     },
     "execution_count": 42,
     "metadata": {},
     "output_type": "execute_result"
    }
   ],
   "source": [
    "# После осей массива выведим елемент по координатам\n",
    "first[1,1]"
   ]
  },
  {
   "cell_type": "code",
   "execution_count": 43,
   "id": "1b2d0258-6acf-49de-a796-68e85d3f5e70",
   "metadata": {},
   "outputs": [
    {
     "data": {
      "text/plain": [
       "6"
      ]
     },
     "execution_count": 43,
     "metadata": {},
     "output_type": "execute_result"
    }
   ],
   "source": [
    "first[1,2]"
   ]
  },
  {
   "cell_type": "code",
   "execution_count": 44,
   "id": "3a4a2911-ab43-4e64-81f8-2a7c18147565",
   "metadata": {},
   "outputs": [
    {
     "data": {
      "text/plain": [
       "1"
      ]
     },
     "execution_count": 44,
     "metadata": {},
     "output_type": "execute_result"
    }
   ],
   "source": [
    "first[0,0]"
   ]
  },
  {
   "cell_type": "code",
   "execution_count": 45,
   "id": "b15d1d7f-78c7-4df0-8c18-cf92067840fb",
   "metadata": {},
   "outputs": [
    {
     "data": {
      "text/plain": [
       "array([[ 1,  2,  3],\n",
       "       [ 4,  5,  6],\n",
       "       [ 7,  8,  9],\n",
       "       [10, 11, 12]])"
      ]
     },
     "execution_count": 45,
     "metadata": {},
     "output_type": "execute_result"
    }
   ],
   "source": [
    "np.concatenate((first, second),axis=0) # Объединяем масивы"
   ]
  },
  {
   "cell_type": "code",
   "execution_count": 46,
   "id": "7cdc9e90-b11b-453b-9e73-a053b510ddec",
   "metadata": {},
   "outputs": [
    {
     "data": {
      "text/plain": [
       "array([[ 1,  2,  3,  7,  8,  9],\n",
       "       [ 4,  5,  6, 10, 11, 12]])"
      ]
     },
     "execution_count": 46,
     "metadata": {},
     "output_type": "execute_result"
    }
   ],
   "source": [
    "np.concatenate((first, second),axis=1) # По оси 1"
   ]
  },
  {
   "cell_type": "code",
   "execution_count": 47,
   "id": "8c15ea83-b8cf-46ab-b0f2-ae9263560ff7",
   "metadata": {},
   "outputs": [
    {
     "data": {
      "text/plain": [
       "array([[ 1,  2,  3],\n",
       "       [ 4,  5,  6],\n",
       "       [ 7,  8,  9],\n",
       "       [10, 11, 12],\n",
       "       [13, 14, 15],\n",
       "       [16, 17, 18]])"
      ]
     },
     "execution_count": 47,
     "metadata": {},
     "output_type": "execute_result"
    }
   ],
   "source": [
    "np.concatenate((first, second,[[13,14,15],[16,17,18]]),axis=0)"
   ]
  },
  {
   "cell_type": "code",
   "execution_count": 54,
   "id": "90d0e39b-971c-4281-9a48-24627533c913",
   "metadata": {},
   "outputs": [
    {
     "data": {
      "text/plain": [
       "array([[ 1,  2,  3,  7,  8,  9, 13, 14, 15],\n",
       "       [ 4,  5,  6, 10, 11, 12, 16, 17, 18]])"
      ]
     },
     "execution_count": 54,
     "metadata": {},
     "output_type": "execute_result"
    }
   ],
   "source": [
    "np.concatenate((first, second,np.array([[13,14,15],[16,17,18]])),axis=1)"
   ]
  },
  {
   "cell_type": "code",
   "execution_count": 55,
   "id": "3bf15d48-6afb-4b9e-805d-6dc89c3a15ed",
   "metadata": {},
   "outputs": [],
   "source": [
    "# error_array = np.concatenate((first, second,np.array([[13,14,15],[16,17,18]])),axis=2)"
   ]
  },
  {
   "cell_type": "code",
   "execution_count": 56,
   "id": "68798252-fe43-4ff4-9977-3030f391b47a",
   "metadata": {},
   "outputs": [
    {
     "data": {
      "text/plain": [
       "array([1, 2, 3, 4, 5, 6, 7, 8])"
      ]
     },
     "execution_count": 56,
     "metadata": {},
     "output_type": "execute_result"
    }
   ],
   "source": [
    "# Соеденение одномерных массивов\n",
    "np.concatenate((np.array([1,2,3,4]),np.array([5,6,7,8])),axis=0)"
   ]
  },
  {
   "cell_type": "code",
   "execution_count": null,
   "id": "446fa25f-1fe1-4e57-aaa9-630b8f44ce18",
   "metadata": {},
   "outputs": [],
   "source": []
  }
 ],
 "metadata": {
  "kernelspec": {
   "display_name": "Python 3 (ipykernel)",
   "language": "python",
   "name": "python3"
  },
  "language_info": {
   "codemirror_mode": {
    "name": "ipython",
    "version": 3
   },
   "file_extension": ".py",
   "mimetype": "text/x-python",
   "name": "python",
   "nbconvert_exporter": "python",
   "pygments_lexer": "ipython3",
   "version": "3.12.1"
  }
 },
 "nbformat": 4,
 "nbformat_minor": 5
}
