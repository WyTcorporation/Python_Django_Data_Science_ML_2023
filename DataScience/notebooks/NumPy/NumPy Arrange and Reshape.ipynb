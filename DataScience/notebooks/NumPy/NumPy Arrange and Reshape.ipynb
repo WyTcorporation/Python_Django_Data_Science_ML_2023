{
 "cells": [
  {
   "cell_type": "code",
   "execution_count": 1,
   "id": "5f9e42d7-7bad-4467-89e2-36c23ddab1b0",
   "metadata": {},
   "outputs": [],
   "source": [
    "import numpy as np"
   ]
  },
  {
   "cell_type": "code",
   "execution_count": 15,
   "id": "87d0c071-f494-4116-ba94-c15b6dda11d0",
   "metadata": {},
   "outputs": [
    {
     "data": {
      "text/plain": [
       "array([1, 2, 3, 4, 5, 6, 7, 8, 9])"
      ]
     },
     "execution_count": 15,
     "metadata": {},
     "output_type": "execute_result"
    }
   ],
   "source": [
    "np.arange(start=1,stop=10, dtype=int) # Всегда одномерные массивы"
   ]
  },
  {
   "cell_type": "code",
   "execution_count": 16,
   "id": "848ee0ca-24bf-4f32-b895-ada199456417",
   "metadata": {},
   "outputs": [
    {
     "data": {
      "text/plain": [
       "array([1., 2., 3., 4.])"
      ]
     },
     "execution_count": 16,
     "metadata": {},
     "output_type": "execute_result"
    }
   ],
   "source": [
    "np.arange(start=1,stop=5, dtype=float,step=1)"
   ]
  },
  {
   "cell_type": "code",
   "execution_count": 17,
   "id": "42b73b62-0bbc-47ef-9bcd-db021e2dc888",
   "metadata": {},
   "outputs": [
    {
     "data": {
      "text/plain": [
       "array([-15, -10,  -5,   0,   5,  10])"
      ]
     },
     "execution_count": 17,
     "metadata": {},
     "output_type": "execute_result"
    }
   ],
   "source": [
    "np.arange(start=-15,stop=15, dtype=int,step=5)"
   ]
  },
  {
   "cell_type": "code",
   "execution_count": 18,
   "id": "4c6d1fa4-6f27-4566-8f70-fc96f195b74d",
   "metadata": {},
   "outputs": [
    {
     "data": {
      "text/plain": [
       "array([[ 0,  1,  2,  3,  4,  5,  6,  7,  8,  9],\n",
       "       [10, 11, 12, 13, 14, 15, 16, 17, 18, 19]])"
      ]
     },
     "execution_count": 18,
     "metadata": {},
     "output_type": "execute_result"
    }
   ],
   "source": [
    "np.arange(stop=20).reshape([2,10]) # позволяет модернизировать одномерный массив в двух мерный в примере"
   ]
  },
  {
   "cell_type": "code",
   "execution_count": 19,
   "id": "359c4935-3f38-42dc-ae2c-edaa7d7b987e",
   "metadata": {},
   "outputs": [
    {
     "data": {
      "text/plain": [
       "array([[ 0,  1,  2,  3,  4,  5,  6,  7,  8,  9],\n",
       "       [10, 11, 12, 13, 14, 15, 16, 17, 18, 19],\n",
       "       [20, 21, 22, 23, 24, 25, 26, 27, 28, 29]])"
      ]
     },
     "execution_count": 19,
     "metadata": {},
     "output_type": "execute_result"
    }
   ],
   "source": [
    "np.arange(stop=30).reshape([3,10])"
   ]
  },
  {
   "cell_type": "code",
   "execution_count": 21,
   "id": "1b60966c-f431-49a5-bb9c-5d3a9479cd6d",
   "metadata": {},
   "outputs": [],
   "source": [
    "#error = np.arange(stop=20).reshape([3,10]) # мы пытаемся созадть трехмерный массив, но с 20 елементами, зная математику это не возможно"
   ]
  },
  {
   "cell_type": "code",
   "execution_count": 23,
   "id": "721eb26e-675f-47b9-ac27-751b7180558e",
   "metadata": {},
   "outputs": [
    {
     "data": {
      "text/plain": [
       "array([[ 0,  1,  2,  3,  4],\n",
       "       [ 5,  6,  7,  8,  9],\n",
       "       [10, 11, 12, 13, 14],\n",
       "       [15, 16, 17, 18, 19]])"
      ]
     },
     "execution_count": 23,
     "metadata": {},
     "output_type": "execute_result"
    }
   ],
   "source": [
    "np.arange(stop=20).reshape([4,5]) # 4 ряда 5 столбцов"
   ]
  },
  {
   "cell_type": "code",
   "execution_count": 24,
   "id": "7f4a037c-4bea-4cad-b371-c3fd01cde047",
   "metadata": {},
   "outputs": [
    {
     "data": {
      "text/plain": [
       "array([[[ 0,  1,  2,  3,  4],\n",
       "        [ 5,  6,  7,  8,  9]],\n",
       "\n",
       "       [[10, 11, 12, 13, 14],\n",
       "        [15, 16, 17, 18, 19]]])"
      ]
     },
     "execution_count": 24,
     "metadata": {},
     "output_type": "execute_result"
    }
   ],
   "source": [
    "np.arange(stop=20).reshape([2,2,5]) # 2 ряда по оси 0, в каждом 2 ряда и 5 столбцов"
   ]
  },
  {
   "cell_type": "code",
   "execution_count": 25,
   "id": "26e59781-8947-4bad-84e9-812f2f51c4a4",
   "metadata": {},
   "outputs": [
    {
     "data": {
      "text/plain": [
       "array([[[ 0,  1,  2,  3,  4],\n",
       "        [ 5,  6,  7,  8,  9]],\n",
       "\n",
       "       [[10, 11, 12, 13, 14],\n",
       "        [15, 16, 17, 18, 19]]])"
      ]
     },
     "execution_count": 25,
     "metadata": {},
     "output_type": "execute_result"
    }
   ],
   "source": [
    "np.arange(stop=20).reshape([4,5]).reshape([2,2,5])"
   ]
  },
  {
   "cell_type": "code",
   "execution_count": 26,
   "id": "414017ab-2ade-430d-aa53-4fa23b672e82",
   "metadata": {},
   "outputs": [
    {
     "data": {
      "text/plain": [
       "array([0.80403726, 0.28287001, 0.83671848, 0.69853013, 0.56016195,\n",
       "       0.31739069, 0.38418434, 0.3655065 , 0.30086279, 0.67543246])"
      ]
     },
     "execution_count": 26,
     "metadata": {},
     "output_type": "execute_result"
    }
   ],
   "source": [
    "np.random.random((10,))"
   ]
  },
  {
   "cell_type": "code",
   "execution_count": 27,
   "id": "70d96f71-1322-43f9-b93a-97a8258093e8",
   "metadata": {},
   "outputs": [
    {
     "data": {
      "text/plain": [
       "array([[0.94447466, 0.43525871, 0.9903786 , 0.62650378, 0.02412015],\n",
       "       [0.05222938, 0.94334438, 0.8089158 , 0.51270264, 0.56310365]])"
      ]
     },
     "execution_count": 27,
     "metadata": {},
     "output_type": "execute_result"
    }
   ],
   "source": [
    "np.random.random((10,)).reshape([2,5])"
   ]
  },
  {
   "cell_type": "code",
   "execution_count": 32,
   "id": "ebfc10c7-03fa-407d-bdcf-c3c8d8077e4a",
   "metadata": {},
   "outputs": [
    {
     "data": {
      "text/plain": [
       "array([72, 63, 55, 63, 69, 75, 63, 78, 72, 75, 62, 51, 75, 54, 77, 68, 79,\n",
       "       63, 72, 73, 74, 61, 78, 60, 74, 59, 65, 68, 66, 72, 57, 74, 61, 67,\n",
       "       64, 57])"
      ]
     },
     "execution_count": 32,
     "metadata": {},
     "output_type": "execute_result"
    }
   ],
   "source": [
    "np.random.seed(10)\n",
    "np.random.randint(50,80,(4,3,3))\n",
    "np.random.randint(50,80,(4,3,3)).flatten() # Приобразует в одномерный массив"
   ]
  }
 ],
 "metadata": {
  "kernelspec": {
   "display_name": "Python 3 (ipykernel)",
   "language": "python",
   "name": "python3"
  },
  "language_info": {
   "codemirror_mode": {
    "name": "ipython",
    "version": 3
   },
   "file_extension": ".py",
   "mimetype": "text/x-python",
   "name": "python",
   "nbconvert_exporter": "python",
   "pygments_lexer": "ipython3",
   "version": "3.12.1"
  }
 },
 "nbformat": 4,
 "nbformat_minor": 5
}
