{
 "cells": [
  {
   "cell_type": "code",
   "execution_count": 1,
   "id": "e6c6a50f-ce3c-41dd-b90e-5a6eb2116a21",
   "metadata": {},
   "outputs": [],
   "source": [
    "import numpy as np"
   ]
  },
  {
   "cell_type": "code",
   "execution_count": 5,
   "id": "edb47ce0-1bca-4c19-9b15-bda5e72034f7",
   "metadata": {},
   "outputs": [
    {
     "data": {
      "text/plain": [
       "array([[0., 0., 0., 0.],\n",
       "       [0., 0., 0., 0.],\n",
       "       [0., 0., 0., 0.]])"
      ]
     },
     "execution_count": 5,
     "metadata": {},
     "output_type": "execute_result"
    }
   ],
   "source": [
    "np.zeros((3,4))"
   ]
  },
  {
   "cell_type": "code",
   "execution_count": 6,
   "id": "ff919342-7a02-4dc6-aed7-a7982781e82a",
   "metadata": {},
   "outputs": [
    {
     "data": {
      "text/plain": [
       "array([[0, 0, 0, 0],\n",
       "       [0, 0, 0, 0],\n",
       "       [0, 0, 0, 0]])"
      ]
     },
     "execution_count": 6,
     "metadata": {},
     "output_type": "execute_result"
    }
   ],
   "source": [
    "np.zeros((3,4), dtype=int)"
   ]
  },
  {
   "cell_type": "code",
   "execution_count": 8,
   "id": "351869e0-53a7-4c06-abef-686b3038c431",
   "metadata": {},
   "outputs": [
    {
     "data": {
      "text/plain": [
       "array([[False, False, False, False],\n",
       "       [False, False, False, False],\n",
       "       [False, False, False, False]])"
      ]
     },
     "execution_count": 8,
     "metadata": {},
     "output_type": "execute_result"
    }
   ],
   "source": [
    "np.zeros((3,4), dtype=bool)"
   ]
  },
  {
   "cell_type": "code",
   "execution_count": 9,
   "id": "29deb3e8-5d6c-4e07-8f36-647d1aba25e5",
   "metadata": {},
   "outputs": [
    {
     "data": {
      "text/plain": [
       "array([['', '', '', ''],\n",
       "       ['', '', '', ''],\n",
       "       ['', '', '', '']], dtype='<U1')"
      ]
     },
     "execution_count": 9,
     "metadata": {},
     "output_type": "execute_result"
    }
   ],
   "source": [
    "np.zeros((3,4), dtype=str)"
   ]
  },
  {
   "cell_type": "code",
   "execution_count": 11,
   "id": "048b8bbc-554f-4db6-b50c-1f133f20cd8e",
   "metadata": {},
   "outputs": [
    {
     "data": {
      "text/plain": [
       "array([[1, 1, 1, 1],\n",
       "       [1, 1, 1, 1],\n",
       "       [1, 1, 1, 1]])"
      ]
     },
     "execution_count": 11,
     "metadata": {},
     "output_type": "execute_result"
    }
   ],
   "source": [
    "np.ones((3,4), dtype=int)"
   ]
  },
  {
   "cell_type": "code",
   "execution_count": 14,
   "id": "de60ffd7-d531-4377-ac95-8e2c9e16cafc",
   "metadata": {},
   "outputs": [
    {
     "data": {
      "text/plain": [
       "array([[0.41462623, 0.95976584, 0.02621333, 0.08383948],\n",
       "       [0.20173511, 0.92569195, 0.55333963, 0.6773275 ]])"
      ]
     },
     "execution_count": 14,
     "metadata": {},
     "output_type": "execute_result"
    }
   ],
   "source": [
    "np.random.random(size=(2,4))"
   ]
  },
  {
   "cell_type": "code",
   "execution_count": 15,
   "id": "25461341-0ac6-441b-8702-06057b910f16",
   "metadata": {},
   "outputs": [
    {
     "data": {
      "text/plain": [
       "array([[0.5488135 , 0.71518937, 0.60276338, 0.54488318],\n",
       "       [0.4236548 , 0.64589411, 0.43758721, 0.891773  ]])"
      ]
     },
     "execution_count": 15,
     "metadata": {},
     "output_type": "execute_result"
    }
   ],
   "source": [
    "np.random.seed(0) # Генерация псевдо случайных чисел\n",
    "np.random.random(size=(2,4))"
   ]
  },
  {
   "cell_type": "code",
   "execution_count": 17,
   "id": "aab7b252-b2e3-41d0-ae70-7e46cc94367a",
   "metadata": {},
   "outputs": [
    {
     "data": {
      "text/plain": [
       "8"
      ]
     },
     "execution_count": 17,
     "metadata": {},
     "output_type": "execute_result"
    }
   ],
   "source": [
    "np.random.randint(low=0,high=10)"
   ]
  },
  {
   "cell_type": "code",
   "execution_count": 18,
   "id": "bfd0ed3a-7b96-4e92-a76e-5591c15753fa",
   "metadata": {},
   "outputs": [
    {
     "data": {
      "text/plain": [
       "array([[1, 6, 7, 7],\n",
       "       [8, 1, 5, 9]])"
      ]
     },
     "execution_count": 18,
     "metadata": {},
     "output_type": "execute_result"
    }
   ],
   "source": [
    "np.random.randint(low=0,high=10,size=(2,4))"
   ]
  },
  {
   "cell_type": "code",
   "execution_count": 19,
   "id": "1b112ed9-60b4-44f2-957c-211f44f66fe6",
   "metadata": {},
   "outputs": [
    {
     "data": {
      "text/plain": [
       "array([[0.07103606, 0.0871293 , 0.0202184 , 0.83261985],\n",
       "       [0.77815675, 0.87001215, 0.97861834, 0.79915856]])"
      ]
     },
     "execution_count": 19,
     "metadata": {},
     "output_type": "execute_result"
    }
   ],
   "source": [
    "np.random.uniform(size=(2,4))"
   ]
  },
  {
   "cell_type": "code",
   "execution_count": 26,
   "id": "5ba11b55-3969-47bf-8642-bd9977d27e51",
   "metadata": {},
   "outputs": [
    {
     "data": {
      "text/plain": [
       "array([[5.48813504, 7.15189366, 6.02763376, 5.44883183],\n",
       "       [4.23654799, 6.45894113, 4.37587211, 8.91773001]])"
      ]
     },
     "execution_count": 26,
     "metadata": {},
     "output_type": "execute_result"
    }
   ],
   "source": [
    "np.random.seed(0)\n",
    "np.random.uniform(low=0,high=10,size=(2,4)) # отличие от np.random.random что можна указать диапозон"
   ]
  },
  {
   "cell_type": "code",
   "execution_count": 29,
   "id": "8047be4d-4271-45e2-98a5-97f18a08d642",
   "metadata": {},
   "outputs": [
    {
     "data": {
      "text/plain": [
       "array([1, 2, 1, 2, 2, 3, 1, 3, 1, 1, 1, 3, 2, 3, 3, 1, 2, 2, 2, 2])"
      ]
     },
     "execution_count": 29,
     "metadata": {},
     "output_type": "execute_result"
    }
   ],
   "source": [
    "np.random.seed(0)\n",
    "np.random.choice(np.array([1,2,3]),size=20)"
   ]
  },
  {
   "cell_type": "code",
   "execution_count": 30,
   "id": "ee0907ab-a6f0-467e-967e-fdbf0985f80d",
   "metadata": {},
   "outputs": [
    {
     "data": {
      "text/plain": [
       "array([1, 2, 1, 1, 2, 3, 1, 3, 1, 2, 2, 3, 1, 2, 2, 2, 1, 3, 1, 3, 3, 1,\n",
       "       3, 1, 1, 1, 2, 2, 3, 1, 1, 2, 1, 2, 3, 3, 1, 2, 2, 2, 2, 3, 3, 3,\n",
       "       1, 3, 2, 1, 2, 3, 1, 1, 3, 1, 1, 1, 1, 1, 1, 3, 1, 3, 2, 2, 2, 1,\n",
       "       2, 2, 2, 1, 2, 3, 1, 2, 3, 1, 3, 1, 2, 3, 3, 2, 1, 2, 2, 1, 3, 3,\n",
       "       3, 3, 2, 3, 3, 3, 3, 3, 1, 2, 3, 3])"
      ]
     },
     "execution_count": 30,
     "metadata": {},
     "output_type": "execute_result"
    }
   ],
   "source": [
    "np.random.choice(np.array([1,2,3]),size=100)"
   ]
  },
  {
   "cell_type": "code",
   "execution_count": 31,
   "id": "4ac8979b-202c-4667-b7a5-90e0d9614c84",
   "metadata": {},
   "outputs": [
    {
     "data": {
      "text/plain": [
       "array(['b', 'c', 'b', 'a', 'c', 'c', 'a', 'c', 'a', 'a', 'c', 'a', 'c',\n",
       "       'c', 'c', 'a', 'a', 'a', 'b', 'c'], dtype='<U1')"
      ]
     },
     "execution_count": 31,
     "metadata": {},
     "output_type": "execute_result"
    }
   ],
   "source": [
    "np.random.choice(np.array(['a','b','c']),size=20)"
   ]
  },
  {
   "cell_type": "code",
   "execution_count": null,
   "id": "bb3eac45-2d38-464b-86f9-9971480cd507",
   "metadata": {},
   "outputs": [],
   "source": []
  }
 ],
 "metadata": {
  "kernelspec": {
   "display_name": "Python 3 (ipykernel)",
   "language": "python",
   "name": "python3"
  },
  "language_info": {
   "codemirror_mode": {
    "name": "ipython",
    "version": 3
   },
   "file_extension": ".py",
   "mimetype": "text/x-python",
   "name": "python",
   "nbconvert_exporter": "python",
   "pygments_lexer": "ipython3",
   "version": "3.12.1"
  }
 },
 "nbformat": 4,
 "nbformat_minor": 5
}
