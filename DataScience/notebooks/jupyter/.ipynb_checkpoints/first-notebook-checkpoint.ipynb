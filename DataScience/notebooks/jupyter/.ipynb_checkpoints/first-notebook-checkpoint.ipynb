{
 "cells": [
  {
   "cell_type": "code",
   "execution_count": 1,
   "id": "6f88fbfa-2010-4b35-9632-e7a7be82f4dd",
   "metadata": {},
   "outputs": [
    {
     "data": {
      "text/plain": [
       "3"
      ]
     },
     "execution_count": 1,
     "metadata": {},
     "output_type": "execute_result"
    }
   ],
   "source": [
    "1+2"
   ]
  },
  {
   "cell_type": "code",
   "execution_count": 2,
   "id": "da439c5c-81aa-4df5-af58-2d4db5ab209d",
   "metadata": {},
   "outputs": [
    {
     "data": {
      "text/plain": [
       "'Vlad'"
      ]
     },
     "execution_count": 2,
     "metadata": {},
     "output_type": "execute_result"
    }
   ],
   "source": [
    "my_name = 'Vlad'\n",
    "my_name"
   ]
  },
  {
   "cell_type": "code",
   "execution_count": 3,
   "id": "d2a5b8d9-7276-493f-9983-2022b7d88282",
   "metadata": {},
   "outputs": [
    {
     "data": {
      "text/plain": [
       "'Vlad'"
      ]
     },
     "execution_count": 3,
     "metadata": {},
     "output_type": "execute_result"
    }
   ],
   "source": [
    "my_name"
   ]
  },
  {
   "cell_type": "code",
   "execution_count": 4,
   "id": "3e166ca0-80eb-41fb-b4b9-7f15c54a24ab",
   "metadata": {},
   "outputs": [],
   "source": [
    "my_name = 'Vicktor'"
   ]
  },
  {
   "cell_type": "code",
   "execution_count": 5,
   "id": "6abe37ec-9619-45ae-9dbc-80e6b3f64f6b",
   "metadata": {},
   "outputs": [
    {
     "data": {
      "text/plain": [
       "'Vicktor'"
      ]
     },
     "execution_count": 5,
     "metadata": {},
     "output_type": "execute_result"
    }
   ],
   "source": [
    "my_name"
   ]
  },
  {
   "cell_type": "markdown",
   "id": "6a5b1206-878e-4349-9f7e-35e28295ef7b",
   "metadata": {
    "editable": true,
    "slideshow": {
     "slide_type": ""
    },
    "tags": []
   },
   "source": [
    "# First Section"
   ]
  },
  {
   "cell_type": "code",
   "execution_count": 1,
   "id": "ff230cc4-fe44-472f-bd27-d516dd0774b9",
   "metadata": {},
   "outputs": [],
   "source": [
    "## Second section"
   ]
  },
  {
   "cell_type": "code",
   "execution_count": 2,
   "id": "ef100dae-58dd-46dc-adae-36241b444e29",
   "metadata": {},
   "outputs": [
    {
     "data": {
      "text/plain": [
       "3"
      ]
     },
     "execution_count": 2,
     "metadata": {},
     "output_type": "execute_result"
    }
   ],
   "source": [
    "1+2"
   ]
  },
  {
   "cell_type": "code",
   "execution_count": 3,
   "id": "30825f74-3bc8-46be-b2a8-e0fa4cb2faf6",
   "metadata": {},
   "outputs": [
    {
     "data": {
      "text/plain": [
       "24"
      ]
     },
     "execution_count": 3,
     "metadata": {},
     "output_type": "execute_result"
    }
   ],
   "source": [
    "3*8"
   ]
  },
  {
   "cell_type": "markdown",
   "id": "8192411e-f764-4dfa-8e85-eb343be0604d",
   "metadata": {},
   "source": [
    "# Second Section"
   ]
  },
  {
   "cell_type": "code",
   "execution_count": null,
   "id": "90615025-024a-4531-800c-78101c2b2214",
   "metadata": {},
   "outputs": [],
   "source": []
  }
 ],
 "metadata": {
  "kernelspec": {
   "display_name": "Python 3 (ipykernel)",
   "language": "python",
   "name": "python3"
  },
  "language_info": {
   "codemirror_mode": {
    "name": "ipython",
    "version": 3
   },
   "file_extension": ".py",
   "mimetype": "text/x-python",
   "name": "python",
   "nbconvert_exporter": "python",
   "pygments_lexer": "ipython3",
   "version": "3.12.1"
  }
 },
 "nbformat": 4,
 "nbformat_minor": 5
}
