{
 "cells": [
  {
   "cell_type": "code",
   "execution_count": 1,
   "id": "0d6bac3c-a5ee-4ada-a68a-946428ffe35d",
   "metadata": {},
   "outputs": [],
   "source": [
    "import numpy as np"
   ]
  },
  {
   "cell_type": "code",
   "execution_count": 4,
   "id": "f815ee10-ab98-4e22-8469-3eb2320a6336",
   "metadata": {},
   "outputs": [
    {
     "data": {
      "text/plain": [
       "array([1, 2, 3, 4])"
      ]
     },
     "execution_count": 4,
     "metadata": {},
     "output_type": "execute_result"
    }
   ],
   "source": [
    "nums_array = np.array([1,2,3,4])\n",
    "nums_array"
   ]
  },
  {
   "cell_type": "code",
   "execution_count": 5,
   "id": "003f3708-1591-4dfd-8074-a9c157d5c01a",
   "metadata": {},
   "outputs": [
    {
     "data": {
      "text/plain": [
       "numpy.ndarray"
      ]
     },
     "execution_count": 5,
     "metadata": {},
     "output_type": "execute_result"
    }
   ],
   "source": [
    "type(nums_array)"
   ]
  },
  {
   "cell_type": "code",
   "execution_count": 6,
   "id": "e2eab913-b4c8-4e9e-93e2-2765c0682530",
   "metadata": {},
   "outputs": [
    {
     "data": {
      "text/plain": [
       "1"
      ]
     },
     "execution_count": 6,
     "metadata": {},
     "output_type": "execute_result"
    }
   ],
   "source": [
    "nums_array[0]"
   ]
  },
  {
   "cell_type": "code",
   "execution_count": 7,
   "id": "6141ea34-06a8-4f34-90be-98aafae137ab",
   "metadata": {},
   "outputs": [
    {
     "data": {
      "text/plain": [
       "4"
      ]
     },
     "execution_count": 7,
     "metadata": {},
     "output_type": "execute_result"
    }
   ],
   "source": [
    "nums_array[-1]"
   ]
  },
  {
   "cell_type": "code",
   "execution_count": 8,
   "id": "25da8342-92ec-417c-83d8-0750fe63693c",
   "metadata": {},
   "outputs": [
    {
     "data": {
      "text/plain": [
       "(4,)"
      ]
     },
     "execution_count": 8,
     "metadata": {},
     "output_type": "execute_result"
    }
   ],
   "source": [
    "nums_array.shape"
   ]
  },
  {
   "cell_type": "code",
   "execution_count": 9,
   "id": "0c922584-f728-4019-8a7e-6cd7fb2f4444",
   "metadata": {},
   "outputs": [
    {
     "data": {
      "text/plain": [
       "1"
      ]
     },
     "execution_count": 9,
     "metadata": {},
     "output_type": "execute_result"
    }
   ],
   "source": [
    "nums_array.ndim"
   ]
  },
  {
   "cell_type": "code",
   "execution_count": 10,
   "id": "ffc524b2-9670-4069-8605-6dc99c065b13",
   "metadata": {},
   "outputs": [
    {
     "data": {
      "text/plain": [
       "4"
      ]
     },
     "execution_count": 10,
     "metadata": {},
     "output_type": "execute_result"
    }
   ],
   "source": [
    "nums_array.size"
   ]
  },
  {
   "cell_type": "code",
   "execution_count": 11,
   "id": "ac74270e-e95a-491d-9faf-b950d73cfd10",
   "metadata": {},
   "outputs": [
    {
     "data": {
      "text/plain": [
       "dtype('int32')"
      ]
     },
     "execution_count": 11,
     "metadata": {},
     "output_type": "execute_result"
    }
   ],
   "source": [
    "nums_array.dtype"
   ]
  },
  {
   "cell_type": "code",
   "execution_count": 12,
   "id": "d5de42c2-d423-4aa2-a77b-87d488d033f4",
   "metadata": {},
   "outputs": [
    {
     "data": {
      "text/plain": [
       "4"
      ]
     },
     "execution_count": 12,
     "metadata": {},
     "output_type": "execute_result"
    }
   ],
   "source": [
    "nums_array.itemsize"
   ]
  },
  {
   "cell_type": "code",
   "execution_count": 13,
   "id": "bf9f97ac-e0ab-4a6f-b2b3-c6a7c1652a60",
   "metadata": {},
   "outputs": [
    {
     "data": {
      "text/plain": [
       "array(['True', '10', 'abc', '5.5'], dtype='<U32')"
      ]
     },
     "execution_count": 13,
     "metadata": {},
     "output_type": "execute_result"
    }
   ],
   "source": [
    "random_array = np.array([True, 10 , 'abc',5.5])\n",
    "random_array"
   ]
  },
  {
   "cell_type": "code",
   "execution_count": 14,
   "id": "438e522c-b41e-4c79-b1da-88c002b4cd01",
   "metadata": {},
   "outputs": [
    {
     "data": {
      "text/plain": [
       "'str1024'"
      ]
     },
     "execution_count": 14,
     "metadata": {},
     "output_type": "execute_result"
    }
   ],
   "source": [
    "random_array.dtype.name"
   ]
  },
  {
   "cell_type": "code",
   "execution_count": 15,
   "id": "af345f76-f259-4ede-9bea-0ccac967d9e7",
   "metadata": {},
   "outputs": [
    {
     "data": {
      "text/plain": [
       "128"
      ]
     },
     "execution_count": 15,
     "metadata": {},
     "output_type": "execute_result"
    }
   ],
   "source": [
    "random_array.itemsize"
   ]
  },
  {
   "cell_type": "code",
   "execution_count": 16,
   "id": "f3078fdc-5b0f-431c-a242-e0cfb6796914",
   "metadata": {},
   "outputs": [],
   "source": [
    "obj_array = np.array([{'city':'London'},{'city':'Boston'}])"
   ]
  },
  {
   "cell_type": "code",
   "execution_count": 17,
   "id": "97e01787-c42d-4d9f-873f-b335e9ebcc88",
   "metadata": {},
   "outputs": [
    {
     "data": {
      "text/plain": [
       "array([{'city': 'London'}, {'city': 'Boston'}], dtype=object)"
      ]
     },
     "execution_count": 17,
     "metadata": {},
     "output_type": "execute_result"
    }
   ],
   "source": [
    "obj_array"
   ]
  },
  {
   "cell_type": "code",
   "execution_count": 18,
   "id": "4bdd4bff-756d-4d13-a873-f22b5a9da3d3",
   "metadata": {},
   "outputs": [
    {
     "data": {
      "text/plain": [
       "'object'"
      ]
     },
     "execution_count": 18,
     "metadata": {},
     "output_type": "execute_result"
    }
   ],
   "source": [
    "obj_array.dtype.name"
   ]
  },
  {
   "cell_type": "code",
   "execution_count": 19,
   "id": "861c3c60-89cc-4beb-8eba-3a23c91bca65",
   "metadata": {},
   "outputs": [
    {
     "data": {
      "text/plain": [
       "8"
      ]
     },
     "execution_count": 19,
     "metadata": {},
     "output_type": "execute_result"
    }
   ],
   "source": [
    "obj_array.itemsize"
   ]
  },
  {
   "cell_type": "code",
   "execution_count": 20,
   "id": "fa34f1c9-a1a6-4a1b-8b07-229728861ed6",
   "metadata": {},
   "outputs": [
    {
     "data": {
      "text/plain": [
       "1"
      ]
     },
     "execution_count": 20,
     "metadata": {},
     "output_type": "execute_result"
    }
   ],
   "source": [
    "obj_array.ndim"
   ]
  },
  {
   "cell_type": "code",
   "execution_count": 21,
   "id": "48d96e0f-3e04-489c-bdfc-218d47f41864",
   "metadata": {},
   "outputs": [
    {
     "data": {
      "text/plain": [
       "(2,)"
      ]
     },
     "execution_count": 21,
     "metadata": {},
     "output_type": "execute_result"
    }
   ],
   "source": [
    "obj_array.shape"
   ]
  },
  {
   "cell_type": "code",
   "execution_count": null,
   "id": "98d11ebd-7063-42a5-bc0e-595af3641ae5",
   "metadata": {},
   "outputs": [],
   "source": []
  }
 ],
 "metadata": {
  "kernelspec": {
   "display_name": "Python 3 (ipykernel)",
   "language": "python",
   "name": "python3"
  },
  "language_info": {
   "codemirror_mode": {
    "name": "ipython",
    "version": 3
   },
   "file_extension": ".py",
   "mimetype": "text/x-python",
   "name": "python",
   "nbconvert_exporter": "python",
   "pygments_lexer": "ipython3",
   "version": "3.12.1"
  }
 },
 "nbformat": 4,
 "nbformat_minor": 5
}
