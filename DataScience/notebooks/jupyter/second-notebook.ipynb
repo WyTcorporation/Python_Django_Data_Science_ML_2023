{
 "cells": [
  {
   "cell_type": "code",
   "execution_count": 2,
   "id": "9b5d3a4f-ae21-427a-b73b-dc5a546fe9ec",
   "metadata": {},
   "outputs": [],
   "source": [
    "import os"
   ]
  },
  {
   "cell_type": "code",
   "execution_count": 4,
   "id": "c3871103-2809-4481-afc2-4de53be3e0c1",
   "metadata": {},
   "outputs": [
    {
     "data": {
      "text/plain": [
       "['DirEntry',\n",
       " 'EX_OK',\n",
       " 'F_OK',\n",
       " 'GenericAlias',\n",
       " 'Mapping',\n",
       " 'MutableMapping',\n",
       " 'O_APPEND',\n",
       " 'O_BINARY',\n",
       " 'O_CREAT',\n",
       " 'O_EXCL',\n",
       " 'O_NOINHERIT',\n",
       " 'O_RANDOM',\n",
       " 'O_RDONLY',\n",
       " 'O_RDWR',\n",
       " 'O_SEQUENTIAL',\n",
       " 'O_SHORT_LIVED',\n",
       " 'O_TEMPORARY',\n",
       " 'O_TEXT',\n",
       " 'O_TRUNC',\n",
       " 'O_WRONLY',\n",
       " 'P_DETACH',\n",
       " 'P_NOWAIT',\n",
       " 'P_NOWAITO',\n",
       " 'P_OVERLAY',\n",
       " 'P_WAIT',\n",
       " 'PathLike',\n",
       " 'R_OK',\n",
       " 'SEEK_CUR',\n",
       " 'SEEK_END',\n",
       " 'SEEK_SET',\n",
       " 'TMP_MAX',\n",
       " 'W_OK',\n",
       " 'X_OK',\n",
       " '_AddedDllDirectory',\n",
       " '_Environ',\n",
       " '__all__',\n",
       " '__builtins__',\n",
       " '__doc__',\n",
       " '__file__',\n",
       " '__loader__',\n",
       " '__name__',\n",
       " '__package__',\n",
       " '__spec__',\n",
       " '_check_methods',\n",
       " '_execvpe',\n",
       " '_exists',\n",
       " '_exit',\n",
       " '_fspath',\n",
       " '_get_exports_list',\n",
       " '_wrap_close',\n",
       " 'abc',\n",
       " 'abort',\n",
       " 'access',\n",
       " 'add_dll_directory',\n",
       " 'altsep',\n",
       " 'chdir',\n",
       " 'chmod',\n",
       " 'close',\n",
       " 'closerange',\n",
       " 'cpu_count',\n",
       " 'curdir',\n",
       " 'defpath',\n",
       " 'device_encoding',\n",
       " 'devnull',\n",
       " 'dup',\n",
       " 'dup2',\n",
       " 'environ',\n",
       " 'error',\n",
       " 'execl',\n",
       " 'execle',\n",
       " 'execlp',\n",
       " 'execlpe',\n",
       " 'execv',\n",
       " 'execve',\n",
       " 'execvp',\n",
       " 'execvpe',\n",
       " 'extsep',\n",
       " 'fdopen',\n",
       " 'fsdecode',\n",
       " 'fsencode',\n",
       " 'fspath',\n",
       " 'fstat',\n",
       " 'fsync',\n",
       " 'ftruncate',\n",
       " 'get_blocking',\n",
       " 'get_exec_path',\n",
       " 'get_handle_inheritable',\n",
       " 'get_inheritable',\n",
       " 'get_terminal_size',\n",
       " 'getcwd',\n",
       " 'getcwdb',\n",
       " 'getenv',\n",
       " 'getlogin',\n",
       " 'getpid',\n",
       " 'getppid',\n",
       " 'isatty',\n",
       " 'kill',\n",
       " 'linesep',\n",
       " 'link',\n",
       " 'listdir',\n",
       " 'listdrives',\n",
       " 'listmounts',\n",
       " 'listvolumes',\n",
       " 'lseek',\n",
       " 'lstat',\n",
       " 'makedirs',\n",
       " 'mkdir',\n",
       " 'name',\n",
       " 'open',\n",
       " 'pardir',\n",
       " 'path',\n",
       " 'pathsep',\n",
       " 'pipe',\n",
       " 'popen',\n",
       " 'putenv',\n",
       " 'read',\n",
       " 'readlink',\n",
       " 'remove',\n",
       " 'removedirs',\n",
       " 'rename',\n",
       " 'renames',\n",
       " 'replace',\n",
       " 'rmdir',\n",
       " 'scandir',\n",
       " 'sep',\n",
       " 'set_blocking',\n",
       " 'set_handle_inheritable',\n",
       " 'set_inheritable',\n",
       " 'spawnl',\n",
       " 'spawnle',\n",
       " 'spawnv',\n",
       " 'spawnve',\n",
       " 'st',\n",
       " 'startfile',\n",
       " 'stat',\n",
       " 'stat_result',\n",
       " 'statvfs_result',\n",
       " 'strerror',\n",
       " 'supports_bytes_environ',\n",
       " 'supports_dir_fd',\n",
       " 'supports_effective_ids',\n",
       " 'supports_fd',\n",
       " 'supports_follow_symlinks',\n",
       " 'symlink',\n",
       " 'sys',\n",
       " 'system',\n",
       " 'terminal_size',\n",
       " 'times',\n",
       " 'times_result',\n",
       " 'truncate',\n",
       " 'umask',\n",
       " 'uname_result',\n",
       " 'unlink',\n",
       " 'unsetenv',\n",
       " 'urandom',\n",
       " 'utime',\n",
       " 'waitpid',\n",
       " 'waitstatus_to_exitcode',\n",
       " 'walk',\n",
       " 'write']"
      ]
     },
     "execution_count": 4,
     "metadata": {},
     "output_type": "execute_result"
    }
   ],
   "source": [
    "dir(os)"
   ]
  },
  {
   "cell_type": "code",
   "execution_count": 5,
   "id": "7dec42d8-c0c0-4ec1-bccd-8f281d3f210b",
   "metadata": {},
   "outputs": [
    {
     "data": {
      "text/plain": [
       "environ{'PSEXECUTIONPOLICYPREFERENCE': 'RemoteSigned',\n",
       "        'TERM_SESSION_ID': '074f26ad-e546-4fcf-8f92-f36dd993d2a1',\n",
       "        'COMMONPROGRAMW6432': 'C:\\\\Program Files\\\\Common Files',\n",
       "        'PROGRAMW6432': 'C:\\\\Program Files',\n",
       "        'PYCHARM': 'C:\\\\Program Files\\\\JetBrains\\\\PyCharm 2023.1.3\\\\bin;',\n",
       "        'FIG_JETBRAINS_SHELL_INTEGRATION': '1',\n",
       "        'USERNAME': 'WyTcorportion',\n",
       "        'ALLUSERSPROFILE': 'C:\\\\ProgramData',\n",
       "        'USERPROFILE': 'C:\\\\Users\\\\WyTcorportion',\n",
       "        'PROCESSOR_REVISION': '2102',\n",
       "        'POWERSHELL_DISTRIBUTION_CHANNEL': 'MSI:Windows 10 Pro',\n",
       "        'IDEA_INITIAL_DIRECTORY': 'C:\\\\Users\\\\WyTcorportion\\\\Desktop',\n",
       "        'FPS_BROWSER_APP_PROFILE_STRING': 'Internet Explorer',\n",
       "        'PUBLIC': 'C:\\\\Users\\\\Public',\n",
       "        'PATH': 'E:\\\\Projects\\\\Python\\\\Python_Django_Data_Science_ML_2023\\\\DataScience\\\\venv/Scripts;C:\\\\Python312\\\\Scripts\\\\;C:\\\\Python312\\\\;C:\\\\Windows\\\\system32;C:\\\\Windows;C:\\\\Windows\\\\System32\\\\Wbem;C:\\\\Windows\\\\System32\\\\WindowsPowerShell\\\\v1.0\\\\;C:\\\\Windows\\\\System32\\\\OpenSSH\\\\;C:\\\\Program Files\\\\nodejs\\\\;C:\\\\ProgramData\\\\chocolatey\\\\bin;E:\\\\ServerThings\\\\php;E:\\\\ServerThings\\\\composer;C:\\\\Program Files\\\\PowerShell\\\\7\\\\;E:\\\\PuTTY\\\\;C:\\\\Program Files\\\\Docker\\\\Docker\\\\resources\\\\bin;C:\\\\Program Files\\\\Git\\\\cmd;C:\\\\Users\\\\WyTcorportion\\\\AppData\\\\Local\\\\Microsoft\\\\WindowsApps;C:\\\\Users\\\\WyTcorportion\\\\AppData\\\\Roaming\\\\npm;C:\\\\Program Files\\\\JetBrains\\\\PhpStorm 2023.1.3\\\\bin;C:\\\\Program Files\\\\JetBrains\\\\PyCharm 2023.1.3\\\\bin;D:\\\\ServerThings\\\\composer;C:\\\\Users\\\\WyTcorportion\\\\AppData\\\\Roaming\\\\Composer\\\\vendor\\\\bin;C:\\\\Users\\\\WyTcorportion\\\\AppData\\\\Local\\\\JetBrains\\\\Toolbox\\\\scripts;',\n",
       "        'DRIVERDATA': 'C:\\\\Windows\\\\System32\\\\Drivers\\\\DriverData',\n",
       "        'HOMEDRIVE': 'C:',\n",
       "        'SESSIONNAME': 'Console',\n",
       "        'LOGONSERVER': '\\\\\\\\WYTCORP-SYS',\n",
       "        'EFC_12172': '1',\n",
       "        'TERMINAL_EMULATOR': 'JetBrains-JediTerm',\n",
       "        'HOMEPATH': '\\\\Users\\\\WyTcorportion',\n",
       "        'SYSTEMROOT': 'C:\\\\Windows',\n",
       "        'POWERSHELL_TELEMETRY_OPTOUT': '1',\n",
       "        'CHOCOLATEYINSTALL': 'C:\\\\ProgramData\\\\chocolatey',\n",
       "        'LOCALAPPDATA': 'C:\\\\Users\\\\WyTcorportion\\\\AppData\\\\Local',\n",
       "        'APPDATA': 'C:\\\\Users\\\\WyTcorportion\\\\AppData\\\\Roaming',\n",
       "        'PROCESSOR_IDENTIFIER': 'AMD64 Family 25 Model 33 Stepping 2, AuthenticAMD',\n",
       "        'PATHEXT': '.COM;.EXE;.BAT;.CMD;.VBS;.VBE;.JS;.JSE;.WSF;.WSH;.MSC;.PY;.PYW;.CPL',\n",
       "        'PSMODULEPATH': 'C:\\\\Users\\\\WyTcorportion\\\\Documents\\\\WindowsPowerShell\\\\Modules;C:\\\\Program Files\\\\WindowsPowerShell\\\\Modules;C:\\\\Windows\\\\system32\\\\WindowsPowerShell\\\\v1.0\\\\Modules',\n",
       "        'PROGRAMFILES(X86)': 'C:\\\\Program Files (x86)',\n",
       "        'OS': 'Windows_NT',\n",
       "        'PROCESSOR_ARCHITECTURE': 'AMD64',\n",
       "        'NUMBER_OF_PROCESSORS': '16',\n",
       "        'PHPSTORM': 'C:\\\\Program Files\\\\JetBrains\\\\PhpStorm 2023.1.3\\\\bin;',\n",
       "        'COMSPEC': 'C:\\\\Windows\\\\system32\\\\cmd.exe',\n",
       "        'PROCESSOR_LEVEL': '25',\n",
       "        'VIRTUAL_ENV': 'E:\\\\Projects\\\\Python\\\\Python_Django_Data_Science_ML_2023\\\\DataScience\\\\venv',\n",
       "        'WINDIR': 'C:\\\\Windows',\n",
       "        'USERDOMAIN_ROAMINGPROFILE': 'WYTCORP-SYS',\n",
       "        'PROGRAMFILES': 'C:\\\\Program Files',\n",
       "        'TEMP': 'C:\\\\Users\\\\WYTCOR~1\\\\AppData\\\\Local\\\\Temp',\n",
       "        'TMP': 'C:\\\\Users\\\\WYTCOR~1\\\\AppData\\\\Local\\\\Temp',\n",
       "        'COMMONPROGRAMFILES(X86)': 'C:\\\\Program Files (x86)\\\\Common Files',\n",
       "        'ONEDRIVE': 'C:\\\\Users\\\\WyTcorportion\\\\OneDrive',\n",
       "        'ONEDRIVECONSUMER': 'C:\\\\Users\\\\WyTcorportion\\\\OneDrive',\n",
       "        'USERDOMAIN': 'WYTCORP-SYS',\n",
       "        'SYSTEMDRIVE': 'C:',\n",
       "        'COMPUTERNAME': 'WYTCORP-SYS',\n",
       "        'PROGRAMDATA': 'C:\\\\ProgramData',\n",
       "        'CHOCOLATEYLASTPATHUPDATE': '133509441628905154',\n",
       "        'FPS_BROWSER_USER_PROFILE_STRING': 'Default',\n",
       "        'COMMONPROGRAMFILES': 'C:\\\\Program Files\\\\Common Files',\n",
       "        'JPY_SESSION_NAME': 'E:\\\\Projects\\\\Python\\\\Python_Django_Data_Science_ML_2023\\\\DataScience\\\\Untitled.ipynb',\n",
       "        'JPY_INTERRUPT_EVENT': '4960',\n",
       "        'IPY_INTERRUPT_EVENT': '4960',\n",
       "        'JPY_PARENT_PID': '4044',\n",
       "        'PYDEVD_USE_FRAME_EVAL': 'NO',\n",
       "        'TERM': 'xterm-color',\n",
       "        'CLICOLOR': '1',\n",
       "        'FORCE_COLOR': '1',\n",
       "        'CLICOLOR_FORCE': '1',\n",
       "        'PAGER': 'cat',\n",
       "        'GIT_PAGER': 'cat',\n",
       "        'MPLBACKEND': 'module://matplotlib_inline.backend_inline'}"
      ]
     },
     "execution_count": 5,
     "metadata": {},
     "output_type": "execute_result"
    }
   ],
   "source": [
    "os.environ"
   ]
  },
  {
   "cell_type": "code",
   "execution_count": 6,
   "id": "56987fa1-156f-4760-8f36-f95ac17c2402",
   "metadata": {},
   "outputs": [
    {
     "data": {
      "text/plain": [
       "<function print(*args, sep=' ', end='\\n', file=None, flush=False)>"
      ]
     },
     "execution_count": 6,
     "metadata": {},
     "output_type": "execute_result"
    }
   ],
   "source": [
    "print"
   ]
  },
  {
   "cell_type": "code",
   "execution_count": 1,
   "id": "79fdec5b-a354-4669-b6e2-aa0d438876fb",
   "metadata": {},
   "outputs": [
    {
     "name": "stdout",
     "output_type": "stream",
     "text": [
      "Requirement already satisfied: requests in c:\\python312\\lib\\site-packages (2.31.0)\n",
      "Requirement already satisfied: charset-normalizer<4,>=2 in c:\\python312\\lib\\site-packages (from requests) (3.3.2)\n",
      "Requirement already satisfied: idna<4,>=2.5 in c:\\python312\\lib\\site-packages (from requests) (3.6)\n",
      "Requirement already satisfied: urllib3<3,>=1.21.1 in c:\\python312\\lib\\site-packages (from requests) (2.2.1)\n",
      "Requirement already satisfied: certifi>=2017.4.17 in c:\\python312\\lib\\site-packages (from requests) (2024.2.2)\n"
     ]
    }
   ],
   "source": [
    "!pip install requests"
   ]
  },
  {
   "cell_type": "code",
   "execution_count": 2,
   "id": "426c0e2d-f520-4ca1-9469-0f535003e990",
   "metadata": {},
   "outputs": [
    {
     "name": "stdout",
     "output_type": "stream",
     "text": [
      "Requirement already satisfied: requests in c:\\python312\\lib\\site-packages (2.31.0)\n",
      "Collecting flask\n",
      "  Downloading flask-3.0.2-py3-none-any.whl.metadata (3.6 kB)\n",
      "Requirement already satisfied: charset-normalizer<4,>=2 in c:\\python312\\lib\\site-packages (from requests) (3.3.2)\n",
      "Requirement already satisfied: idna<4,>=2.5 in c:\\python312\\lib\\site-packages (from requests) (3.6)\n",
      "Requirement already satisfied: urllib3<3,>=1.21.1 in c:\\python312\\lib\\site-packages (from requests) (2.2.1)\n",
      "Requirement already satisfied: certifi>=2017.4.17 in c:\\python312\\lib\\site-packages (from requests) (2024.2.2)\n",
      "Collecting Werkzeug>=3.0.0 (from flask)\n",
      "  Downloading werkzeug-3.0.1-py3-none-any.whl.metadata (4.1 kB)\n",
      "Requirement already satisfied: Jinja2>=3.1.2 in c:\\python312\\lib\\site-packages (from flask) (3.1.3)\n",
      "Collecting itsdangerous>=2.1.2 (from flask)\n",
      "  Downloading itsdangerous-2.1.2-py3-none-any.whl.metadata (2.9 kB)\n",
      "Collecting click>=8.1.3 (from flask)\n",
      "  Downloading click-8.1.7-py3-none-any.whl.metadata (3.0 kB)\n",
      "Collecting blinker>=1.6.2 (from flask)\n",
      "  Downloading blinker-1.7.0-py3-none-any.whl.metadata (1.9 kB)\n",
      "Requirement already satisfied: colorama in c:\\python312\\lib\\site-packages (from click>=8.1.3->flask) (0.4.6)\n",
      "Requirement already satisfied: MarkupSafe>=2.0 in c:\\python312\\lib\\site-packages (from Jinja2>=3.1.2->flask) (2.1.5)\n",
      "Downloading flask-3.0.2-py3-none-any.whl (101 kB)\n",
      "   ---------------------------------------- 0.0/101.3 kB ? eta -:--:--\n",
      "   --------------- ----------------------- 41.0/101.3 kB 960.0 kB/s eta 0:00:01\n",
      "   ---------------------------------------- 101.3/101.3 kB 1.9 MB/s eta 0:00:00\n",
      "Downloading blinker-1.7.0-py3-none-any.whl (13 kB)\n",
      "Downloading click-8.1.7-py3-none-any.whl (97 kB)\n",
      "   ---------------------------------------- 0.0/97.9 kB ? eta -:--:--\n",
      "   ---------------------------------------- 97.9/97.9 kB 5.5 MB/s eta 0:00:00\n",
      "Downloading itsdangerous-2.1.2-py3-none-any.whl (15 kB)\n",
      "Downloading werkzeug-3.0.1-py3-none-any.whl (226 kB)\n",
      "   ---------------------------------------- 0.0/226.7 kB ? eta -:--:--\n",
      "   ---------------------------------------- 226.7/226.7 kB 4.6 MB/s eta 0:00:00\n",
      "Installing collected packages: Werkzeug, itsdangerous, click, blinker, flask\n",
      "Successfully installed Werkzeug-3.0.1 blinker-1.7.0 click-8.1.7 flask-3.0.2 itsdangerous-2.1.2\n"
     ]
    }
   ],
   "source": [
    "!pip install requests flask"
   ]
  },
  {
   "cell_type": "code",
   "execution_count": 3,
   "id": "d321d9ea-3f6f-436c-93d2-bbb9512e0dc5",
   "metadata": {},
   "outputs": [],
   "source": [
    "import requests"
   ]
  },
  {
   "cell_type": "code",
   "execution_count": 4,
   "id": "4be4e0ad-9de3-45a6-8d5a-66688567de6f",
   "metadata": {},
   "outputs": [
    {
     "data": {
      "text/plain": [
       "<module 'requests' from 'C:\\\\Python312\\\\Lib\\\\site-packages\\\\requests\\\\__init__.py'>"
      ]
     },
     "execution_count": 4,
     "metadata": {},
     "output_type": "execute_result"
    }
   ],
   "source": [
    "requests"
   ]
  },
  {
   "cell_type": "code",
   "execution_count": 5,
   "id": "c5679824-24eb-42c2-a345-54c5b4684b9d",
   "metadata": {},
   "outputs": [],
   "source": [
    "import flask"
   ]
  },
  {
   "cell_type": "code",
   "execution_count": 6,
   "id": "6b5f77d1-9910-423d-b9ba-7647ee35213f",
   "metadata": {},
   "outputs": [
    {
     "data": {
      "text/plain": [
       "<module 'flask' from 'E:\\\\Projects\\\\Python\\\\Python_Django_Data_Science_ML_2023\\\\DataScience\\\\venv\\\\Lib\\\\site-packages\\\\flask\\\\__init__.py'>"
      ]
     },
     "execution_count": 6,
     "metadata": {},
     "output_type": "execute_result"
    }
   ],
   "source": [
    "flask"
   ]
  },
  {
   "cell_type": "code",
   "execution_count": 7,
   "id": "a33cd4b8-0f0d-452c-b118-b5efa59e5047",
   "metadata": {},
   "outputs": [
    {
     "data": {
      "text/plain": [
       "<Response [200]>"
      ]
     },
     "execution_count": 7,
     "metadata": {},
     "output_type": "execute_result"
    }
   ],
   "source": [
    "result = requests.get('https://www.facebook.com/')\n",
    "result"
   ]
  },
  {
   "cell_type": "code",
   "execution_count": 8,
   "id": "6de8535b-29a3-4cda-8c46-2d44b05fc3ea",
   "metadata": {},
   "outputs": [
    {
     "data": {
      "text/plain": [
       "b'<!DOCTYPE html>\\n<html lang=\"uk\" id=\"facebook\" class=\"no_js\">\\n<head><meta charset=\"utf-8\" /><meta name=\"referrer\" content=\"default\" id=\"meta_referrer\" /><script nonce=\"ilFO5kWe\">function envFlush(a){function b(b){for(var c in a)b[c]=a[c]}window.requireLazy?window.requireLazy([\"Env\"],b):(window.Env=window.Env||{},b(window.Env))}envFlush({\"useTrustedTypes\":false,\"isTrustedTypesReportOnly\":false,\"ajaxpipe_token\":\"AXgCk-28UfF5TzfEZ7w\",\"stack_trace_limit\":30,\"timesliceBufferSize\":5000,\"show_invariant_decoder\":false,\"compat_iframe_token\":\"AQ4xnlgxju8mgkf0klw\",\"isCQuick\":false});</script><script nonce=\"ilFO5kWe\">(function(a){function b(b){if(!window.openDatabase)return;b.I_AM_INCOGNITO_AND_I_REALLY_NEED_WEBSQL=function(a,b,c,d){return window.openDatabase(a,b,c,d)};window.openDatabase=function(){throw new Error()}}b(a)})(this);</script><style nonce=\"ilFO5kWe\"></style><script nonce=\"ilFO5kWe\">__DEV__=0;</script><noscript><meta http-equiv=\"refresh\" content=\"0; URL=/?_fb_noscript=1\" /></noscript><link rel=\"manifest\" id=\"MANIFEST_LINK\" href=\"/data/manifest/\" crossorigin=\"use-credentials\" /><title id=\"pageTitle\">Facebook \\xe2\\x80\\x94 \\xd1\\x83\\xd0\\xb2\\xd1\\x96\\xd0\\xb9\\xd0\\xb4\\xd1\\x96\\xd1\\x82\\xd1\\x8c \\xd0\\xb0\\xd0\\xb1\\xd0\\xbe \\xd0\\xb7\\xd0\\xb0\\xd1\\x80\\xd0\\xb5\\xd1\\x94\\xd1\\x81\\xd1\\x82\\xd1\\x80\\xd1\\x83\\xd0\\xb9\\xd1\\x82\\xd0\\xb5\\xd1\\x81\\xd1\\x8f</title><meta property=\"og:site_name\" content=\"Facebook\" /><meta property=\"og:url\" content=\"https://www.facebook.com/\" /><meta property=\"og:image\" content=\"https://www.facebook.com/images/fb_icon_325x325.png\" /><meta property=\"og:locale\" content=\"uk_UA\" /><link rel=\"alternate\" media=\"only screen and (max-width: 640px)\" href=\"https://m.facebook.com/\" /><link rel=\"alternate\" media=\"handheld\" href=\"https://m.facebook.com/\" /><meta name=\"description\" content=\"&#x423;&#x432;&#x456;&#x439;&#x434;&#x456;&#x442;&#x44c; &#x43d;&#x430; Facebook &#x456; &#x441;&#x43f;&#x456;&#x43b;&#x43a;&#x443;&#x439;&#x442;&#x435;&#x441;&#x44f; &#x437;&#x456; &#x441;&#x432;&#x43e;&#x457;&#x43c;&#x438; &#x434;&#x440;&#x443;&#x437;&#x44f;&#x43c;&#x438;, &#x440;&#x43e;&#x434;&#x438;&#x447;&#x430;&#x43c;&#x438; &#x442;&#x430; &#x437;&#x43d;&#x430;&#x439;&#x43e;&#x43c;&#x438;&#x43c;&#x438;.\" /><link rel=\"canonical\" href=\"https://www.facebook.com/\" /><link rel=\"icon\" href=\"https://static.xx.fbcdn.net/rsrc.php/yv/r/B8BxsscfVBr.ico\" /><link type=\"text/css\" rel=\"stylesheet\" href=\"https://static.xx.fbcdn.net/rsrc.php/v3/yg/l/0,cross/FLrC6PYA5yw.css?_nc_x=Ij3Wp8lg5Kz\" data-bootloader-hash=\"GLWoijf\" />\\n<link type=\"text/css\" rel=\"stylesheet\" href=\"https://static.xx.fbcdn.net/rsrc.php/v3/yd/l/0,cross/oKn9zbJ1sXf.css?_nc_x=Ij3Wp8lg5Kz\" data-bootloader-hash=\"b3tE/aE\" />\\n<link type=\"text/css\" rel=\"stylesheet\" href=\"https://static.xx.fbcdn.net/rsrc.php/v3/y0/l/0,cross/FKj-U-yJvWe.css?_nc_x=Ij3Wp8lg5Kz\" data-bootloader-hash=\"FYvfWsA\" />\\n<link type=\"text/css\" rel=\"stylesheet\" href=\"https://static.xx.fbcdn.net/rsrc.php/v3/yl/l/0,cross/NfVsrfz9WPN.css?_nc_x=Ij3Wp8lg5Kz\" data-bootloader-hash=\"AC8VrTj\" />\\n<link type=\"text/css\" rel=\"stylesheet\" href=\"https://static.xx.fbcdn.net/rsrc.php/v3/yH/l/0,cross/0T35mgYjgOT.css?_nc_x=Ij3Wp8lg5Kz\" data-bootloader-hash=\"Xp/Gjz9\" />\\n<script src=\"https://static.xx.fbcdn.net/rsrc.php/v3/yv/r/cMFpxuTBUPf.js?_nc_x=Ij3Wp8lg5Kz\" data-bootloader-hash=\"rFzyveS\" nonce=\"ilFO5kWe\"></script>\\n<script nonce=\"ilFO5kWe\">requireLazy([\"HasteSupportData\"],function(m){m.handle({\"clpData\":{\"1838142\":{\"r\":1,\"s\":1},\"4883\":{\"r\":1,\"s\":1},\"1814852\":{\"r\":1},\"1837559\":{\"r\":1},\"1848815\":{\"r\":10000,\"s\":1}},\"gkxData\":{\"20935\":{\"result\":false,\"hash\":null},\"20939\":{\"result\":true,\"hash\":null},\"20940\":{\"result\":false,\"hash\":null},\"21043\":{\"result\":false,\"hash\":null},\"7742\":{\"result\":false,\"hash\":null},\"20836\":{\"result\":false,\"hash\":null},\"20936\":{\"result\":false,\"hash\":null},\"20948\":{\"result\":true,\"hash\":null},\"25572\":{\"result\":false,\"hash\":null},\"25571\":{\"result\":false,\"hash\":null}}})});requireLazy([\"TimeSliceImpl\",\"ServerJS\"],function(TimeSlice,ServerJS){(new ServerJS()).handle({\"define\":[[\"cr:310\",[\"RunWWW\"],{\"__rc\":[\"RunWWW\",null]},-1],[\"cr:1126\",[\"TimeSliceImpl\"],{\"__rc\":[\"TimeSliceImpl\",null]},-1],[\"cr:6640\",[\"PromiseImpl\"],{\"__rc\":[\"PromiseImpl\",null]},-1],[\"cr:7386\",[\"clearTimeoutWWW\"],{\"__rc\":[\"clearTimeoutWWW\",null]},-1],[\"cr:7390\",[\"setTimeoutWWW\"],{\"__rc\":[\"setTimeoutWWW\",null]},-1],[\"cr:8958\",[\"FBJSON\"],{\"__rc\":[\"FBJSON\",null]},-1],[\"cr:1078\",[],{\"__rc\":[null,null]},-1],[\"cr:1080\",[\"unexpectedUseInComet\"],{\"__rc\":[\"unexpectedUseInComet\",null]},-1],[\"cr:6108\",[\"CSS\"],{\"__rc\":[\"CSS\",null]},-1],[\"cr:7385\",[\"clearIntervalWWW\"],{\"__rc\":[\"clearIntervalWWW\",null]},-1],[\"cr:7389\",[\"setIntervalAcrossTransitionsWWW\"],{\"__rc\":[\"setIntervalAcrossTransitionsWWW\",null]},-1],[\"cr:7391\",[\"setTimeoutAcrossTransitionsWWW\"],{\"__rc\":[\"setTimeoutAcrossTransitionsWWW\",null]},-1],[\"cr:7936\",[\"BlueCompatRouter\"],{\"__rc\":[\"BlueCompatRouter\",null]},-1],[\"cr:8959\",[\"DTSG\"],{\"__rc\":[\"DTSG\",null]},-1],[\"cr:8960\",[\"DTSG_ASYNC\"],{\"__rc\":[\"DTSG_ASYNC\",null]},-1],[\"cr:696703\",[],{\"__rc\":[null,null]},-1],[\"cr:708886\",[\"EventProfilerImpl\"],{\"__rc\":[\"EventProfilerImpl\",null]},-1],[\"cr:135\",[\"RunBlue\"],{\"__rc\":[\"RunBlue\",null]},-1],[\"cr:6669\",[\"DataStore\"],{\"__rc\":[\"DataStore\",null]},-1],[\"ServerNonce\",[],{\"ServerNonce\":\"m8oVlD9HZeZdeyi0wz6dru\"},141],[\"KSConfig\",[],{\"killed\":{\"__set\":[\"POCKET_MONSTERS_CREATE\",\"POCKET_MONSTERS_DELETE\",\"WORKPLACE_PLATFORM_SECURE_APPS_MAILBOXES\",\"POCKET_MONSTERS_UPDATE_NAME\",\"TPA_SRT_TRANSLATION\",\"WORKROOMS_REQUEST_TAGGING_TAG_NO_INIT_BY_VC_GALAXY\"]},\"ko\":{\"__set\":[\"acrJTh9WGdp\",\"1oOE64fL4wO\",\"5XCz1h9Iaw3\",\"7r6mSP7ofr2\",\"3sKizTQ6byg\",\"6XsXQ2qHw8y\"]}},2580],[\"InitialCookieConsent\",[],{\"deferCookies\":false,\"initialConsent\":[1,2],\"noCookies\":false,\"shouldShowCookieBanner\":false,\"shouldWaitForDeferredDatrCookie\":false},4328],[\"CookieConsentIFrameConfig\",[],{\"consent_param\":\"FQAREhISAA==.ARYTEGzMmITqB3s2U9PFeZABpbPYyZXRzpCuxBbb08YR1lEk\",\"allowlisted_iframes\":[],\"is_checkpointed\":false},5540],[\"ServerTimeData\",[],{\"serverTime\":1710503946147,\"timeOfRequestStart\":1710503946129.3,\"timeOfResponseStart\":1710503946129.3},5943],[\"URLFragmentPreludeConfig\",[],{\"hashtagRedirect\":true,\"fragBlacklist\":[\"nonce\",\"access_token\",\"oauth_token\",\"xs\",\"checkpoint_data\",\"code\"]},137],[\"CometPersistQueryParams\",[],{\"relative\":{},\"domain\":{}},6231],[\"CookieDomain\",[],{\"domain\":\"facebook.com\"},6421],[\"GetAsyncParamsExtraData\",[],{\"extra_data\":{}},7511],[\"BootloaderConfig\",[],{\"deferBootloads\":false,\"jsRetries\":[200,500],\"jsRetryAbortNum\":2,\"jsRetryAbortTime\":5,\"silentDups\":false,\"timeout\":60000,\"tieredLoadingFromTier\":100,\"hypStep4\":false,\"phdOn\":false,\"btCutoffIndex\":2392,\"fastPathForAlreadyRequired\":true,\"earlyRequireLazy\":false,\"enableTimeoutLoggingForNonComet\":false,\"deferLongTailManifest\":true,\"lazySoT\":false,\"translationRetries\":[200,500],\"translationRetryAbortNum\":3,\"translationRetryAbortTime\":50},329],[\"CSSLoaderConfig\",[],{\"timeout\":5000,\"modulePrefix\":\"BLCSS:\",\"forcePollForBootloader\":true},619],[\"CookieCoreConfig\",[],{\"c_user\":{\"t\":31536000},\"cppo\":{\"t\":86400},\"dpr\":{\"t\":604800},\"fbl_ci\":{\"t\":31536000},\"fbl_cs\":{\"t\":31536000},\"fbl_st\":{\"t\":31536000},\"i_user\":{\"t\":31536000},\"locale\":{\"t\":604800},\"m_ls\":{\"t\":34560000},\"m_pixel_ratio\":{\"t\":604800},\"noscript\":{},\"presence\":{\"t\":2592000},\"sfau\":{},\"usida\":{},\"vpd\":{\"t\":5184000},\"wd\":{\"t\":604800},\"wl_cbv\":{\"t\":7776000},\"x-referer\":{},\"x-src\":{\"t\":1}},2104],[\"CurrentUserInitialData\",[],{\"ACCOUNT_ID\":\"0\",\"USER_ID\":\"0\",\"NAME\":\"\",\"SHORT_NAME\":null,\"IS_BUSINESS_PERSON_ACCOUNT\":false,\"HAS_SECONDARY_BUSINESS_PERSON\":false,\"IS_FACEBOOK_WORK_ACCOUNT\":false,\"IS_MESSENGER_ONLY_USER\":false,\"IS_DEACTIVATED_ALLOWED_ON_MESSENGER\":false,\"IS_MESSENGER_CALL_GUEST_USER\":false,\"IS_WORK_MESSENGER_CALL_GUEST_USER\":false,\"IS_WORKROOMS_USER\":false,\"APP_ID\":\"256281040558\",\"IS_BUSINESS_DOMAIN\":false},270],[\"LSD\",[],{\"token\":\"AVozPHOHvnM\"},323],[\"SiteData\",[],{\"server_revision\":1012081852,\"client_revision\":1012081852,\"push_phase\":\"C3\",\"pkg_cohort\":\"BP:DEFAULT\",\"haste_session\":\"19797.BP:DEFAULT.2.0..0.0\",\"pr\":1,\"manifest_base_uri\":\"https:\\\\/\\\\/static.xx.fbcdn.net\",\"manifest_origin\":null,\"manifest_version_prefix\":null,\"be_one_ahead\":false,\"is_rtl\":false,\"is_experimental_tier\":false,\"is_jit_warmed_up\":true,\"hsi\":\"7346558509539627150\",\"semr_host_bucket\":\"15\",\"bl_hash_version\":2,\"comet_env\":0,\"wbloks_env\":false,\"ef_page\":null,\"compose_bootloads\":false,\"spin\":4,\"__spin_r\":1012081852,\"__spin_b\":\"trunk\",\"__spin_t\":1710503946,\"vip\":\"157.240.224.35\"},317],[\"SprinkleConfig\",[],{\"param_name\":\"jazoest\",\"version\":2,\"should_randomize\":false},2111],[\"UserAgentData\",[],{\"browserArchitecture\":\"32\",\"browserFullVersion\":null,\"browserMinorVersion\":null,\"browserName\":\"Unknown\",\"browserVersion\":null,\"deviceName\":\"Unknown\",\"engineName\":\"Unknown\",\"engineVersion\":null,\"platformArchitecture\":\"32\",\"platformName\":\"Unknown\",\"platformVersion\":null,\"platformFullVersion\":null},527],[\"PromiseUsePolyfillSetImmediateGK\",[],{\"www_always_use_polyfill_setimmediate\":false},2190],[\"JSErrorLoggingConfig\",[],{\"appId\":256281040558,\"extra\":[],\"reportInterval\":50,\"sampleWeight\":null,\"sampleWeightKey\":\"__jssesw\",\"projectBlocklist\":[]},2776],[\"DataStoreConfig\",[],{\"expandoKey\":\"__FB_STORE\",\"useExpando\":true},2915],[\"CookieCoreLoggingConfig\",[],{\"maximumIgnorableStallMs\":16.67,\"sampleRate\":9.7e-5,\"sampleRateClassic\":1.0e-10,\"sampleRateFastStale\":1.0e-8},3401],[\"ImmediateImplementationExperiments\",[],{\"prefer_message_channel\":true},3419],[\"UriNeedRawQuerySVConfig\",[],{\"uris\":[\"dms.netmng.com\",\"doubleclick.net\",\"r.msn.com\",\"watchit.sky.com\",\"graphite.instagram.com\",\"www.kfc.co.th\",\"learn.pantheon.io\",\"www.landmarkshops.in\",\"www.ncl.com\",\"s0.wp.com\",\"www.tatacliq.com\",\"bs.serving-sys.com\",\"kohls.com\",\"lazada.co.th\",\"xg4ken.com\",\"technopark.ru\",\"officedepot.com.mx\",\"bestbuy.com.mx\",\"booking.com\",\"nibio.no\",\"myworkdayjobs.com\",\"united-united.com\"]},3871],[\"WebConnectionClassServerGuess\",[],{\"connectionClass\":\"EXCELLENT\"},4705],[\"BootloaderEndpointConfig\",[],{\"debugNoBatching\":false,\"maxBatchSize\":-1,\"endpointURI\":\"https:\\\\/\\\\/www.facebook.com\\\\/ajax\\\\/bootloader-endpoint\\\\/\"},5094],[\"BigPipeExperiments\",[],{\"link_images_to_pagelets\":false,\"enable_bigpipe_plugins\":false},907],[\"cr:7730\",[\"getFbtResult\"],{\"__rc\":[\"getFbtResult\",null]},-1],[\"cr:8906\",[\"goURIWWW\"],{\"__rc\":[\"goURIWWW\",null]},-1],[\"cr:925100\",[\"RunBlue\"],{\"__rc\":[\"RunBlue\",null]},-1],[\"cr:806696\",[\"clearTimeoutBlue\"],{\"__rc\":[\"clearTimeoutBlue\",null]},-1],[\"cr:807042\",[\"setTimeoutBlue\"],{\"__rc\":[\"setTimeoutBlue\",null]},-1],[\"cr:1003267\",[\"clearIntervalBlue\"],{\"__rc\":[\"clearIntervalBlue\",null]},-1],[\"cr:896462\",[\"setIntervalAcrossTransitionsBlue\"],{\"__rc\":[\"setIntervalAcrossTransitionsBlue\",null]},-1],[\"cr:986633\",[\"setTimeoutAcrossTransitionsBlue\"],{\"__rc\":[\"setTimeoutAcrossTransitionsBlue\",null]},-1],[\"cr:6799\",[\"EventProfilerAdsSessionProvider\"],{\"__rc\":[\"EventProfilerAdsSessionProvider\",null]},-1],[\"IntlVariationHoldout\",[],{\"disable_variation\":false},6533],[\"IntlNumberTypeProps\",[\"IntlCLDRNumberType30\"],{\"module\":{\"__m\":\"IntlCLDRNumberType30\"}},7027],[\"AsyncRequestConfig\",[],{\"retryOnNetworkError\":\"1\",\"useFetchStreamAjaxPipeTransport\":false},328],[\"DTSGInitialData\",[],{},258],[\"IntlPhonologicalRules\",[],{\"meta\":{},\"patterns\":{}},1496],[\"IntlViewerContext\",[],{\"GENDER\":3,\"regionalLocale\":null},772],[\"NumberFormatConfig\",[],{\"decimalSeparator\":\",\",\"numberDelimiter\":\"\\\\u00a0\",\"minDigitsForThousandsSeparator\":4,\"standardDecimalPatternInfo\":{\"primaryGroupSize\":3,\"secondaryGroupSize\":3},\"numberingSystemData\":null},54],[\"SessionNameConfig\",[],{\"seed\":\"2rKk\"},757],[\"ZeroCategoryHeader\",[],{},1127],[\"ZeroRewriteRules\",[],{\"rewrite_rules\":{},\"whitelist\":{\"\\\\/hr\\\\/r\":1,\"\\\\/hr\\\\/p\":1,\"\\\\/zero\\\\/unsupported_browser\\\\/\":1,\"\\\\/zero\\\\/policy\\\\/optin\":1,\"\\\\/zero\\\\/optin\\\\/write\\\\/\":1,\"\\\\/zero\\\\/optin\\\\/legal\\\\/\":1,\"\\\\/zero\\\\/optin\\\\/free\\\\/\":1,\"\\\\/about\\\\/privacy\\\\/\":1,\"\\\\/about\\\\/privacy\\\\/update\\\\/\":1,\"\\\\/privacy\\\\/explanation\\\\/\":1,\"\\\\/zero\\\\/toggle\\\\/welcome\\\\/\":1,\"\\\\/zero\\\\/toggle\\\\/nux\\\\/\":1,\"\\\\/zero\\\\/toggle\\\\/settings\\\\/\":1,\"\\\\/fup\\\\/interstitial\\\\/\":1,\"\\\\/work\\\\/landing\":1,\"\\\\/work\\\\/login\\\\/\":1,\"\\\\/work\\\\/email\\\\/\":1,\"\\\\/ai.php\":1,\"\\\\/js_dialog_resources\\\\/dialog_descriptions_android.json\":0,\"\\\\/connect\\\\/jsdialog\\\\/MPlatformAppInvitesJSDialog\\\\/\":0,\"\\\\/connect\\\\/jsdialog\\\\/MPlatformOAuthShimJSDialog\\\\/\":0,\"\\\\/connect\\\\/jsdialog\\\\/MPlatformLikeJSDialog\\\\/\":0,\"\\\\/qp\\\\/interstitial\\\\/\":1,\"\\\\/qp\\\\/action\\\\/redirect\\\\/\":1,\"\\\\/qp\\\\/action\\\\/close\\\\/\":1,\"\\\\/zero\\\\/support\\\\/ineligible\\\\/\":1,\"\\\\/zero_balance_redirect\\\\/\":1,\"\\\\/zero_balance_redirect\":1,\"\\\\/zero_balance_redirect\\\\/l\\\\/\":1,\"\\\\/l.php\":1,\"\\\\/lsr.php\":1,\"\\\\/ajax\\\\/dtsg\\\\/\":1,\"\\\\/checkpoint\\\\/block\\\\/\":1,\"\\\\/exitdsite\":1,\"\\\\/zero\\\\/balance\\\\/pixel\\\\/\":1,\"\\\\/zero\\\\/balance\\\\/\":1,\"\\\\/zero\\\\/balance\\\\/carrier_landing\\\\/\":1,\"\\\\/zero\\\\/flex\\\\/logging\\\\/\":1,\"\\\\/tr\":1,\"\\\\/tr\\\\/\":1,\"\\\\/sem_campaigns\\\\/sem_pixel_test\\\\/\":1,\"\\\\/bookmarks\\\\/flyout\\\\/body\\\\/\":1,\"\\\\/zero\\\\/subno\\\\/\":1,\"\\\\/confirmemail.php\":1,\"\\\\/policies\\\\/\":1,\"\\\\/mobile\\\\/internetdotorg\\\\/classifier\\\\/\":1,\"\\\\/zero\\\\/dogfooding\":1,\"\\\\/xti.php\":1,\"\\\\/zero\\\\/fblite\\\\/config\\\\/\":1,\"\\\\/hr\\\\/zsh\\\\/wc\\\\/\":1,\"\\\\/ajax\\\\/bootloader-endpoint\\\\/\":1,\"\\\\/mobile\\\\/zero\\\\/carrier_page\\\\/\":1,\"\\\\/mobile\\\\/zero\\\\/carrier_page\\\\/education_page\\\\/\":1,\"\\\\/mobile\\\\/zero\\\\/carrier_page\\\\/feature_switch\\\\/\":1,\"\\\\/mobile\\\\/zero\\\\/carrier_page\\\\/settings_page\\\\/\":1,\"\\\\/aloha_check_build\":1,\"\\\\/upsell\\\\/zbd\\\\/softnudge\\\\/\":1,\"\\\\/mobile\\\\/zero\\\\/af_transition\\\\/\":1,\"\\\\/mobile\\\\/zero\\\\/af_transition\\\\/action\\\\/\":1,\"\\\\/mobile\\\\/zero\\\\/freemium\\\\/\":1,\"\\\\/mobile\\\\/zero\\\\/freemium\\\\/redirect\\\\/\":1,\"\\\\/mobile\\\\/zero\\\\/freemium\\\\/zero_fup\\\\/\":1,\"\\\\/privacy\\\\/policy\\\\/\":1,\"\\\\/privacy\\\\/center\\\\/\":1,\"\\\\/data\\\\/manifest\\\\/\":1,\"\\\\/4oh4.php\":1,\"\\\\/autologin.php\":1,\"\\\\/birthday_help.php\":1,\"\\\\/checkpoint\\\\/\":1,\"\\\\/contact-importer\\\\/\":1,\"\\\\/cr.php\":1,\"\\\\/legal\\\\/terms\\\\/\":1,\"\\\\/login.php\":1,\"\\\\/login\\\\/\":1,\"\\\\/mobile\\\\/account\\\\/\":1,\"\\\\/n\\\\/\":1,\"\\\\/remote_test_device\\\\/\":1,\"\\\\/upsell\\\\/buy\\\\/\":1,\"\\\\/upsell\\\\/buyconfirm\\\\/\":1,\"\\\\/upsell\\\\/buyresult\\\\/\":1,\"\\\\/upsell\\\\/promos\\\\/\":1,\"\\\\/upsell\\\\/continue\\\\/\":1,\"\\\\/upsell\\\\/h\\\\/promos\\\\/\":1,\"\\\\/upsell\\\\/loan\\\\/learnmore\\\\/\":1,\"\\\\/upsell\\\\/purchase\\\\/\":1,\"\\\\/upsell\\\\/promos\\\\/upgrade\\\\/\":1,\"\\\\/upsell\\\\/buy_redirect\\\\/\":1,\"\\\\/upsell\\\\/loan\\\\/buyconfirm\\\\/\":1,\"\\\\/upsell\\\\/loan\\\\/buy\\\\/\":1,\"\\\\/upsell\\\\/sms\\\\/\":1,\"\\\\/wap\\\\/a\\\\/channel\\\\/reconnect.php\":1,\"\\\\/wap\\\\/a\\\\/nux\\\\/wizard\\\\/nav.php\":1,\"\\\\/wap\\\\/appreg.php\":1,\"\\\\/wap\\\\/birthday_help.php\":1,\"\\\\/wap\\\\/c.php\":1,\"\\\\/wap\\\\/confirmemail.php\":1,\"\\\\/wap\\\\/cr.php\":1,\"\\\\/wap\\\\/login.php\":1,\"\\\\/wap\\\\/r.php\":1,\"\\\\/zero\\\\/datapolicy\":1,\"\\\\/a\\\\/timezone.php\":1,\"\\\\/a\\\\/bz\":1,\"\\\\/bz\\\\/reliability\":1,\"\\\\/r.php\":1,\"\\\\/mr\\\\/\":1,\"\\\\/reg\\\\/\":1,\"\\\\/registration\\\\/log\\\\/\":1,\"\\\\/terms\\\\/\":1,\"\\\\/f123\\\\/\":1,\"\\\\/expert\\\\/\":1,\"\\\\/experts\\\\/\":1,\"\\\\/terms\\\\/index.php\":1,\"\\\\/terms.php\":1,\"\\\\/srr\\\\/\":1,\"\\\\/msite\\\\/redirect\\\\/\":1,\"\\\\/fbs\\\\/pixel\\\\/\":1,\"\\\\/contactpoint\\\\/preconfirmation\\\\/\":1,\"\\\\/contactpoint\\\\/cliff\\\\/\":1,\"\\\\/contactpoint\\\\/confirm\\\\/submit\\\\/\":1,\"\\\\/contactpoint\\\\/confirmed\\\\/\":1,\"\\\\/contactpoint\\\\/login\\\\/\":1,\"\\\\/preconfirmation\\\\/contactpoint_change\\\\/\":1,\"\\\\/help\\\\/contact\\\\/\":1,\"\\\\/survey\\\\/\":1,\"\\\\/upsell\\\\/loyaltytopup\\\\/accept\\\\/\":1,\"\\\\/settings\\\\/\":1,\"\\\\/lite\\\\/\":1,\"\\\\/zero_status_update\\\\/\":1,\"\\\\/operator_store\\\\/\":1,\"\\\\/upsell\\\\/\":1,\"\\\\/wifiauth\\\\/login\\\\/\":1}},1478],[\"DTSGInitData\",[],{\"token\":\"\",\"async_get_token\":\"\"},3515],[\"WebDriverConfig\",[],{\"isTestRunning\":false,\"isJestE2ETestRun\":false,\"isXRequestConfigEnabled\":false,\"auxiliaryServiceInfo\":{},\"testPath\":null,\"originHost\":null},5332],[\"CurrentEnvironment\",[],{\"facebookdotcom\":true,\"messengerdotcom\":false,\"workplacedotcom\":false,\"instagramdotcom\":false,\"workdotmetadotcom\":false,\"horizondotmetadotcom\":false},827],[\"CometAltpayJsSdkIframeAllowedDomains\",[],{\"allowed_domains\":[\"https:\\\\/\\\\/live.adyen.com\",\"https:\\\\/\\\\/integration-facebook.payu.in\",\"https:\\\\/\\\\/facebook.payulatam.com\",\"https:\\\\/\\\\/secure.payu.com\",\"https:\\\\/\\\\/facebook.dlocal.com\",\"https:\\\\/\\\\/buy2.boku.com\"]},4920],[\"EventConfig\",[],{\"sampling\":{\"bandwidth\":0,\"play\":0,\"playing\":0,\"progress\":0,\"pause\":0,\"ended\":0,\"seeked\":0,\"seeking\":0,\"waiting\":0,\"loadedmetadata\":0,\"canplay\":0,\"selectionchange\":0,\"change\":0,\"timeupdate\":0,\"adaptation\":0,\"focus\":0,\"blur\":0,\"load\":0,\"error\":0,\"message\":0,\"abort\":0,\"storage\":0,\"scroll\":200000,\"mousemove\":20000,\"mouseover\":10000,\"mouseout\":10000,\"mousewheel\":1,\"MSPointerMove\":10000,\"keydown\":0.1,\"click\":0.02,\"mouseup\":0.02,\"__100ms\":0.001,\"__default\":5000,\"__min\":100,\"__interactionDefault\":200,\"__eventDefault\":100000},\"page_sampling_boost\":1,\"interaction_regexes\":{},\"interaction_boost\":{},\"event_types\":{},\"manual_instrumentation\":false,\"profile_eager_execution\":false,\"disable_heuristic\":true,\"disable_event_profiler\":false},1726],[\"cr:1290\",[],{\"__rc\":[null,null]},-1],[\"cr:1094907\",[],{\"__rc\":[null,null]},-1],[\"cr:1183579\",[\"InlineFbtResultImpl\"],{\"__rc\":[\"InlineFbtResultImpl\",null]},-1],[\"FbtResultGK\",[],{\"shouldReturnFbtResult\":true,\"inlineMode\":\"NO_INLINE\"},876],[\"AdsInterfacesSessionConfig\",[],{},2393],[\"FbtQTOverrides\",[],{\"overrides\":{}},551],[\"AnalyticsCoreData\",[],{\"device_id\":\"$^|AcaqNMucxyMaNf51dIQSJO2u8i8uwooBtUYh6pgPHvn7Jmn9V0DbpOsIOtFW1oTbmtEDeagaVYoiC_-P_j2_fja6kAQVWfz0bA|fd.AcYNVVlBuDUwruwjPnbYpn66JPAT7ceKHvZZNgy012NfO59CzMTkvjgNMS99jBFnWgkdoPQoIMT3uwpw2XGz4hW5\",\"app_id\":\"256281040558\",\"enable_bladerunner\":false,\"enable_ack\":true,\"push_phase\":\"C3\",\"enable_observer\":false,\"enable_cmcd_observer\":false,\"enable_dataloss_timer\":false,\"enable_fallback_for_br\":true,\"queue_activation_experiment\":false,\"max_delay_br_queue\":60000,\"max_delay_br_queue_immediate\":3,\"max_delay_br_init_not_complete\":3000,\"consents\":{},\"app_universe\":1,\"br_stateful_migration_on\":true,\"enable_non_fb_br_stateless_by_default\":false,\"use_falco_as_mutex_key\":false},5237]],\"require\":[[\"markJSEnabled\"],[\"lowerDomain\"],[\"URLFragmentPrelude\"],[\"Primer\"],[\"BigPipe\"],[\"Bootloader\"],[\"TimeSlice\"],[\"AsyncRequest\"],[\"FbtLogging\"],[\"IntlQtEventFalcoEvent\"],[\"RequireDeferredReference\",\"unblock\",[],[[\"AsyncRequest\",\"FbtLogging\",\"IntlQtEventFalcoEvent\"],\"sd\"]],[\"RequireDeferredReference\",\"unblock\",[],[[\"AsyncRequest\",\"FbtLogging\",\"IntlQtEventFalcoEvent\"],\"css\"]]]});});</script></head><body class=\"fbIndex UIPage_LoggedOut _-kb _605a b_c3pyn-ahh x1 Locale_uk_UA\" dir=\"ltr\"><script type=\"text/javascript\" nonce=\"ilFO5kWe\">requireLazy([\"bootstrapWebSession\"],function(j){j(1710503946)})</script><div class=\"_li\" id=\"u_0_1_IW\"><div id=\"globalContainer\" class=\"uiContextualLayerParent\"><div class=\"fb_content clearfix \" id=\"content\" role=\"main\"><div><div class=\"_8esj _95k9 _8esf _8opv _8f3m _8ilg _8icx _8op_ _95ka\"><div class=\"_8esk\"><div class=\"_8esl\"><div class=\"_8ice\"><img class=\"fb_logo _8ilh img\" src=\"https://static.xx.fbcdn.net/rsrc.php/y1/r/4lCu2zih0ca.svg\" alt=\"Facebook\" /></div><h2 class=\"_8eso\">Facebook \\xd0\\xb4\\xd0\\xbe\\xd0\\xbf\\xd0\\xbe\\xd0\\xbc\\xd0\\xb0\\xd0\\xb3\\xd0\\xb0\\xd1\\x94 \\xd1\\x82\\xd1\\x80\\xd0\\xb8\\xd0\\xbc\\xd0\\xb0\\xd1\\x82\\xd0\\xb8 \\xd0\\xb7\\xd0\\xb2&#039;\\xd1\\x8f\\xd0\\xb7\\xd0\\xbe\\xd0\\xba \\xd0\\xb7 \\xd1\\x80\\xd1\\x96\\xd0\\xb4\\xd0\\xbd\\xd0\\xb8\\xd0\\xbc\\xd0\\xb8 \\xd1\\x82\\xd0\\xb0 \\xd0\\xb1\\xd0\\xbb\\xd0\\xb8\\xd0\\xb7\\xd1\\x8c\\xd0\\xba\\xd0\\xb8\\xd0\\xbc\\xd0\\xb8.</h2></div><div class=\"_8esn\"><div class=\"_8iep _8icy _9ahz _9ah-\"><div class=\"_6luv _52jv\"><form class=\"_9vtf\" data-testid=\"royal_login_form\" action=\"/login/?privacy_mutation_token=eyJ0eXBlIjowLCJjcmVhdGlvbl90aW1lIjoxNzEwNTAzOTQ2LCJjYWxsc2l0ZV9pZCI6MzgxMjI5MDc5NTc1OTQ2fQ%3D%3D\" method=\"post\" onsubmit=\"\" id=\"u_0_2_lG\"><input type=\"hidden\" name=\"jazoest\" value=\"2992\" autocomplete=\"off\" /><input type=\"hidden\" name=\"lsd\" value=\"AVozPHOHvnM\" autocomplete=\"off\" /><div><div class=\"_6lux\"><input type=\"text\" class=\"inputtext _55r1 _6luy\" name=\"email\" id=\"email\" data-testid=\"royal_email\" placeholder=\"&#x415;&#x43b;&#x435;&#x43a;&#x442;&#x440;&#x43e;&#x43d;&#x43d;&#x430; &#x430;&#x434;&#x440;&#x435;&#x441;&#x430; &#x430;&#x431;&#x43e; &#x43d;&#x43e;&#x43c;&#x435;&#x440; &#x442;&#x435;&#x43b;&#x435;&#x444;&#x43e;&#x43d;&#x443;\" autofocus=\"1\" aria-label=\"&#x415;&#x43b;&#x435;&#x43a;&#x442;&#x440;&#x43e;&#x43d;&#x43d;&#x430; &#x430;&#x434;&#x440;&#x435;&#x441;&#x430; &#x430;&#x431;&#x43e; &#x43d;&#x43e;&#x43c;&#x435;&#x440; &#x442;&#x435;&#x43b;&#x435;&#x444;&#x43e;&#x43d;&#x443;\" /></div><div class=\"_6lux\"><div class=\"_6luy _55r1 _1kbt\" id=\"passContainer\"><input type=\"password\" class=\"inputtext _55r1 _6luy _9npi\" name=\"pass\" id=\"pass\" data-testid=\"royal_pass\" placeholder=\"&#x41f;&#x430;&#x440;&#x43e;&#x43b;&#x44c;\" aria-label=\"&#x41f;&#x430;&#x440;&#x43e;&#x43b;&#x44c;\" /><div class=\"_9ls7\" id=\"u_0_3_jn\"><a href=\"#\" role=\"button\"><div class=\"_9lsa\"><div class=\"_9lsb\" id=\"u_0_4_0F\"></div></div></a></div></div></div></div><input type=\"hidden\" autocomplete=\"off\" name=\"login_source\" value=\"comet_headerless_login\" /><input type=\"hidden\" autocomplete=\"off\" name=\"next\" value=\"\" /><div class=\"_6ltg\"><button value=\"1\" class=\"_42ft _4jy0 _6lth _4jy6 _4jy1 selected _51sy\" name=\"login\" data-testid=\"royal_login_button\" type=\"submit\" id=\"u_0_5_9Y\">\\xd0\\xa3\\xd0\\xb2\\xd1\\x96\\xd0\\xb9\\xd1\\x82\\xd0\\xb8</button></div><div class=\"_6ltj\"><a href=\"https://www.facebook.com/recover/initiate/?privacy_mutation_token=eyJ0eXBlIjowLCJjcmVhdGlvbl90aW1lIjoxNzEwNTAzOTQ2LCJjYWxsc2l0ZV9pZCI6MzgxMjI5MDc5NTc1OTQ2fQ%3D%3D&amp;ars=facebook_login\">\\xd0\\x97\\xd0\\xb0\\xd0\\xb1\\xd1\\x83\\xd0\\xbb\\xd0\\xb8 \\xd0\\xbf\\xd0\\xb0\\xd1\\x80\\xd0\\xbe\\xd0\\xbb\\xd1\\x8c?</a></div><div class=\"_8icz\"></div><div class=\"_6ltg\"><a role=\"button\" class=\"_42ft _4jy0 _6lti _4jy6 _4jy2 selected _51sy\" href=\"#\" ajaxify=\"/reg/spotlight/\" id=\"u_0_0_Hu\" data-testid=\"open-registration-form-button\" rel=\"async\">\\xd0\\xa1\\xd1\\x82\\xd0\\xb2\\xd0\\xbe\\xd1\\x80\\xd0\\xb8\\xd1\\x82\\xd0\\xb8 \\xd0\\xbe\\xd0\\xb1\\xd0\\xbb\\xd1\\x96\\xd0\\xba\\xd0\\xbe\\xd0\\xb2\\xd0\\xb8\\xd0\\xb9 \\xd0\\xb7\\xd0\\xb0\\xd0\\xbf\\xd0\\xb8\\xd1\\x81</a></div></form></div><div id=\"reg_pages_msg\" class=\"_58mk\"><a href=\"/pages/create/?ref_type=registration_form\" class=\"_8esh\">\\xd0\\xa1\\xd1\\x82\\xd0\\xb2\\xd0\\xbe\\xd1\\x80\\xd0\\xb8\\xd1\\x82\\xd0\\xb8 \\xd1\\x81\\xd1\\x82\\xd0\\xbe\\xd1\\x80\\xd1\\x96\\xd0\\xbd\\xd0\\xba\\xd1\\x83</a> \\xd0\\xb4\\xd0\\xbb\\xd1\\x8f \\xd0\\xb7\\xd0\\xbd\\xd0\\xb0\\xd0\\xbc\\xd0\\xb5\\xd0\\xbd\\xd0\\xb8\\xd1\\x82\\xd0\\xbe\\xd1\\x81\\xd1\\x82\\xd1\\x96, \\xd0\\xb1\\xd1\\x80\\xd0\\xb5\\xd0\\xbd\\xd0\\xb4\\xd1\\x83 \\xd1\\x87\\xd0\\xb8 \\xd0\\xba\\xd0\\xbe\\xd0\\xbc\\xd0\\xbf\\xd0\\xb0\\xd0\\xbd\\xd1\\x96\\xd1\\x97.</div></div></div></div></div></div></div><div class=\"\"><div class=\"_95ke _8opy\"><div id=\"pageFooter\" data-referrer=\"page_footer\" data-testid=\"page_footer\"><ul class=\"uiList localeSelectorList _2pid _509- _4ki _6-h _6-j _6-i\" data-nocookies=\"1\"><li>\\xd0\\xa3\\xd0\\xba\\xd1\\x80\\xd0\\xb0\\xd1\\x97\\xd0\\xbd\\xd1\\x81\\xd1\\x8c\\xd0\\xba\\xd0\\xb0</li><li><a class=\"_sv4\" dir=\"ltr\" href=\"https://ru-ru.facebook.com/\" onclick=\"require(&quot;IntlUtils&quot;).setCookieLocale(&quot;ru_RU&quot;, &quot;uk_UA&quot;, &quot;https:\\\\/\\\\/ru-ru.facebook.com\\\\/&quot;, &quot;www_list_selector&quot;, 0); return false;\" title=\"Russian\">\\xd0\\xa0\\xd1\\x83\\xd1\\x81\\xd1\\x81\\xd0\\xba\\xd0\\xb8\\xd0\\xb9</a></li><li><a class=\"_sv4\" dir=\"ltr\" href=\"https://www.facebook.com/\" onclick=\"require(&quot;IntlUtils&quot;).setCookieLocale(&quot;en_US&quot;, &quot;uk_UA&quot;, &quot;https:\\\\/\\\\/www.facebook.com\\\\/&quot;, &quot;www_list_selector&quot;, 1); return false;\" title=\"English (US)\">English (US)</a></li><li><a class=\"_sv4\" dir=\"ltr\" href=\"https://hu-hu.facebook.com/\" onclick=\"require(&quot;IntlUtils&quot;).setCookieLocale(&quot;hu_HU&quot;, &quot;uk_UA&quot;, &quot;https:\\\\/\\\\/hu-hu.facebook.com\\\\/&quot;, &quot;www_list_selector&quot;, 2); return false;\" title=\"Hungarian\">Magyar</a></li><li><a class=\"_sv4\" dir=\"rtl\" href=\"https://ar-ar.facebook.com/\" onclick=\"require(&quot;IntlUtils&quot;).setCookieLocale(&quot;ar_AR&quot;, &quot;uk_UA&quot;, &quot;https:\\\\/\\\\/ar-ar.facebook.com\\\\/&quot;, &quot;www_list_selector&quot;, 3); return false;\" title=\"Arabic\">\\xd8\\xa7\\xd9\\x84\\xd8\\xb9\\xd8\\xb1\\xd8\\xa8\\xd9\\x8a\\xd8\\xa9</a></li><li><a class=\"_sv4\" dir=\"ltr\" href=\"https://fr-fr.facebook.com/\" onclick=\"require(&quot;IntlUtils&quot;).setCookieLocale(&quot;fr_FR&quot;, &quot;uk_UA&quot;, &quot;https:\\\\/\\\\/fr-fr.facebook.com\\\\/&quot;, &quot;www_list_selector&quot;, 4); return false;\" title=\"French (France)\">Fran\\xc3\\xa7ais (France)</a></li><li><a class=\"_sv4\" dir=\"ltr\" href=\"https://tr-tr.facebook.com/\" onclick=\"require(&quot;IntlUtils&quot;).setCookieLocale(&quot;tr_TR&quot;, &quot;uk_UA&quot;, &quot;https:\\\\/\\\\/tr-tr.facebook.com\\\\/&quot;, &quot;www_list_selector&quot;, 5); return false;\" title=\"Turkish\">T\\xc3\\xbcrk\\xc3\\xa7e</a></li><li><a class=\"_sv4\" dir=\"ltr\" href=\"https://vi-vn.facebook.com/\" onclick=\"require(&quot;IntlUtils&quot;).setCookieLocale(&quot;vi_VN&quot;, &quot;uk_UA&quot;, &quot;https:\\\\/\\\\/vi-vn.facebook.com\\\\/&quot;, &quot;www_list_selector&quot;, 6); return false;\" title=\"Vietnamese\">Ti\\xe1\\xba\\xbfng Vi\\xe1\\xbb\\x87t</a></li><li><a class=\"_sv4\" dir=\"ltr\" href=\"https://pl-pl.facebook.com/\" onclick=\"require(&quot;IntlUtils&quot;).setCookieLocale(&quot;pl_PL&quot;, &quot;uk_UA&quot;, &quot;https:\\\\/\\\\/pl-pl.facebook.com\\\\/&quot;, &quot;www_list_selector&quot;, 7); return false;\" title=\"Polish\">Polski</a></li><li><a class=\"_sv4\" dir=\"ltr\" href=\"https://es-la.facebook.com/\" onclick=\"require(&quot;IntlUtils&quot;).setCookieLocale(&quot;es_LA&quot;, &quot;uk_UA&quot;, &quot;https:\\\\/\\\\/es-la.facebook.com\\\\/&quot;, &quot;www_list_selector&quot;, 8); return false;\" title=\"Spanish\">Espa\\xc3\\xb1ol</a></li><li><a class=\"_sv4\" dir=\"ltr\" href=\"https://pt-br.facebook.com/\" onclick=\"require(&quot;IntlUtils&quot;).setCookieLocale(&quot;pt_BR&quot;, &quot;uk_UA&quot;, &quot;https:\\\\/\\\\/pt-br.facebook.com\\\\/&quot;, &quot;www_list_selector&quot;, 9); return false;\" title=\"Portuguese (Brazil)\">Portugu\\xc3\\xaas (Brasil)</a></li><li><a role=\"button\" class=\"_42ft _4jy0 _517i _517h _51sy\" rel=\"dialog\" ajaxify=\"/settings/language/language/?uri=https%3A%2F%2Fpt-br.facebook.com%2F&amp;source=www_list_selector_more\" href=\"#\" title=\"&#x406;&#x43d;&#x448;&#x456; &#x43c;&#x43e;&#x432;&#x438;\"><i class=\"img sp_RWRH0hRwEXV sx_136e18\"></i></a></li></ul><div id=\"contentCurve\"></div><div id=\"pageFooterChildren\" role=\"contentinfo\" aria-label=\"&#x41f;&#x43e;&#x441;&#x438;&#x43b;&#x430;&#x43d;&#x43d;&#x44f; &#x43d;&#x430; &#x440;&#x43e;&#x437;&#x434;&#x456;&#x43b;&#x438; Facebook\"><ul class=\"uiList pageFooterLinkList _509- _4ki _703 _6-i\"><li><a href=\"/reg/\" title=\"&#x417;&#x430;&#x440;&#x435;&#x454;&#x441;&#x442;&#x440;&#x443;&#x439;&#x442;&#x435;&#x441;&#x44f; &#x43d;&#x430; Facebook\">\\xd0\\x97\\xd0\\xb0\\xd1\\x80\\xd0\\xb5\\xd1\\x94\\xd1\\x81\\xd1\\x82\\xd1\\x80\\xd1\\x83\\xd0\\xb2\\xd0\\xb0\\xd1\\x82\\xd0\\xb8\\xd1\\x81\\xd1\\x8f</a></li><li><a href=\"/login/\" title=\"&#x423;&#x432;&#x456;&#x439;&#x434;&#x456;&#x442;&#x44c; &#x43d;&#x430; Facebook\">\\xd0\\xa3\\xd0\\xb2\\xd1\\x96\\xd0\\xb9\\xd1\\x82\\xd0\\xb8</a></li><li><a href=\"https://messenger.com/\" title=\"&#x421;&#x43f;&#x440;&#x43e;&#x431;&#x443;&#x439;&#x442;&#x435; Messenger.\">Messenger</a></li><li><a href=\"/lite/\" title=\"Facebook Lite &#x434;&#x43b;&#x44f; Android.\">Facebook Lite</a></li><li><a href=\"https://www.facebook.com/watch/\" title=\"&#x41f;&#x435;&#x440;&#x435;&#x433;&#x43b;&#x44f;&#x43d;&#x443;&#x442;&#x438; &#x443; &#xab;&#x412;&#x456;&#x434;&#x435;&#x43e;&#xbb;\">\\xd0\\x92\\xd1\\x96\\xd0\\xb4\\xd0\\xb5\\xd0\\xbe</a></li><li><a href=\"/places/\" title=\"&#x41f;&#x435;&#x440;&#x435;&#x433;&#x43b;&#x44f;&#x43d;&#x44c;&#x442;&#x435; &#x43d;&#x430;&#x439;&#x446;&#x456;&#x43a;&#x430;&#x432;&#x456;&#x448;&#x456; &#x43c;&#x456;&#x441;&#x446;&#x44f; &#x43d;&#x430; Facebook.\">\\xd0\\x9c\\xd1\\x96\\xd1\\x81\\xd1\\x86\\xd1\\x8f</a></li><li><a href=\"/games/\" title=\"&#x41e;&#x433;&#x43b;&#x44f;&#x43d;&#x44c;&#x442;&#x435; &#x456;&#x433;&#x440;&#x438; &#x43d;&#x430; Facebook.\">\\xd0\\x86\\xd0\\xb3\\xd1\\x80\\xd0\\xb8</a></li><li><a href=\"/marketplace/\" title=\"&#x41a;&#x443;&#x43f;&#x443;&#x439;&#x442;&#x435; &#x442;&#x430; &#x43f;&#x440;&#x43e;&#x434;&#x430;&#x432;&#x430;&#x439;&#x442;&#x435; &#x442;&#x43e;&#x432;&#x430;&#x440;&#x438; &#x443; Facebook Marketplace.\">Marketplace</a></li><li><a href=\"https://pay.facebook.com/\" title=\"&#x414;&#x43e;&#x43a;&#x43b;&#x430;&#x434;&#x43d;&#x456;&#x448;&#x435; &#x43f;&#x440;&#x43e; Meta Pay\" target=\"_blank\">Meta Pay</a></li><li><a href=\"https://www.meta.com/\" title=\"&#x41e;&#x444;&#x43e;&#x440;&#x43c;&#x43b;&#x435;&#x43d;&#x43d;&#x44f; &#x43f;&#x43e;&#x43a;&#x443;&#x43f;&#x43e;&#x43a; &#x437;&#x430; &#x434;&#x43e;&#x43f;&#x43e;&#x43c;&#x43e;&#x433;&#x43e;&#x44e; Meta\" target=\"_blank\">\\xd0\\x9c\\xd0\\xb0\\xd0\\xb3\\xd0\\xb0\\xd0\\xb7\\xd0\\xb8\\xd0\\xbd Meta</a></li><li><a href=\"https://www.meta.com/quest/\" title=\"&#x414;&#x43e;&#x43a;&#x43b;&#x430;&#x434;&#x43d;&#x456;&#x448;&#x435; &#x43f;&#x440;&#x43e; Meta Quest\" target=\"_blank\">Meta Quest</a></li><li><a href=\"https://l.facebook.com/l.php?u=https%3A%2F%2Fimagine.meta.com%2F&amp;h=AT1slGF3qxgZMmP3P01_tQCiAZ7BbJeFmdcHGiEB0T5wKcXI9PfxJQHWHfrMSsUH3Blk-gIBA9VeNC-85nI6npB2sKN0ZhoLgi09EQNKcHyOc8A6nELNDmN3NA6rgMn6iLpAm3LNHCkSN_qe\" title=\"&#x423;&#x44f;&#x432;&#x438;&#x442;&#x438; &#x437;&#x430; &#x434;&#x43e;&#x43f;&#x43e;&#x43c;&#x43e;&#x433;&#x43e;&#x44e; Meta AI\" target=\"_blank\" rel=\"nofollow\" data-lynx-mode=\"hover\">\\xd0\\xa3\\xd1\\x8f\\xd0\\xb2\\xd0\\xb8\\xd1\\x82\\xd0\\xb8 \\xd0\\xb7\\xd0\\xb0 \\xd0\\xb4\\xd0\\xbe\\xd0\\xbf\\xd0\\xbe\\xd0\\xbc\\xd0\\xbe\\xd0\\xb3\\xd0\\xbe\\xd1\\x8e Meta AI</a></li><li><a href=\"https://l.facebook.com/l.php?u=https%3A%2F%2Fwww.instagram.com%2F&amp;h=AT2rpB79Ed16SqPLcrdf3uKjTx3Wl76T8spgcO5btGr9CJYdfi5_T3lHOj8ylOrhfXBPkGr9Q7Q5cJqvXMvBasZYhZpSIflsybbdiM8rDY-QwkeIBznvc8t99sWOM2JJdvv-mwwGSZZHyYDg\" title=\"&#x421;&#x43f;&#x440;&#x43e;&#x431;&#x443;&#x439;&#x442;&#x435; Instagram\" target=\"_blank\" rel=\"nofollow\" data-lynx-mode=\"hover\">Instagram</a></li><li><a href=\"https://www.threads.net/\" title=\"&#x41f;&#x435;&#x440;&#x435;&#x433;&#x43b;&#x44f;&#x43d;&#x44c;&#x442;&#x435; Threads\">Threads</a></li><li><a href=\"/fundraisers/\" title=\"&#x420;&#x43e;&#x431;&#x456;&#x442;&#x44c; &#x43f;&#x43e;&#x436;&#x435;&#x440;&#x442;&#x432;&#x438; &#x43d;&#x430; &#x432;&#x430;&#x436;&#x43b;&#x438;&#x432;&#x456; &#x441;&#x43f;&#x440;&#x430;&#x432;&#x438;.\">\\xd0\\x97\\xd0\\xb1\\xd0\\xbe\\xd1\\x80\\xd0\\xb8 \\xd0\\xba\\xd0\\xbe\\xd1\\x88\\xd1\\x82\\xd1\\x96\\xd0\\xb2</a></li><li><a href=\"/biz/directory/\" title=\"&#x41f;&#x435;&#x440;&#x435;&#x433;&#x43b;&#x44f;&#x43d;&#x44c;&#x442;&#x435; &#x43d;&#x430;&#x448; &#x43a;&#x430;&#x442;&#x430;&#x43b;&#x43e;&#x433; &#xab;&#x421;&#x435;&#x440;&#x432;&#x456;&#x441;&#x438; Facebook&#xbb;.\">\\xd0\\xa1\\xd0\\xb5\\xd1\\x80\\xd0\\xb2\\xd1\\x96\\xd1\\x81\\xd0\\xb8</a></li><li><a href=\"/votinginformationcenter/?entry_point=c2l0ZQ%3D%3D\" title=\"&#x412;&#x456;&#x434;&#x43a;&#x440;&#x438;&#x442;&#x438; &#x426;&#x435;&#x43d;&#x442;&#x440; &#x456;&#x43d;&#x444;&#x43e;&#x440;&#x43c;&#x430;&#x446;&#x456;&#x457; &#x43f;&#x440;&#x43e; &#x433;&#x43e;&#x43b;&#x43e;&#x441;&#x443;&#x432;&#x430;&#x43d;&#x43d;&#x44f;.\">\\xd0\\xa6\\xd0\\xb5\\xd0\\xbd\\xd1\\x82\\xd1\\x80 \\xd1\\x96\\xd0\\xbd\\xd1\\x84\\xd0\\xbe\\xd1\\x80\\xd0\\xbc\\xd0\\xb0\\xd1\\x86\\xd1\\x96\\xd1\\x97 \\xd0\\xbf\\xd1\\x80\\xd0\\xbe \\xd0\\xb3\\xd0\\xbe\\xd0\\xbb\\xd0\\xbe\\xd1\\x81\\xd1\\x83\\xd0\\xb2\\xd0\\xb0\\xd0\\xbd\\xd0\\xbd\\xd1\\x8f</a></li><li><a href=\"/privacy/policy/?entry_point=facebook_page_footer\" title=\"&#x414;&#x456;&#x437;&#x43d;&#x430;&#x439;&#x442;&#x435;&#x441;&#x44f;, &#x44f;&#x43a; &#x43c;&#x438; &#x437;&#x431;&#x438;&#x440;&#x430;&#x454;&#x43c;&#x43e;, &#x432;&#x438;&#x43a;&#x43e;&#x440;&#x438;&#x441;&#x442;&#x43e;&#x432;&#x443;&#x454;&#x43c;&#x43e; &#x439; &#x43f;&#x43e;&#x448;&#x438;&#x440;&#x44e;&#x454;&#x43c;&#x43e; &#x456;&#x43d;&#x444;&#x43e;&#x440;&#x43c;&#x430;&#x446;&#x456;&#x44e; &#x434;&#x43b;&#x44f; &#x43f;&#x456;&#x434;&#x442;&#x440;&#x438;&#x43c;&#x43a;&#x438; Facebook.\">\\xd0\\x9f\\xd0\\xbe\\xd0\\xbb\\xd1\\x96\\xd1\\x82\\xd0\\xb8\\xd0\\xba\\xd0\\xb0 \\xd0\\xba\\xd0\\xbe\\xd0\\xbd\\xd1\\x84\\xd1\\x96\\xd0\\xb4\\xd0\\xb5\\xd0\\xbd\\xd1\\x86\\xd1\\x96\\xd0\\xb9\\xd0\\xbd\\xd0\\xbe\\xd1\\x81\\xd1\\x82\\xd1\\x96</a></li><li><a href=\"/privacy/center/?entry_point=facebook_page_footer\" title=\"&#x414;&#x456;&#x437;&#x43d;&#x430;&#x439;&#x442;&#x435;&#x441;&#x44f;, &#x44f;&#x43a; &#x43a;&#x435;&#x440;&#x443;&#x432;&#x430;&#x442;&#x438; &#x441;&#x432;&#x43e;&#x454;&#x44e; &#x43a;&#x43e;&#x43d;&#x444;&#x456;&#x434;&#x435;&#x43d;&#x446;&#x456;&#x439;&#x43d;&#x456;&#x441;&#x442;&#x44e; &#x443; Facebook.\">\\xd0\\xa6\\xd0\\xb5\\xd0\\xbd\\xd1\\x82\\xd1\\x80 \\xd0\\xba\\xd0\\xbe\\xd0\\xbd\\xd1\\x84\\xd1\\x96\\xd0\\xb4\\xd0\\xb5\\xd0\\xbd\\xd1\\x86\\xd1\\x96\\xd0\\xb9\\xd0\\xbd\\xd0\\xbe\\xd1\\x81\\xd1\\x82\\xd1\\x96</a></li><li><a href=\"/groups/discover/\" title=\"&#x41e;&#x433;&#x43b;&#x44f;&#x434; &#x433;&#x440;&#x443;&#x43f;.\">\\xd0\\x93\\xd1\\x80\\xd1\\x83\\xd0\\xbf\\xd0\\xb8</a></li><li><a href=\"https://about.meta.com/\" accesskey=\"8\" title=\"&#x427;&#x438;&#x442;&#x430;&#x439;&#x442;&#x435; &#x43d;&#x430;&#x448; &#x431;&#x43b;&#x43e;&#x491;, &#x434;&#x43e;&#x441;&#x43b;&#x456;&#x434;&#x436;&#x443;&#x439;&#x442;&#x435; &#x446;&#x435;&#x43d;&#x442;&#x440; &#x440;&#x435;&#x441;&#x443;&#x440;&#x441;&#x456;&#x432; &#x442;&#x430; &#x437;&#x43d;&#x430;&#x445;&#x43e;&#x434;&#x44c;&#x442;&#x435; &#x43c;&#x43e;&#x436;&#x43b;&#x438;&#x432;&#x43e;&#x441;&#x442;&#x456; &#x43f;&#x440;&#x430;&#x446;&#x435;&#x432;&#x43b;&#x430;&#x448;&#x442;&#x443;&#x432;&#x430;&#x43d;&#x43d;&#x44f;.\">\\xd0\\x86\\xd0\\xbd\\xd1\\x84\\xd0\\xbe\\xd1\\x80\\xd0\\xbc\\xd0\\xb0\\xd1\\x86\\xd1\\x96\\xd1\\x8f</a></li><li><a href=\"/ad_campaign/landing.php?placement=pflo&amp;campaign_id=402047449186&amp;nav_source=unknown&amp;extra_1=auto\" title=\"&#x420;&#x43e;&#x437;&#x43c;&#x456;&#x441;&#x442;&#x456;&#x442;&#x44c; &#x440;&#x435;&#x43a;&#x43b;&#x430;&#x43c;&#x443; &#x43d;&#x430; Facebook.\">\\xd0\\xa1\\xd1\\x82\\xd0\\xb2\\xd0\\xbe\\xd1\\x80\\xd0\\xb8\\xd1\\x82\\xd0\\xb8 \\xd1\\x80\\xd0\\xb5\\xd0\\xba\\xd0\\xbb\\xd0\\xb0\\xd0\\xbc\\xd1\\x83</a></li><li><a href=\"/pages/create/?ref_type=site_footer\" title=\"&#x421;&#x442;&#x432;&#x43e;&#x440;&#x438;&#x442;&#x438; &#x441;&#x442;&#x43e;&#x440;&#x456;&#x43d;&#x43a;&#x443;\">\\xd0\\xa1\\xd1\\x82\\xd0\\xb2\\xd0\\xbe\\xd1\\x80\\xd0\\xb8\\xd1\\x82\\xd0\\xb8 \\xd1\\x81\\xd1\\x82\\xd0\\xbe\\xd1\\x80\\xd1\\x96\\xd0\\xbd\\xd0\\xba\\xd1\\x83</a></li><li><a href=\"https://developers.facebook.com/?ref=pf\" title=\"&#x420;&#x43e;&#x437;&#x440;&#x43e;&#x431;&#x43a;&#x430; &#x43d;&#x430; &#x43d;&#x430;&#x448;&#x456;&#x439; &#x43f;&#x43b;&#x430;&#x442;&#x444;&#x43e;&#x440;&#x43c;&#x456;.\">\\xd0\\xa0\\xd0\\xbe\\xd0\\xb7\\xd1\\x80\\xd0\\xbe\\xd0\\xb1\\xd0\\xbd\\xd0\\xb8\\xd0\\xba\\xd0\\xb8</a></li><li><a href=\"/careers/?ref=pf\" title=\"&#x417;&#x440;&#x43e;&#x431;&#x456;&#x442;&#x44c; &#x43d;&#x430;&#x441;&#x442;&#x443;&#x43f;&#x43d;&#x438;&#x439; &#x43a;&#x440;&#x43e;&#x43a; &#x443; &#x441;&#x432;&#x43e;&#x457;&#x439; &#x43a;&#x430;&#x440;&#039;&#x454;&#x440;&#x456; &#x432; &#x43d;&#x430;&#x448;&#x456;&#x439; &#x447;&#x443;&#x434;&#x43e;&#x432;&#x456;&#x439; &#x43a;&#x43e;&#x43c;&#x43f;&#x430;&#x43d;&#x456;&#x457;.\">\\xd0\\x9a\\xd0\\xb0\\xd1\\x80\\xe2\\x80\\x99\\xd1\\x94\\xd1\\x80\\xd0\\xb0</a></li><li><a href=\"/policies/cookies/\" title=\"&#x414;&#x456;&#x437;&#x43d;&#x430;&#x439;&#x442;&#x435;&#x441;&#x44f; &#x43f;&#x440;&#x43e; &#x444;&#x430;&#x439;&#x43b;&#x438; cookie &#x442;&#x430; Facebook.\" data-nocookies=\"1\">\\xd0\\xa4\\xd0\\xb0\\xd0\\xb9\\xd0\\xbb\\xd0\\xb8 cookie</a></li><li><a class=\"_41ug\" data-nocookies=\"1\" href=\"https://www.facebook.com/help/568137493302217\" title=\"&#x414;&#x456;&#x437;&#x43d;&#x430;&#x439;&#x442;&#x435;&#x441;&#x44f; &#x43f;&#x440;&#x43e; &#x440;&#x435;&#x43a;&#x43b;&#x430;&#x43c;&#x443;.\">\\xd0\\xa0\\xd0\\xb5\\xd0\\xba\\xd0\\xbb\\xd0\\xb0\\xd0\\xbc\\xd0\\xb0<i class=\"img sp_RWRH0hRwEXV sx_254be8\"></i></a></li><li><a data-nocookies=\"1\" href=\"/policies?ref=pf\" accesskey=\"9\" title=\"&#x41e;&#x437;&#x43d;&#x430;&#x439;&#x43e;&#x43c;&#x442;&#x435;&#x441;&#x44f; &#x437; &#x43d;&#x430;&#x448;&#x438;&#x43c;&#x438; &#x443;&#x43c;&#x43e;&#x432;&#x430;&#x43c;&#x438; &#x456; &#x43f;&#x440;&#x430;&#x432;&#x438;&#x43b;&#x430;&#x43c;&#x438;.\">\\xd0\\xa3\\xd0\\xbc\\xd0\\xbe\\xd0\\xb2\\xd0\\xb8 \\xd0\\xb2\\xd0\\xb8\\xd0\\xba\\xd0\\xbe\\xd1\\x80\\xd0\\xb8\\xd1\\x81\\xd1\\x82\\xd0\\xb0\\xd0\\xbd\\xd0\\xbd\\xd1\\x8f</a></li><li><a href=\"/help/?ref=pf\" accesskey=\"0\" title=\"&#x412;&#x456;&#x434;&#x432;&#x456;&#x434;&#x430;&#x439;&#x442;&#x435; &#x43d;&#x430;&#x448; &#x414;&#x43e;&#x432;&#x456;&#x434;&#x43a;&#x43e;&#x432;&#x438;&#x439; &#x446;&#x435;&#x43d;&#x442;&#x440;.\">\\xd0\\x94\\xd0\\xbe\\xd0\\xb2\\xd1\\x96\\xd0\\xb4\\xd0\\xba\\xd0\\xb0</a></li><li><a href=\"help/637205020878504\" title=\"&#x41f;&#x435;&#x440;&#x435;&#x433;&#x43b;&#x44f;&#x43d;&#x44c;&#x442;&#x435; &#x43f;&#x43e;&#x43f;&#x435;&#x440;&#x435;&#x434;&#x436;&#x435;&#x43d;&#x43d;&#x44f; &#x43f;&#x440;&#x43e; &#x437;&#x430;&#x432;&#x430;&#x43d;&#x442;&#x430;&#x436;&#x435;&#x43d;&#x43d;&#x44f; &#x43a;&#x43e;&#x43d;&#x442;&#x430;&#x43a;&#x442;&#x456;&#x432; &#x456; &#x43b;&#x44e;&#x434;&#x435;&#x439;, &#x449;&#x43e; &#x43d;&#x435; &#x454; &#x43a;&#x43e;&#x440;&#x438;&#x441;&#x442;&#x443;&#x432;&#x430;&#x447;&#x430;&#x43c;&#x438;.\">\\xd0\\x97\\xd0\\xb0\\xd0\\xb2\\xd0\\xb0\\xd0\\xbd\\xd1\\x82\\xd0\\xb0\\xd0\\xb6\\xd0\\xb5\\xd0\\xbd\\xd0\\xbd\\xd1\\x8f \\xd0\\xba\\xd0\\xbe\\xd0\\xbd\\xd1\\x82\\xd0\\xb0\\xd0\\xba\\xd1\\x82\\xd1\\x96\\xd0\\xb2 \\xd1\\x96 \\xd0\\xbb\\xd1\\x8e\\xd0\\xb4\\xd0\\xb8, \\xd1\\x89\\xd0\\xbe \\xd0\\xbd\\xd0\\xb5 \\xd1\\x94 \\xd0\\xba\\xd0\\xbe\\xd1\\x80\\xd0\\xb8\\xd1\\x81\\xd1\\x82\\xd1\\x83\\xd0\\xb2\\xd0\\xb0\\xd1\\x87\\xd0\\xb0\\xd0\\xbc\\xd0\\xb8</a></li><li><a accesskey=\"6\" class=\"accessible_elem\" href=\"/settings\" title=\"&#x41f;&#x435;&#x440;&#x435;&#x433;&#x43b;&#x44f;&#x434; &#x456; &#x440;&#x435;&#x434;&#x430;&#x433;&#x443;&#x432;&#x430;&#x43d;&#x43d;&#x44f; &#x432;&#x430;&#x448;&#x438;&#x445; &#x43d;&#x430;&#x43b;&#x430;&#x448;&#x442;&#x443;&#x432;&#x430;&#x43d;&#x44c; Facebook.\">\\xd0\\x9d\\xd0\\xb0\\xd0\\xbb\\xd0\\xb0\\xd1\\x88\\xd1\\x82\\xd1\\x83\\xd0\\xb2\\xd0\\xb0\\xd0\\xbd\\xd0\\xbd\\xd1\\x8f</a></li><li><a accesskey=\"7\" class=\"accessible_elem\" href=\"/allactivity?privacy_source=activity_log_top_menu\" title=\"&#x41f;&#x435;&#x440;&#x435;&#x433;&#x43b;&#x44f;&#x434; &#x436;&#x443;&#x440;&#x43d;&#x430;&#x43b;&#x443; &#x430;&#x43a;&#x442;&#x438;&#x432;&#x43d;&#x43e;&#x441;&#x442;&#x456;\">\\xd0\\x96\\xd1\\x83\\xd1\\x80\\xd0\\xbd\\xd0\\xb0\\xd0\\xbb \\xd0\\xb0\\xd0\\xba\\xd1\\x82\\xd0\\xb8\\xd0\\xb2\\xd0\\xbd\\xd0\\xbe\\xd1\\x81\\xd1\\x82\\xd1\\x96</a></li></ul></div><div class=\"mvl copyright\"><div><span> Meta \\xc2\\xa9 2024</span></div></div></div></div></div></div><div></div><span><img src=\"https://facebook.com/security/hsts-pixel.gif?c=3.2.5\" width=\"0\" height=\"0\" style=\"display:none\" /></span></div><div style=\"display:none\"></div>\\n<script>requireLazy([\"HasteSupportData\"],function(m){m.handle({\"bxData\":{\"875231\":{\"uri\":\"https:\\\\/\\\\/static.xx.fbcdn.net\\\\/rsrc.php\\\\/yT\\\\/r\\\\/aGT3gskzWBf.ico\"}},\"clpData\":{\"1743095\":{\"r\":1,\"s\":1}},\"gkxData\":{\"21049\":{\"result\":false,\"hash\":null},\"21116\":{\"result\":false,\"hash\":null}}})});requireLazy([\"Bootloader\"],function(m){m.handlePayload({\"consistency\":{\"rev\":1012081852},\"rsrcMap\":{\"rLr+wv3\":{\"type\":\"js\",\"src\":\"https:\\\\/\\\\/static.xx.fbcdn.net\\\\/rsrc.php\\\\/v3\\\\/ya\\\\/r\\\\/PLbs5pK1vke.js?_nc_x=Ij3Wp8lg5Kz\",\"nc\":1},\"9NiATAn\":{\"type\":\"js\",\"src\":\"https:\\\\/\\\\/static.xx.fbcdn.net\\\\/rsrc.php\\\\/v3\\\\/yv\\\\/r\\\\/yRuFCzueB7p.js?_nc_x=Ij3Wp8lg5Kz\",\"nc\":1},\"d+SyJvX\":{\"type\":\"js\",\"src\":\"https:\\\\/\\\\/static.xx.fbcdn.net\\\\/rsrc.php\\\\/v3\\\\/yF\\\\/r\\\\/um5Lma8ealt.js?_nc_x=Ij3Wp8lg5Kz\",\"nc\":1},\"nL59fCM\":{\"type\":\"js\",\"src\":\"https:\\\\/\\\\/static.xx.fbcdn.net\\\\/rsrc.php\\\\/v3ixCr4\\\\/yr\\\\/l\\\\/uk_UA\\\\/QrjLA-lGlZU.js?_nc_x=Ij3Wp8lg5Kz\",\"nc\":1},\"7GpJ2Pa\":{\"type\":\"js\",\"src\":\"https:\\\\/\\\\/static.xx.fbcdn.net\\\\/rsrc.php\\\\/v3\\\\/yu\\\\/r\\\\/GEF2c_o4B9v.js?_nc_x=Ij3Wp8lg5Kz\",\"nc\":1},\"\\\\/JsxEyu\":{\"type\":\"js\",\"src\":\"https:\\\\/\\\\/static.xx.fbcdn.net\\\\/rsrc.php\\\\/v3\\\\/yf\\\\/r\\\\/POEX6IQGPQA.js?_nc_x=Ij3Wp8lg5Kz\",\"nc\":1},\"dAWNZ\\\\/s\":{\"type\":\"js\",\"src\":\"https:\\\\/\\\\/static.xx.fbcdn.net\\\\/rsrc.php\\\\/v3\\\\/y9\\\\/r\\\\/BTdUGzsTGVy.js?_nc_x=Ij3Wp8lg5Kz\",\"nc\":1},\"QfBLzGU\":{\"type\":\"js\",\"src\":\"https:\\\\/\\\\/static.xx.fbcdn.net\\\\/rsrc.php\\\\/v3\\\\/yQ\\\\/r\\\\/p0UAAgJE1Lo.js?_nc_x=Ij3Wp8lg5Kz\",\"nc\":1},\"RS9Sgv2\":{\"type\":\"js\",\"src\":\"https:\\\\/\\\\/static.xx.fbcdn.net\\\\/rsrc.php\\\\/v3i7pN4\\\\/y8\\\\/l\\\\/uk_UA\\\\/Eyc_dgI6LAc.js?_nc_x=Ij3Wp8lg5Kz\",\"nc\":1},\"6VukWNl\":{\"type\":\"js\",\"src\":\"https:\\\\/\\\\/static.xx.fbcdn.net\\\\/rsrc.php\\\\/v3\\\\/yt\\\\/r\\\\/Lsq-FFr9vYR.js?_nc_x=Ij3Wp8lg5Kz\",\"nc\":1},\"asa5IYx\":{\"type\":\"js\",\"src\":\"https:\\\\/\\\\/static.xx.fbcdn.net\\\\/rsrc.php\\\\/v3\\\\/yQ\\\\/r\\\\/VvJY7ywLJ0i.js?_nc_x=Ij3Wp8lg5Kz\",\"nc\":1},\"unvMfHc\":{\"type\":\"js\",\"src\":\"https:\\\\/\\\\/static.xx.fbcdn.net\\\\/rsrc.php\\\\/v3\\\\/yo\\\\/r\\\\/sx3ghqDAWcZ.js?_nc_x=Ij3Wp8lg5Kz\",\"nc\":1},\"lTAUCmL\":{\"type\":\"js\",\"src\":\"https:\\\\/\\\\/static.xx.fbcdn.net\\\\/rsrc.php\\\\/v3\\\\/yK\\\\/r\\\\/p1hQORCicOK.js?_nc_x=Ij3Wp8lg5Kz\",\"nc\":1},\"3HdAXaS\":{\"type\":\"js\",\"src\":\"https:\\\\/\\\\/static.xx.fbcdn.net\\\\/rsrc.php\\\\/v3\\\\/yl\\\\/r\\\\/9lDiey1l9HS.js?_nc_x=Ij3Wp8lg5Kz\",\"nc\":1},\"98Goa\\\\/b\":{\"type\":\"css\",\"src\":\"https:\\\\/\\\\/static.xx.fbcdn.net\\\\/rsrc.php\\\\/v3\\\\/yV\\\\/l\\\\/0,cross\\\\/tjVIVh64GUp.css?_nc_x=Ij3Wp8lg5Kz\",\"nc\":1},\"o+9ImCQ\":{\"type\":\"js\",\"src\":\"https:\\\\/\\\\/static.xx.fbcdn.net\\\\/rsrc.php\\\\/v3iLEG4\\\\/yf\\\\/l\\\\/uk_UA\\\\/WNifbGzF8ce.js?_nc_x=Ij3Wp8lg5Kz\",\"nc\":1},\"s+gxJct\":{\"type\":\"js\",\"src\":\"https:\\\\/\\\\/static.xx.fbcdn.net\\\\/rsrc.php\\\\/v3\\\\/yw\\\\/r\\\\/RHi-NeezTF_.js?_nc_x=Ij3Wp8lg5Kz\",\"nc\":1},\"aqA+Y1P\":{\"type\":\"js\",\"src\":\"https:\\\\/\\\\/static.xx.fbcdn.net\\\\/rsrc.php\\\\/v3\\\\/yh\\\\/r\\\\/kUiH4DNuIvh.js?_nc_x=Ij3Wp8lg5Kz\",\"nc\":1},\"IzZVTmA\":{\"type\":\"js\",\"src\":\"https:\\\\/\\\\/static.xx.fbcdn.net\\\\/rsrc.php\\\\/v3itDT4\\\\/yE\\\\/l\\\\/uk_UA\\\\/a7iF4fyt-I2.js?_nc_x=Ij3Wp8lg5Kz\",\"nc\":1},\"3\\\\/ZOWn4\":{\"type\":\"js\",\"src\":\"https:\\\\/\\\\/static.xx.fbcdn.net\\\\/rsrc.php\\\\/v3ix8W4\\\\/yH\\\\/l\\\\/uk_UA\\\\/LkOjiZnytRq.js?_nc_x=Ij3Wp8lg5Kz\",\"nc\":1},\"gO5oVzJ\":{\"type\":\"js\",\"src\":\"https:\\\\/\\\\/static.xx.fbcdn.net\\\\/rsrc.php\\\\/v3ijF54\\\\/y1\\\\/l\\\\/uk_UA\\\\/vaxgSSGJN39.js?_nc_x=Ij3Wp8lg5Kz\",\"nc\":1},\"IuiQOyD\":{\"type\":\"js\",\"src\":\"https:\\\\/\\\\/static.xx.fbcdn.net\\\\/rsrc.php\\\\/v3\\\\/yU\\\\/r\\\\/k6hGRuRmC1J.js?_nc_x=Ij3Wp8lg5Kz\",\"nc\":1},\"e5lwynb\":{\"type\":\"js\",\"src\":\"https:\\\\/\\\\/static.xx.fbcdn.net\\\\/rsrc.php\\\\/v3\\\\/yw\\\\/r\\\\/vblUw_M0OF9.js?_nc_x=Ij3Wp8lg5Kz\",\"nc\":1},\"evhX6jR\":{\"type\":\"js\",\"src\":\"https:\\\\/\\\\/static.xx.fbcdn.net\\\\/rsrc.php\\\\/v3\\\\/yU\\\\/r\\\\/hesYLUteaz6.js?_nc_x=Ij3Wp8lg5Kz\",\"nc\":1},\"7DGrh5b\":{\"type\":\"css\",\"src\":\"https:\\\\/\\\\/static.xx.fbcdn.net\\\\/rsrc.php\\\\/v3\\\\/yu\\\\/l\\\\/0,cross\\\\/lsqTBc6Eqlq.css?_nc_x=Ij3Wp8lg5Kz\",\"nc\":1},\"+mczepj\":{\"type\":\"js\",\"src\":\"https:\\\\/\\\\/static.xx.fbcdn.net\\\\/rsrc.php\\\\/v3\\\\/yO\\\\/r\\\\/awXf9iR16n-.js?_nc_x=Ij3Wp8lg5Kz\",\"nc\":1},\"lSecMby\":{\"type\":\"js\",\"src\":\"https:\\\\/\\\\/static.xx.fbcdn.net\\\\/rsrc.php\\\\/v3\\\\/yd\\\\/r\\\\/12NQ-yXEPpl.js?_nc_x=Ij3Wp8lg5Kz\",\"nc\":1},\"sD1p+sg\":{\"type\":\"js\",\"src\":\"https:\\\\/\\\\/static.xx.fbcdn.net\\\\/rsrc.php\\\\/v3itzS4\\\\/yK\\\\/l\\\\/uk_UA\\\\/05XOFh0VzoH.js?_nc_x=Ij3Wp8lg5Kz\",\"nc\":1},\"yAXgE5e\":{\"type\":\"css\",\"src\":\"https:\\\\/\\\\/static.xx.fbcdn.net\\\\/rsrc.php\\\\/v3\\\\/ym\\\\/l\\\\/0,cross\\\\/mF1XJwRa6NE.css?_nc_x=Ij3Wp8lg5Kz\",\"nc\":1},\"Aa+lqk3\":{\"type\":\"js\",\"src\":\"https:\\\\/\\\\/static.xx.fbcdn.net\\\\/rsrc.php\\\\/v3iwko4\\\\/yW\\\\/l\\\\/uk_UA\\\\/bGWuQPlBFVH.js?_nc_x=Ij3Wp8lg5Kz\",\"nc\":1},\"MOcemQF\":{\"type\":\"js\",\"src\":\"https:\\\\/\\\\/static.xx.fbcdn.net\\\\/rsrc.php\\\\/v3\\\\/yF\\\\/r\\\\/pdSlX_keZV3.js?_nc_x=Ij3Wp8lg5Kz\",\"nc\":1},\"zxGEsUz\":{\"type\":\"js\",\"src\":\"https:\\\\/\\\\/static.xx.fbcdn.net\\\\/rsrc.php\\\\/v3iaVK4\\\\/yB\\\\/l\\\\/uk_UA\\\\/SQkX7HatvzI.js?_nc_x=Ij3Wp8lg5Kz\",\"nc\":1},\"pwvzTtg\":{\"type\":\"js\",\"src\":\"https:\\\\/\\\\/static.xx.fbcdn.net\\\\/rsrc.php\\\\/v3\\\\/yw\\\\/r\\\\/5qBkY4q5_XH.js?_nc_x=Ij3Wp8lg5Kz\",\"nc\":1},\"iaxzeb+\":{\"type\":\"js\",\"src\":\"https:\\\\/\\\\/static.xx.fbcdn.net\\\\/rsrc.php\\\\/v3iUvS4\\\\/yF\\\\/l\\\\/uk_UA\\\\/52_CIUWyLe8.js?_nc_x=Ij3Wp8lg5Kz\",\"nc\":1},\"dF5jGdp\":{\"type\":\"js\",\"src\":\"https:\\\\/\\\\/static.xx.fbcdn.net\\\\/rsrc.php\\\\/v3ityX4\\\\/y2\\\\/l\\\\/uk_UA\\\\/5SIkL4qvwaJ.js?_nc_x=Ij3Wp8lg5Kz\",\"nc\":1},\"I2ijGzU\":{\"type\":\"css\",\"src\":\"https:\\\\/\\\\/static.xx.fbcdn.net\\\\/rsrc.php\\\\/v3\\\\/yA\\\\/l\\\\/0,cross\\\\/1K3gPmsQ4B-.css?_nc_x=Ij3Wp8lg5Kz\",\"nc\":1},\"2BM0nUs\":{\"type\":\"js\",\"src\":\"https:\\\\/\\\\/static.xx.fbcdn.net\\\\/rsrc.php\\\\/v3\\\\/yZ\\\\/r\\\\/_ZQDXGp1MGv.js?_nc_x=Ij3Wp8lg5Kz\",\"nc\":1},\"+qaMh2j\":{\"type\":\"js\",\"src\":\"https:\\\\/\\\\/static.xx.fbcdn.net\\\\/rsrc.php\\\\/v3iaKy4\\\\/yQ\\\\/l\\\\/uk_UA\\\\/jdG_-TTpEd_.js?_nc_x=Ij3Wp8lg5Kz\",\"nc\":1},\"D3BexVS\":{\"type\":\"js\",\"src\":\"https:\\\\/\\\\/static.xx.fbcdn.net\\\\/rsrc.php\\\\/v3iza84\\\\/yv\\\\/l\\\\/uk_UA\\\\/0M6HmtBy7LN.js?_nc_x=Ij3Wp8lg5Kz\",\"nc\":1},\"Ki0KQDV\":{\"type\":\"js\",\"src\":\"https:\\\\/\\\\/static.xx.fbcdn.net\\\\/rsrc.php\\\\/v3\\\\/yW\\\\/r\\\\/NMZA0c8voxd.js?_nc_x=Ij3Wp8lg5Kz\",\"nc\":1},\"L0CpHtS\":{\"type\":\"js\",\"src\":\"https:\\\\/\\\\/static.xx.fbcdn.net\\\\/rsrc.php\\\\/v3id564\\\\/yD\\\\/l\\\\/uk_UA\\\\/WEaWaXtXNiE.js?_nc_x=Ij3Wp8lg5Kz\",\"nc\":1},\"m5idfBG\":{\"type\":\"js\",\"src\":\"https:\\\\/\\\\/static.xx.fbcdn.net\\\\/rsrc.php\\\\/v3\\\\/yx\\\\/r\\\\/uYMfrpUytGY.js?_nc_x=Ij3Wp8lg5Kz\",\"nc\":1},\"Ay4vEuf\":{\"type\":\"js\",\"src\":\"https:\\\\/\\\\/static.xx.fbcdn.net\\\\/rsrc.php\\\\/v3\\\\/yb\\\\/r\\\\/BgOt3fL4YGa.js?_nc_x=Ij3Wp8lg5Kz\",\"nc\":1},\"XZcq0IM\":{\"type\":\"js\",\"src\":\"https:\\\\/\\\\/static.xx.fbcdn.net\\\\/rsrc.php\\\\/v3irAB4\\\\/yf\\\\/l\\\\/uk_UA\\\\/NVHYHXj5bLl.js?_nc_x=Ij3Wp8lg5Kz\",\"nc\":1},\"u99CfL7\":{\"type\":\"js\",\"src\":\"https:\\\\/\\\\/static.xx.fbcdn.net\\\\/rsrc.php\\\\/v3iGny4\\\\/yT\\\\/l\\\\/uk_UA\\\\/3Ewu8Vrzwvu.js?_nc_x=Ij3Wp8lg5Kz\",\"nc\":1},\"7wl2qJe\":{\"type\":\"js\",\"src\":\"https:\\\\/\\\\/static.xx.fbcdn.net\\\\/rsrc.php\\\\/v3\\\\/yi\\\\/r\\\\/LR96G6L-GzO.js?_nc_x=Ij3Wp8lg5Kz\",\"nc\":1},\"0kElC1u\":{\"type\":\"js\",\"src\":\"https:\\\\/\\\\/static.xx.fbcdn.net\\\\/rsrc.php\\\\/v3iAg04\\\\/yF\\\\/l\\\\/uk_UA\\\\/hmCYQ87_LQt.js?_nc_x=Ij3Wp8lg5Kz\",\"nc\":1},\"cYhjNQe\":{\"type\":\"js\",\"src\":\"https:\\\\/\\\\/static.xx.fbcdn.net\\\\/rsrc.php\\\\/v3\\\\/yA\\\\/r\\\\/h2CxxVe5yZg.js?_nc_x=Ij3Wp8lg5Kz\",\"nc\":1},\"BjVFMrt\":{\"type\":\"js\",\"src\":\"https:\\\\/\\\\/static.xx.fbcdn.net\\\\/rsrc.php\\\\/v3\\\\/yT\\\\/r\\\\/Nv6yOUoAatY.js?_nc_x=Ij3Wp8lg5Kz\",\"nc\":1},\"iGtOaF1\":{\"type\":\"js\",\"src\":\"https:\\\\/\\\\/static.xx.fbcdn.net\\\\/rsrc.php\\\\/v3iZ_x4\\\\/yp\\\\/l\\\\/uk_UA\\\\/kbFnzNy-KO7.js?_nc_x=Ij3Wp8lg5Kz\",\"nc\":1},\"wlqZ9fB\":{\"type\":\"js\",\"src\":\"https:\\\\/\\\\/static.xx.fbcdn.net\\\\/rsrc.php\\\\/v3iUnf4\\\\/yh\\\\/l\\\\/uk_UA\\\\/EZ-cK2IqNU1.js?_nc_x=Ij3Wp8lg5Kz\",\"nc\":1},\"5Ws5gbh\":{\"type\":\"css\",\"src\":\"https:\\\\/\\\\/static.xx.fbcdn.net\\\\/rsrc.php\\\\/v3\\\\/yy\\\\/l\\\\/0,cross\\\\/hSYlzWEHbfi.css?_nc_x=Ij3Wp8lg5Kz\",\"nc\":1},\"SrbY234\":{\"type\":\"js\",\"src\":\"https:\\\\/\\\\/static.xx.fbcdn.net\\\\/rsrc.php\\\\/v3\\\\/yY\\\\/r\\\\/pXKXHFmTacV.js?_nc_x=Ij3Wp8lg5Kz\",\"nc\":1},\"Soj1TDu\":{\"type\":\"js\",\"src\":\"https:\\\\/\\\\/static.xx.fbcdn.net\\\\/rsrc.php\\\\/v3\\\\/yk\\\\/r\\\\/amwf2oFM3OQ.js?_nc_x=Ij3Wp8lg5Kz\",\"nc\":1},\"gC+tO\\\\/f\":{\"type\":\"css\",\"src\":\"https:\\\\/\\\\/static.xx.fbcdn.net\\\\/rsrc.php\\\\/v3\\\\/yY\\\\/l\\\\/0,cross\\\\/-GII-ssSbF8.css?_nc_x=Ij3Wp8lg5Kz\",\"nc\":1},\"C\\\\/ipQUD\":{\"type\":\"js\",\"src\":\"https:\\\\/\\\\/static.xx.fbcdn.net\\\\/rsrc.php\\\\/v3\\\\/yl\\\\/r\\\\/jvtisYjAP3H.js?_nc_x=Ij3Wp8lg5Kz\",\"nc\":1},\"BjDH7sZ\":{\"type\":\"css\",\"src\":\"https:\\\\/\\\\/static.xx.fbcdn.net\\\\/rsrc.php\\\\/v3\\\\/yz\\\\/l\\\\/0,cross\\\\/kmR7_d-xOXB.css?_nc_x=Ij3Wp8lg5Kz\",\"nc\":1},\"ifmVKaL\":{\"type\":\"js\",\"src\":\"https:\\\\/\\\\/static.xx.fbcdn.net\\\\/rsrc.php\\\\/v3iINT4\\\\/ya\\\\/l\\\\/uk_UA\\\\/eY33TsiI_9w.js?_nc_x=Ij3Wp8lg5Kz\",\"nc\":1},\"Xi+WDYv\":{\"type\":\"js\",\"src\":\"https:\\\\/\\\\/static.xx.fbcdn.net\\\\/rsrc.php\\\\/v3\\\\/yY\\\\/r\\\\/KHQGZx2bhyU.js?_nc_x=Ij3Wp8lg5Kz\",\"nc\":1},\"p0kLndo\":{\"type\":\"js\",\"src\":\"https:\\\\/\\\\/static.xx.fbcdn.net\\\\/rsrc.php\\\\/v3i1jz4\\\\/y8\\\\/l\\\\/uk_UA\\\\/sKtQdUU1u45.js?_nc_x=Ij3Wp8lg5Kz\",\"nc\":1},\"V2ZulIX\":{\"type\":\"js\",\"src\":\"https:\\\\/\\\\/static.xx.fbcdn.net\\\\/rsrc.php\\\\/v3\\\\/yj\\\\/r\\\\/6CvLlWZy3YW.js?_nc_x=Ij3Wp8lg5Kz\",\"nc\":1},\"g5OBNqZ\":{\"type\":\"js\",\"src\":\"https:\\\\/\\\\/static.xx.fbcdn.net\\\\/rsrc.php\\\\/v3iQAq4\\\\/yl\\\\/l\\\\/uk_UA\\\\/PwZprZZazRg.js?_nc_x=Ij3Wp8lg5Kz\",\"nc\":1},\"Y7vC8GO\":{\"type\":\"js\",\"src\":\"https:\\\\/\\\\/static.xx.fbcdn.net\\\\/rsrc.php\\\\/v3icQt4\\\\/yU\\\\/l\\\\/uk_UA\\\\/fegcpB_62ro.js?_nc_x=Ij3Wp8lg5Kz\",\"nc\":1},\"u79wdK5\":{\"type\":\"css\",\"src\":\"https:\\\\/\\\\/static.xx.fbcdn.net\\\\/rsrc.php\\\\/v3\\\\/yD\\\\/l\\\\/0,cross\\\\/wHGvypLVv3N.css?_nc_x=Ij3Wp8lg5Kz\",\"nc\":1},\"KF9ttki\":{\"type\":\"js\",\"src\":\"https:\\\\/\\\\/static.xx.fbcdn.net\\\\/rsrc.php\\\\/v3\\\\/yl\\\\/r\\\\/kUHqC7ZrNXt.js?_nc_x=Ij3Wp8lg5Kz\",\"nc\":1},\"gtW8TEQ\":{\"type\":\"js\",\"src\":\"https:\\\\/\\\\/static.xx.fbcdn.net\\\\/rsrc.php\\\\/v3i_In4\\\\/yB\\\\/l\\\\/uk_UA\\\\/W52BvlfHktO.js?_nc_x=Ij3Wp8lg5Kz\",\"nc\":1},\"D0g4ynv\":{\"type\":\"js\",\"src\":\"https:\\\\/\\\\/static.xx.fbcdn.net\\\\/rsrc.php\\\\/v3iXQr4\\\\/yS\\\\/l\\\\/uk_UA\\\\/J183mgFIVeR.js?_nc_x=Ij3Wp8lg5Kz\",\"nc\":1},\"i7QHZvw\":{\"type\":\"js\",\"src\":\"https:\\\\/\\\\/static.xx.fbcdn.net\\\\/rsrc.php\\\\/v3iHPj4\\\\/yP\\\\/l\\\\/uk_UA\\\\/mlSz_F9UILT.js?_nc_x=Ij3Wp8lg5Kz\",\"nc\":1},\"hfF7rSP\":{\"type\":\"js\",\"src\":\"https:\\\\/\\\\/static.xx.fbcdn.net\\\\/rsrc.php\\\\/v3\\\\/yy\\\\/r\\\\/b5jFYaQJPfi.js?_nc_x=Ij3Wp8lg5Kz\",\"nc\":1},\"KJ4GGSm\":{\"type\":\"css\",\"src\":\"https:\\\\/\\\\/static.xx.fbcdn.net\\\\/rsrc.php\\\\/v3\\\\/yQ\\\\/l\\\\/0,cross\\\\/jzWjGDyFQvp.css?_nc_x=Ij3Wp8lg5Kz\",\"nc\":1},\"URGLlvQ\":{\"type\":\"css\",\"src\":\"https:\\\\/\\\\/static.xx.fbcdn.net\\\\/rsrc.php\\\\/v3\\\\/yx\\\\/l\\\\/0,cross\\\\/kvoTJ_Dcvv3.css?_nc_x=Ij3Wp8lg5Kz\",\"nc\":1},\"GXogk13\":{\"type\":\"js\",\"src\":\"https:\\\\/\\\\/static.xx.fbcdn.net\\\\/rsrc.php\\\\/v3\\\\/yn\\\\/r\\\\/HWaH6x3dJrM.js?_nc_x=Ij3Wp8lg5Kz\",\"nc\":1},\"IHGOWvv\":{\"type\":\"js\",\"src\":\"https:\\\\/\\\\/static.xx.fbcdn.net\\\\/rsrc.php\\\\/v3iLEG4\\\\/yj\\\\/l\\\\/uk_UA\\\\/VmT2DTM_xWO.js?_nc_x=Ij3Wp8lg5Kz\",\"nc\":1},\"RIJXQxS\":{\"type\":\"js\",\"src\":\"https:\\\\/\\\\/static.xx.fbcdn.net\\\\/rsrc.php\\\\/v3i_hk4\\\\/y4\\\\/l\\\\/uk_UA\\\\/kTc_-aCp2UY.js?_nc_x=Ij3Wp8lg5Kz\",\"nc\":1},\"gMqLykq\":{\"type\":\"css\",\"src\":\"https:\\\\/\\\\/static.xx.fbcdn.net\\\\/rsrc.php\\\\/v3\\\\/yC\\\\/l\\\\/0,cross\\\\/DQ-gjjrmI7I.css?_nc_x=Ij3Wp8lg5Kz\",\"nc\":1},\"jIVGutb\":{\"type\":\"js\",\"src\":\"https:\\\\/\\\\/static.xx.fbcdn.net\\\\/rsrc.php\\\\/v3\\\\/yc\\\\/r\\\\/HYN7TbjKybR.js?_nc_x=Ij3Wp8lg5Kz\",\"nc\":1},\"AqZuvJw\":{\"type\":\"css\",\"src\":\"https:\\\\/\\\\/static.xx.fbcdn.net\\\\/rsrc.php\\\\/v3\\\\/y1\\\\/l\\\\/0,cross\\\\/GdAaFSzaTx1.css?_nc_x=Ij3Wp8lg5Kz\",\"nc\":1},\"lIuo1pW\":{\"type\":\"js\",\"src\":\"https:\\\\/\\\\/static.xx.fbcdn.net\\\\/rsrc.php\\\\/v3\\\\/yZ\\\\/r\\\\/t6On5lw3f2R.js?_nc_x=Ij3Wp8lg5Kz\",\"nc\":1},\"SRJJCWf\":{\"type\":\"js\",\"src\":\"https:\\\\/\\\\/static.xx.fbcdn.net\\\\/rsrc.php\\\\/v3iRx44\\\\/yI\\\\/l\\\\/uk_UA\\\\/iuJ3vrP1iId.js?_nc_x=Ij3Wp8lg5Kz\",\"nc\":1},\"RwNGFt8\":{\"type\":\"js\",\"src\":\"https:\\\\/\\\\/static.xx.fbcdn.net\\\\/rsrc.php\\\\/v3\\\\/yR\\\\/r\\\\/NTBXcpfVOaa.js?_nc_x=Ij3Wp8lg5Kz\",\"nc\":1},\"xn\\\\/7DkG\":{\"type\":\"css\",\"src\":\"https:\\\\/\\\\/static.xx.fbcdn.net\\\\/rsrc.php\\\\/v3\\\\/y0\\\\/l\\\\/0,cross\\\\/8ENYH16uMP3.css?_nc_x=Ij3Wp8lg5Kz\",\"nc\":1},\"EXw8QtG\":{\"type\":\"css\",\"src\":\"https:\\\\/\\\\/static.xx.fbcdn.net\\\\/rsrc.php\\\\/v3\\\\/yF\\\\/l\\\\/0,cross\\\\/spGNiJ4SZCc.css?_nc_x=Ij3Wp8lg5Kz\",\"nc\":1},\"G3NoM9m\":{\"type\":\"js\",\"src\":\"https:\\\\/\\\\/static.xx.fbcdn.net\\\\/rsrc.php\\\\/v3\\\\/y6\\\\/r\\\\/dxFoIPMM06H.js?_nc_x=Ij3Wp8lg5Kz\",\"nc\":1},\"KTJXyzv\":{\"type\":\"js\",\"src\":\"https:\\\\/\\\\/static.xx.fbcdn.net\\\\/rsrc.php\\\\/v3\\\\/yG\\\\/r\\\\/Mdl4See5q5E.js?_nc_x=Ij3Wp8lg5Kz\",\"nc\":1},\"xsFg75a\":{\"type\":\"js\",\"src\":\"https:\\\\/\\\\/static.xx.fbcdn.net\\\\/rsrc.php\\\\/v3\\\\/yt\\\\/r\\\\/mnLc1TS2Wp-.js?_nc_x=Ij3Wp8lg5Kz\",\"nc\":1},\"KY7M436\":{\"type\":\"js\",\"src\":\"https:\\\\/\\\\/static.xx.fbcdn.net\\\\/rsrc.php\\\\/v3\\\\/ym\\\\/r\\\\/YBQL2uZEXqT.js?_nc_x=Ij3Wp8lg5Kz\",\"nc\":1},\"rCasuzG\":{\"type\":\"js\",\"src\":\"https:\\\\/\\\\/static.xx.fbcdn.net\\\\/rsrc.php\\\\/v3\\\\/yA\\\\/r\\\\/OzWmCcYw0wO.js?_nc_x=Ij3Wp8lg5Kz\",\"nc\":1},\"d2V9i3I\":{\"type\":\"js\",\"src\":\"https:\\\\/\\\\/static.xx.fbcdn.net\\\\/rsrc.php\\\\/v3iKhD4\\\\/yn\\\\/l\\\\/uk_UA\\\\/ZjLUGUgWyZN.js?_nc_x=Ij3Wp8lg5Kz\",\"nc\":1},\"l+3+6J+\":{\"type\":\"js\",\"src\":\"https:\\\\/\\\\/static.xx.fbcdn.net\\\\/rsrc.php\\\\/v3izmm4\\\\/yo\\\\/l\\\\/uk_UA\\\\/InchecML_5K.js?_nc_x=Ij3Wp8lg5Kz\",\"nc\":1},\"nNoXErl\":{\"type\":\"js\",\"src\":\"https:\\\\/\\\\/static.xx.fbcdn.net\\\\/rsrc.php\\\\/v3iRcu4\\\\/yU\\\\/l\\\\/uk_UA\\\\/NBm5mLrILRs.js?_nc_x=Ij3Wp8lg5Kz\",\"nc\":1},\"SWx3yNv\":{\"type\":\"js\",\"src\":\"https:\\\\/\\\\/static.xx.fbcdn.net\\\\/rsrc.php\\\\/v3\\\\/y7\\\\/r\\\\/g__eV5OXSXl.js?_nc_x=Ij3Wp8lg5Kz\",\"nc\":1},\"acQtgBB\":{\"type\":\"js\",\"src\":\"https:\\\\/\\\\/static.xx.fbcdn.net\\\\/rsrc.php\\\\/v3iCuy4\\\\/ym\\\\/l\\\\/uk_UA\\\\/2hEu3iDsmEC.js?_nc_x=Ij3Wp8lg5Kz\",\"nc\":1},\"x22Oby4\":{\"type\":\"js\",\"src\":\"https:\\\\/\\\\/static.xx.fbcdn.net\\\\/rsrc.php\\\\/v3\\\\/yZ\\\\/r\\\\/tVshp1OIV9l.js?_nc_x=Ij3Wp8lg5Kz\",\"nc\":1},\"8ELCBwH\":{\"type\":\"js\",\"src\":\"https:\\\\/\\\\/static.xx.fbcdn.net\\\\/rsrc.php\\\\/v3\\\\/ye\\\\/r\\\\/VRzSVH5iU-V.js?_nc_x=Ij3Wp8lg5Kz\",\"nc\":1},\"oE4DofT\":{\"type\":\"js\",\"src\":\"https:\\\\/\\\\/static.xx.fbcdn.net\\\\/rsrc.php\\\\/v3\\\\/yJ\\\\/r\\\\/EejAgnHUad4.js?_nc_x=Ij3Wp8lg5Kz\",\"nc\":1},\"17Grp2h\":{\"type\":\"js\",\"src\":\"https:\\\\/\\\\/static.xx.fbcdn.net\\\\/rsrc.php\\\\/v3\\\\/y-\\\\/r\\\\/HhbMrxvaW_H.js?_nc_x=Ij3Wp8lg5Kz\",\"nc\":1},\"QyoftxH\":{\"type\":\"js\",\"src\":\"https:\\\\/\\\\/static.xx.fbcdn.net\\\\/rsrc.php\\\\/v3\\\\/yL\\\\/r\\\\/j-_AFWnS2kv.js?_nc_x=Ij3Wp8lg5Kz\",\"nc\":1},\"H\\\\/5lfuF\":{\"type\":\"js\",\"src\":\"https:\\\\/\\\\/static.xx.fbcdn.net\\\\/rsrc.php\\\\/v3\\\\/yF\\\\/r\\\\/iqrvM8jAXX7.js?_nc_x=Ij3Wp8lg5Kz\",\"nc\":1},\"QIamfde\":{\"type\":\"js\",\"src\":\"https:\\\\/\\\\/static.xx.fbcdn.net\\\\/rsrc.php\\\\/v3\\\\/yA\\\\/r\\\\/Y37sQzk-yb8.js?_nc_x=Ij3Wp8lg5Kz\",\"nc\":1},\"rQtDoZI\":{\"type\":\"js\",\"src\":\"https:\\\\/\\\\/static.xx.fbcdn.net\\\\/rsrc.php\\\\/v3\\\\/yC\\\\/r\\\\/yX1ocIFckUR.js?_nc_x=Ij3Wp8lg5Kz\",\"nc\":1},\"I+GHswV\":{\"type\":\"js\",\"src\":\"https:\\\\/\\\\/static.xx.fbcdn.net\\\\/rsrc.php\\\\/v3\\\\/yS\\\\/r\\\\/ui2DkP-wt_7.js?_nc_x=Ij3Wp8lg5Kz\",\"nc\":1},\"BFolX4R\":{\"type\":\"js\",\"src\":\"https:\\\\/\\\\/static.xx.fbcdn.net\\\\/rsrc.php\\\\/v3\\\\/yj\\\\/r\\\\/wwPr_f3niE-.js?_nc_x=Ij3Wp8lg5Kz\",\"nc\":1},\"zPYlTyl\":{\"type\":\"js\",\"src\":\"https:\\\\/\\\\/static.xx.fbcdn.net\\\\/rsrc.php\\\\/v3\\\\/yO\\\\/r\\\\/_tJ17sGyxOX.js?_nc_x=Ij3Wp8lg5Kz\",\"nc\":1},\"P\\\\/mr5VE\":{\"type\":\"css\",\"src\":\"data:text\\\\/css; charset=utf-8;base64,I2Jvb3Rsb2FkZXJfUF9tcjVWRXtoZWlnaHQ6NDJweDt9LmJvb3Rsb2FkZXJfUF9tcjVWRXtkaXNwbGF5OmJsb2NrIWltcG9ydGFudDt9\",\"nc\":1,\"d\":1}},\"compMap\":{\"WebSpeedInteractionsTypedLogger\":{\"r\":[\"rLr+wv3\",\"9NiATAn\",\"d+SyJvX\"],\"be\":1},\"AsyncRequest\":{\"r\":[\"nL59fCM\",\"rLr+wv3\",\"7GpJ2Pa\",\"\\\\/JsxEyu\",\"b3tE\\\\/aE\"],\"rds\":{\"m\":[\"FbtLogging\",\"IntlQtEventFalcoEvent\"]},\"be\":1},\"DOM\":{\"r\":[\"rLr+wv3\",\"7GpJ2Pa\",\"b3tE\\\\/aE\"],\"be\":1},\"Form\":{\"r\":[\"dAWNZ\\\\/s\",\"rLr+wv3\",\"7GpJ2Pa\",\"b3tE\\\\/aE\"],\"be\":1},\"FormSubmit\":{\"r\":[\"dAWNZ\\\\/s\",\"nL59fCM\",\"rLr+wv3\",\"7GpJ2Pa\",\"\\\\/JsxEyu\",\"QfBLzGU\",\"b3tE\\\\/aE\"],\"rds\":{\"m\":[\"FbtLogging\",\"IntlQtEventFalcoEvent\"]},\"be\":1},\"Input\":{\"r\":[\"dAWNZ\\\\/s\"],\"be\":1},\"Toggler\":{\"r\":[\"RS9Sgv2\",\"6VukWNl\",\"rLr+wv3\",\"asa5IYx\",\"b3tE\\\\/aE\",\"7GpJ2Pa\",\"FYvfWsA\",\"unvMfHc\"],\"be\":1},\"Tooltip\":{\"r\":[\"nL59fCM\",\"RS9Sgv2\",\"lTAUCmL\",\"6VukWNl\",\"rLr+wv3\",\"3HdAXaS\",\"98Goa\\\\/b\",\"b3tE\\\\/aE\",\"7GpJ2Pa\",\"\\\\/JsxEyu\",\"FYvfWsA\",\"unvMfHc\",\"o+9ImCQ\",\"s+gxJct\",\"dAWNZ\\\\/s\",\"asa5IYx\"],\"rds\":{\"m\":[\"FbtLogging\",\"IntlQtEventFalcoEvent\",\"PageTransitions\",\"Animation\"],\"r\":[\"aqA+Y1P\"]},\"be\":1},\"URI\":{\"r\":[],\"be\":1},\"trackReferrer\":{\"r\":[],\"be\":1},\"PhotoTagApproval\":{\"r\":[\"IzZVTmA\",\"rLr+wv3\",\"3\\\\/ZOWn4\",\"7GpJ2Pa\",\"b3tE\\\\/aE\"],\"be\":1},\"PhotoSnowlift\":{\"r\":[\"gO5oVzJ\",\"dAWNZ\\\\/s\",\"IuiQOyD\",\"e5lwynb\",\"evhX6jR\",\"7DGrh5b\",\"nL59fCM\",\"+mczepj\",\"lSecMby\",\"sD1p+sg\",\"RS9Sgv2\",\"yAXgE5e\",\"lTAUCmL\",\"Aa+lqk3\",\"MOcemQF\",\"6VukWNl\",\"zxGEsUz\",\"pwvzTtg\",\"iaxzeb+\",\"dF5jGdp\",\"I2ijGzU\",\"2BM0nUs\",\"+qaMh2j\",\"aqA+Y1P\",\"rLr+wv3\",\"D3BexVS\",\"asa5IYx\",\"3HdAXaS\",\"98Goa\\\\/b\",\"Ki0KQDV\",\"L0CpHtS\",\"m5idfBG\",\"Ay4vEuf\",\"b3tE\\\\/aE\",\"XZcq0IM\",\"u99CfL7\",\"7wl2qJe\",\"0kElC1u\",\"cYhjNQe\",\"3\\\\/ZOWn4\",\"BjVFMrt\",\"iGtOaF1\",\"d+SyJvX\",\"wlqZ9fB\",\"5Ws5gbh\",\"7GpJ2Pa\",\"SrbY234\",\"Soj1TDu\",\"AC8VrTj\",\"gC+tO\\\\/f\",\"\\\\/JsxEyu\",\"C\\\\/ipQUD\",\"FYvfWsA\",\"BjDH7sZ\",\"ifmVKaL\",\"Xi+WDYv\",\"p0kLndo\",\"V2ZulIX\",\"g5OBNqZ\",\"unvMfHc\",\"Y7vC8GO\",\"u79wdK5\",\"KF9ttki\",\"gtW8TEQ\",\"D0g4ynv\",\"i7QHZvw\",\"hfF7rSP\",\"KJ4GGSm\",\"o+9ImCQ\",\"URGLlvQ\",\"s+gxJct\",\"GXogk13\"],\"rds\":{\"m\":[\"Animation\",\"FbtLogging\",\"IntlQtEventFalcoEvent\",\"PageTransitions\"]},\"be\":1},\"PhotoTagger\":{\"r\":[\"IHGOWvv\",\"nL59fCM\",\"RS9Sgv2\",\"lTAUCmL\",\"6VukWNl\",\"iaxzeb+\",\"RIJXQxS\",\"IzZVTmA\",\"aqA+Y1P\",\"rLr+wv3\",\"3HdAXaS\",\"b3tE\\\\/aE\",\"3\\\\/ZOWn4\",\"d+SyJvX\",\"7GpJ2Pa\",\"SrbY234\",\"\\\\/JsxEyu\",\"FYvfWsA\",\"BjDH7sZ\",\"gMqLykq\",\"g5OBNqZ\",\"unvMfHc\",\"jIVGutb\",\"hfF7rSP\",\"o+9ImCQ\",\"URGLlvQ\",\"AqZuvJw\",\"s+gxJct\",\"GXogk13\",\"dAWNZ\\\\/s\",\"asa5IYx\",\"cYhjNQe\"],\"rds\":{\"m\":[\"FbtLogging\",\"IntlQtEventFalcoEvent\",\"PageTransitions\",\"Animation\"]},\"be\":1},\"PhotoTags\":{\"r\":[\"6VukWNl\",\"IzZVTmA\",\"rLr+wv3\",\"3\\\\/ZOWn4\",\"7GpJ2Pa\",\"b3tE\\\\/aE\"],\"be\":1},\"TagTokenizer\":{\"r\":[\"dAWNZ\\\\/s\",\"lIuo1pW\",\"6VukWNl\",\"IzZVTmA\",\"SRJJCWf\",\"rLr+wv3\",\"RwNGFt8\",\"b3tE\\\\/aE\",\"xn\\\\/7DkG\",\"7GpJ2Pa\",\"EXw8QtG\",\"G3NoM9m\",\"URGLlvQ\"],\"rds\":{\"m\":[\"FbtLogging\",\"IntlQtEventFalcoEvent\"]},\"be\":1},\"AsyncDialog\":{\"r\":[\"IuiQOyD\",\"nL59fCM\",\"RS9Sgv2\",\"lTAUCmL\",\"6VukWNl\",\"zxGEsUz\",\"aqA+Y1P\",\"rLr+wv3\",\"asa5IYx\",\"3HdAXaS\",\"b3tE\\\\/aE\",\"7GpJ2Pa\",\"\\\\/JsxEyu\",\"FYvfWsA\",\"g5OBNqZ\",\"unvMfHc\",\"hfF7rSP\",\"KJ4GGSm\",\"URGLlvQ\",\"s+gxJct\",\"SrbY234\",\"GXogk13\",\"cYhjNQe\"],\"rds\":{\"m\":[\"FbtLogging\",\"IntlQtEventFalcoEvent\"]},\"be\":1},\"Hovercard\":{\"r\":[\"IHGOWvv\",\"nL59fCM\",\"RS9Sgv2\",\"lTAUCmL\",\"6VukWNl\",\"iaxzeb+\",\"RIJXQxS\",\"aqA+Y1P\",\"rLr+wv3\",\"3HdAXaS\",\"b3tE\\\\/aE\",\"d+SyJvX\",\"7GpJ2Pa\",\"SrbY234\",\"\\\\/JsxEyu\",\"FYvfWsA\",\"BjDH7sZ\",\"gMqLykq\",\"unvMfHc\",\"hfF7rSP\",\"o+9ImCQ\",\"URGLlvQ\",\"s+gxJct\",\"dAWNZ\\\\/s\",\"asa5IYx\"],\"rds\":{\"m\":[\"FbtLogging\",\"IntlQtEventFalcoEvent\",\"PageTransitions\",\"Animation\"]},\"be\":1},\"XSalesPromoWWWDetailsDialogAsyncController\":{\"r\":[\"KTJXyzv\",\"SrbY234\"],\"be\":1},\"XOfferController\":{\"r\":[\"xsFg75a\",\"SrbY234\"],\"be\":1},\"PerfXSharedFields\":{\"r\":[\"KY7M436\",\"rLr+wv3\",\"d+SyJvX\"],\"be\":1},\"KeyEventTypedLogger\":{\"r\":[\"rLr+wv3\",\"rCasuzG\",\"d+SyJvX\"],\"be\":1},\"Dialog\":{\"r\":[\"dAWNZ\\\\/s\",\"nL59fCM\",\"RS9Sgv2\",\"6VukWNl\",\"aqA+Y1P\",\"rLr+wv3\",\"b3tE\\\\/aE\",\"7GpJ2Pa\",\"gC+tO\\\\/f\",\"\\\\/JsxEyu\",\"FYvfWsA\",\"unvMfHc\",\"i7QHZvw\",\"hfF7rSP\",\"lTAUCmL\",\"asa5IYx\",\"3HdAXaS\"],\"rds\":{\"m\":[\"FbtLogging\",\"IntlQtEventFalcoEvent\",\"Animation\",\"PageTransitions\"]},\"be\":1},\"ExceptionDialog\":{\"r\":[\"IuiQOyD\",\"RS9Sgv2\",\"lTAUCmL\",\"6VukWNl\",\"zxGEsUz\",\"d2V9i3I\",\"aqA+Y1P\",\"rLr+wv3\",\"asa5IYx\",\"3HdAXaS\",\"l+3+6J+\",\"b3tE\\\\/aE\",\"nNoXErl\",\"7GpJ2Pa\",\"AC8VrTj\",\"\\\\/JsxEyu\",\"FYvfWsA\",\"g5OBNqZ\",\"unvMfHc\",\"hfF7rSP\",\"KJ4GGSm\",\"URGLlvQ\",\"s+gxJct\",\"SrbY234\",\"nL59fCM\"],\"rds\":{\"m\":[\"FbtLogging\",\"IntlQtEventFalcoEvent\"]},\"be\":1},\"QuickSandSolver\":{\"r\":[\"gO5oVzJ\",\"dAWNZ\\\\/s\",\"SWx3yNv\",\"nL59fCM\",\"rLr+wv3\",\"acQtgBB\",\"7GpJ2Pa\",\"\\\\/JsxEyu\",\"x22Oby4\",\"8ELCBwH\",\"b3tE\\\\/aE\"],\"rds\":{\"m\":[\"FbtLogging\",\"IntlQtEventFalcoEvent\"]},\"be\":1},\"ConfirmationDialog\":{\"r\":[\"dAWNZ\\\\/s\",\"rLr+wv3\",\"7GpJ2Pa\",\"oE4DofT\",\"b3tE\\\\/aE\"],\"be\":1},\"MWADeveloperReauthBarrier\":{\"r\":[\"17Grp2h\",\"QyoftxH\",\"H\\\\/5lfuF\",\"rLr+wv3\",\"QIamfde\"],\"be\":1}}})});</script>\\n<script>requireLazy([\"InitialJSLoader\"], function(InitialJSLoader) {InitialJSLoader.loadOnDOMContentReady([\"rLr+wv3\",\"rQtDoZI\",\"6VukWNl\",\"hfF7rSP\",\"asa5IYx\",\"7GpJ2Pa\",\"\\\\/JsxEyu\",\"nL59fCM\",\"aqA+Y1P\",\"SrbY234\",\"dAWNZ\\\\/s\",\"I+GHswV\",\"BFolX4R\",\"zPYlTyl\",\"d+SyJvX\",\"P\\\\/mr5VE\"]);});</script>\\n<script>requireLazy([\"TimeSliceImpl\",\"ServerJS\"],function(TimeSlice,ServerJS){var s=(new ServerJS());s.handle({\"define\":[[\"cr:7736\",[\"FBLynxLogging\"],{\"__rc\":[\"FBLynxLogging\",null]},-1],[\"LinkshimHandlerConfig\",[],{\"supports_meta_referrer\":false,\"default_meta_referrer_policy\":\"default\",\"switched_meta_referrer_policy\":\"origin\",\"non_linkshim_lnfb_mode\":\"ie\",\"link_react_default_hash\":\"AT24un5qqwbY-E9IwESGFx3Chzi4LtYYjBLasPeDDZt0J9xnyASohInuKOpyc74PPhT-RfxmiSmG5_d-aKAAmsbnMomNAXdzjHIIgqrp6DYK8fsO-veVOz1RqDvr_hLPjAZznb59IWIaOR1f\",\"untrusted_link_default_hash\":\"AT0IESI2SXgreXsRU1YjwuYZq1kTyLE-ej_yEPUYg8Zourf10ecwMyYWCE0ZFe2VNLy1p2yDI0Tx3kxPgapaxdAtiFNmYUv5WQPZtOUb88mlah2SQ34hsjJmrqxjdVXZE5yctAZYegqE58TY\",\"linkshim_host\":\"l.facebook.com\",\"linkshim_path\":\"\\\\/l.php\",\"linkshim_enc_param\":\"h\",\"linkshim_url_param\":\"u\",\"use_rel_no_opener\":false,\"use_rel_no_referrer\":false,\"always_use_https\":false,\"onion_always_shim\":true,\"middle_click_requires_event\":false,\"www_safe_js_mode\":\"hover\",\"m_safe_js_mode\":null,\"ghl_param_link_shim\":false,\"click_ids\":[],\"is_linkshim_supported\":true,\"current_domain\":\"facebook.com\",\"blocklisted_domains\":[\"ad.doubleclick.net\",\"ads-encryption-url-example.com\",\"bs.serving-sys.com\",\"ad.atdmt.com\",\"adform.net\",\"ad13.adfarm1.adition.com\",\"ilovemyfreedoms.com\",\"secure.adnxs.com\"],\"is_mobile_device\":false},27]],\"elements\":[[\"__elem_a588f507_0_1_gN\",\"u_0_1_IW\",1],[\"__elem_a588f507_0_0_Sr\",\"globalContainer\",1],[\"__elem_a588f507_0_2_ES\",\"content\",1],[\"__elem_835c633a_0_0_J+\",\"u_0_2_lG\",1],[\"__elem_9f5fac15_0_0_KS\",\"passContainer\",1],[\"__elem_558608f3_0_0_yo\",\"pass\",1],[\"__elem_a588f507_0_3_+J\",\"u_0_3_jn\",1],[\"__elem_a588f507_0_4_xx\",\"u_0_4_0F\",1],[\"__elem_45d73b5d_0_0_7P\",\"u_0_5_9Y\",1]],\"require\":[[\"ServiceWorkerLoginAndLogout\",\"login\",[],[]],[\"WebPixelRatioDetector\",\"startDetecting\",[],[false]],[\"ScriptPath\",\"set\",[],[\"XIndexReduxController\",\"a1f3c513\",{\"imp_id\":\"1OFoCtlv8Ij4ljq98\",\"ef_page\":null,\"uri\":\"https:\\\\/\\\\/www.facebook.com\\\\/\"}]],[\"UITinyViewportAction\",\"init\",[],[]],[\"ResetScrollOnUnload\",\"init\",[\"__elem_a588f507_0_0_Sr\"],[{\"__m\":\"__elem_a588f507_0_0_Sr\"}]],[\"KeyboardActivityLogger\",\"init\",[],[]],[\"FocusRing\",\"init\",[],[]],[\"ErrorMessageConsole\",\"listenForUncaughtErrors\",[],[]],[\"HardwareCSS\",\"init\",[],[]],[\"LoginFormController\",\"init\",[\"__elem_835c633a_0_0_J+\",\"__elem_45d73b5d_0_0_7P\"],[{\"__m\":\"__elem_835c633a_0_0_J+\"},{\"__m\":\"__elem_45d73b5d_0_0_7P\"},null,true,{\"pubKey\":{\"publicKey\":\"cb31583f8c093842976f0f79d43bb9a9fb9485582b73729d1f55c48e2dbd3010\",\"keyId\":37}},false]],[\"BrowserPrefillLogging\",\"initContactpointFieldLogging\",[],[{\"contactpointFieldID\":\"email\",\"serverPrefill\":\"\"}]],[\"BrowserPrefillLogging\",\"initPasswordFieldLogging\",[],[{\"passwordFieldID\":\"pass\"}]],[\"FocusListener\"],[\"FlipDirectionOnKeypress\"],[\"LoginFormToggle\",\"initToggle\",[\"__elem_a588f507_0_3_+J\",\"__elem_a588f507_0_4_xx\",\"__elem_558608f3_0_0_yo\",\"__elem_9f5fac15_0_0_KS\"],[{\"__m\":\"__elem_a588f507_0_3_+J\"},{\"__m\":\"__elem_a588f507_0_4_xx\"},{\"__m\":\"__elem_558608f3_0_0_yo\"},{\"__m\":\"__elem_9f5fac15_0_0_KS\"}]],[\"IntlUtils\"],[\"FBLynx\",\"setupDelegation\",[],[]],[\"RequireDeferredReference\",\"unblock\",[],[[\"FbtLogging\",\"IntlQtEventFalcoEvent\"],\"sd\"]],[\"RequireDeferredReference\",\"unblock\",[],[[\"FbtLogging\",\"IntlQtEventFalcoEvent\"],\"css\"]],[\"TimeSliceImpl\"],[\"HasteSupportData\"],[\"ServerJS\"],[\"Run\"],[\"InitialJSLoader\"]],\"contexts\":[[{\"__m\":\"__elem_a588f507_0_1_gN\"},true],[{\"__m\":\"__elem_a588f507_0_2_ES\"},true]]});requireLazy([\"Run\"],function(Run){Run.onAfterLoad(function(){s.cleanup(TimeSlice)})});});</script>\\n<script>now_inl=(function(){var p=window.performance;return p&&p.now&&p.timing&&p.timing.navigationStart?function(){return p.now()+p.timing.navigationStart}:function(){return new Date().getTime()};})();window.__bigPipeFR=now_inl();</script>\\n<link rel=\"preload\" href=\"https://static.xx.fbcdn.net/rsrc.php/v3/yg/l/0,cross/FLrC6PYA5yw.css?_nc_x=Ij3Wp8lg5Kz\" as=\"style\" />\\n<link rel=\"preload\" href=\"https://static.xx.fbcdn.net/rsrc.php/v3/yd/l/0,cross/oKn9zbJ1sXf.css?_nc_x=Ij3Wp8lg5Kz\" as=\"style\" />\\n<link rel=\"preload\" href=\"https://static.xx.fbcdn.net/rsrc.php/v3/y0/l/0,cross/FKj-U-yJvWe.css?_nc_x=Ij3Wp8lg5Kz\" as=\"style\" />\\n<link rel=\"preload\" href=\"https://static.xx.fbcdn.net/rsrc.php/v3/yl/l/0,cross/NfVsrfz9WPN.css?_nc_x=Ij3Wp8lg5Kz\" as=\"style\" />\\n<link rel=\"preload\" href=\"https://static.xx.fbcdn.net/rsrc.php/v3/yH/l/0,cross/0T35mgYjgOT.css?_nc_x=Ij3Wp8lg5Kz\" as=\"style\" />\\n<link rel=\"preload\" href=\"https://static.xx.fbcdn.net/rsrc.php/v3/ya/r/PLbs5pK1vke.js?_nc_x=Ij3Wp8lg5Kz\" as=\"script\" nonce=\"ilFO5kWe\" />\\n<link rel=\"preload\" href=\"https://static.xx.fbcdn.net/rsrc.php/v3/yu/r/GEF2c_o4B9v.js?_nc_x=Ij3Wp8lg5Kz\" as=\"script\" nonce=\"ilFO5kWe\" />\\n<link rel=\"preload\" href=\"https://static.xx.fbcdn.net/rsrc.php/v3/yY/r/pXKXHFmTacV.js?_nc_x=Ij3Wp8lg5Kz\" as=\"script\" nonce=\"ilFO5kWe\" />\\n<link rel=\"preload\" href=\"https://static.xx.fbcdn.net/rsrc.php/v3ixCr4/yr/l/uk_UA/QrjLA-lGlZU.js?_nc_x=Ij3Wp8lg5Kz\" as=\"script\" nonce=\"ilFO5kWe\" />\\n<link rel=\"preload\" href=\"https://static.xx.fbcdn.net/rsrc.php/v3/yf/r/POEX6IQGPQA.js?_nc_x=Ij3Wp8lg5Kz\" as=\"script\" nonce=\"ilFO5kWe\" />\\n<link rel=\"preload\" href=\"https://static.xx.fbcdn.net/rsrc.php/v3/yh/r/kUiH4DNuIvh.js?_nc_x=Ij3Wp8lg5Kz\" as=\"script\" nonce=\"ilFO5kWe\" />\\n<script>window.__bigPipeCtor=now_inl();requireLazy([\"BigPipe\"],function(BigPipe){define(\"__bigPipe\",[],window.bigPipe=new BigPipe({\"forceFinish\":true,\"config\":{\"flush_pagelets_asap\":true,\"dispatch_pagelet_replayable_actions\":false}}));});</script>\\n<script nonce=\"ilFO5kWe\">(function(){var n=now_inl();requireLazy([\"__bigPipe\"],function(bigPipe){bigPipe.beforePageletArrive(\"first_response\",n);})})();</script>\\n<script nonce=\"ilFO5kWe\">requireLazy([\"__bigPipe\"],(function(bigPipe){bigPipe.onPageletArrive({displayResources:[\"GLWoijf\",\"b3tE/aE\",\"FYvfWsA\",\"AC8VrTj\",\"Xp/Gjz9\",\"rLr+wv3\",\"7GpJ2Pa\",\"SrbY234\",\"P/mr5VE\",\"nL59fCM\",\"/JsxEyu\",\"aqA+Y1P\"],id:\"first_response\",phase:0,last_in_phase:true,tti_phase:0,all_phases:[63],hsrp:{hblp:{consistency:{rev:1012081852}}},allResources:[\"rLr+wv3\",\"rQtDoZI\",\"6VukWNl\",\"hfF7rSP\",\"asa5IYx\",\"7GpJ2Pa\",\"/JsxEyu\",\"nL59fCM\",\"aqA+Y1P\",\"GLWoijf\",\"b3tE/aE\",\"FYvfWsA\",\"AC8VrTj\",\"Xp/Gjz9\",\"SrbY234\",\"dAWNZ/s\",\"I+GHswV\",\"BFolX4R\",\"zPYlTyl\",\"P/mr5VE\",\"d+SyJvX\"]});}));</script>\\n<script>requireLazy([\"__bigPipe\"],function(bigPipe){bigPipe.setPageID(\"7346558509539627150\")});</script><script nonce=\"ilFO5kWe\">(function(){var n=now_inl();requireLazy([\"__bigPipe\"],function(bigPipe){bigPipe.beforePageletArrive(\"last_response\",n);})})();</script>\\n<script nonce=\"ilFO5kWe\">requireLazy([\"__bigPipe\"],(function(bigPipe){bigPipe.onPageletArrive({displayResources:[\"rLr+wv3\"],id:\"last_response\",phase:63,last_in_phase:true,the_end:true,jsmods:{define:[[\"cr:6016\",[\"NavigationMetricsWWW\"],{__rc:[\"NavigationMetricsWWW\",null]},-1],[\"cr:7383\",[\"BanzaiWWW\"],{__rc:[\"BanzaiWWW\",null]},-1],[\"cr:5662\",[\"Event\"],{__rc:[\"Event\",null]},-1],[\"cr:1458113\",[],{__rc:[null,null]},-1],[\"cr:3376\",[],{__rc:[null,null]},-1],[\"cr:1083116\",[\"XAsyncRequest\"],{__rc:[\"XAsyncRequest\",null]},-1],[\"cr:1083117\",[],{__rc:[null,null]},-1],[\"TimeSliceInteractionSV\",[],{on_demand_reference_counting:true,on_demand_profiling_counters:true,default_rate:1000,lite_default_rate:100,interaction_to_lite_coinflip:{ADS_INTERFACES_INTERACTION:0,ads_perf_scenario:0,ads_wait_time:0,Event:1},interaction_to_coinflip:{ADS_INTERFACES_INTERACTION:1,ads_perf_scenario:1,ads_wait_time:1,Event:100},enable_heartbeat:false,maxBlockMergeDuration:0,maxBlockMergeDistance:0,enable_banzai_stream:true,user_timing_coinflip:50,banzai_stream_coinflip:0,compression_enabled:true,ref_counting_fix:false,ref_counting_cont_fix:false,also_record_new_timeslice_format:false,force_async_request_tracing_on:false},2609],[\"BDSignalCollectionData\",[],{sc:\"{\\\\\"t\\\\\":1659080345,\\\\\"c\\\\\":[[30000,838801],[30001,838801],[30002,838801],[30003,838801],[30004,838801],[30005,838801],[30006,573585],[30007,838801],[30008,838801],[30012,838801],[30013,838801],[30015,806033],[30018,806033],[30021,540823],[30022,540817],[30040,806033],[30093,806033],[30094,806033],[30095,806033],[30101,541591],[30102,541591],[30103,541591],[30104,541591],[30106,806039],[30107,806039],[38000,541427],[38001,806643]]}\",fds:60,fda:60,i:60,sbs:1,dbs:100,bbs:100,hbi:60,rt:262144,hbcbc:2,hbvbc:0,hbbi:30,sid:-1,hbv:\"560959437973614312\"},5239],[\"cr:1642797\",[\"BanzaiBase\"],{__rc:[\"BanzaiBase\",null]},-1],[\"cr:1042\",[\"XAsyncRequestWWW\"],{__rc:[\"XAsyncRequestWWW\",null]},-1],[\"cr:5866\",[\"BanzaiAdapterWWW\"],{__rc:[\"BanzaiAdapterWWW\",null]},-1],[\"cr:7384\",[\"cancelIdleCallbackWWW\"],{__rc:[\"cancelIdleCallbackWWW\",null]},-1],[\"cr:692209\",[\"cancelIdleCallbackBlue\"],{__rc:[\"cancelIdleCallbackBlue\",null]},-1],[\"BanzaiConfig\",[],{MAX_SIZE:10000,MAX_WAIT:150000,MIN_WAIT:null,RESTORE_WAIT:150000,blacklist:[\"time_spent\"],disabled:false,gks:{boosted_pagelikes:true,mercury_send_error_logging:true,platform_oauth_client_events:true,sticker_search_ranking:true},known_routes:[\"artillery_javascript_actions\",\"artillery_javascript_trace\",\"artillery_logger_data\",\"logger\",\"falco\",\"gk2_exposure\",\"js_error_logging\",\"loom_trace\",\"marauder\",\"perfx_custom_logger_endpoint\",\"qex\",\"require_cond_exposure_logging\",\"metaconfig_exposure\"],should_drop_unknown_routes:true,should_log_unknown_routes:false},7],[\"cr:6943\",[\"EventListenerImplForCacheStorage\"],{__rc:[\"EventListenerImplForCacheStorage\",null]},-1],[\"cr:1634616\",[\"UserActivityBlue\"],{__rc:[\"UserActivityBlue\",null]},-1],[\"cr:5695\",[\"EventListenerWWW\"],{__rc:[\"EventListenerWWW\",null]},-1],[\"cr:844180\",[\"TimeSpentImmediateActiveSecondsLoggerBlue\"],{__rc:[\"TimeSpentImmediateActiveSecondsLoggerBlue\",null]},-1],[\"cr:1187159\",[\"BlueCompatBroker\"],{__rc:[\"BlueCompatBroker\",null]},-1],[\"WebStorageMonsterLoggingURI\",[],{uri:\"/ajax/webstorage/process_keys/?state=1\"},3032],[\"BrowserPaymentHandlerConfig\",[],{enabled:false},3904],[\"TimeSpentConfig\",[],{delay:1000,timeout:64,\"0_delay\":0,\"0_timeout\":8},142],[\"cr:5800\",[],{__rc:[null,null]},-1],[\"cr:1353359\",[\"EventListenerImplForBlue\"],{__rc:[\"EventListenerImplForBlue\",null]},-1],[\"ImmediateActiveSecondsConfig\",[],{sampling_rate:0},423],[\"WebDevicePerfInfoData\",[],{needsFullUpdate:true,needsPartialUpdate:false,shouldLogResourcePerf:false},3977]],require:[[\"BDClientSignalCollectionTrigger\",\"startSignalCollection\",[],[{sc:\"{\\\\\"t\\\\\":1659080345,\\\\\"c\\\\\":[[30000,838801],[30001,838801],[30002,838801],[30003,838801],[30004,838801],[30005,838801],[30006,573585],[30007,838801],[30008,838801],[30012,838801],[30013,838801],[30015,806033],[30018,806033],[30021,540823],[30022,540817],[30040,806033],[30093,806033],[30094,806033],[30095,806033],[30101,541591],[30102,541591],[30103,541591],[30104,541591],[30106,806039],[30107,806039],[38000,541427],[38001,806643]]}\",fds:60,fda:60,i:60,sbs:1,dbs:100,bbs:100,hbi:60,rt:262144,hbcbc:2,hbvbc:0,hbbi:30,sid:-1,hbv:\"560959437973614312\"}]],[\"NavigationMetrics\",\"setPage\",[],[{page:\"XIndexReduxController\",page_type:\"normal\",page_uri:\"https://www.facebook.com/\",serverLID:\"7346558509539627150\"}]],[\"FalcoLoggerTransports\",\"attach\",[],[]],[\"Chromedome\",\"start\",[],[{}]],[\"DimensionTracking\"],[\"ClickRefLogger\"],[\"NavigationClickPointHandler\"],[\"WebDevicePerfInfoLogging\",\"doLog\",[],[]],[\"WebStorageMonster\",\"schedule\",[],[]],[\"Artillery\",\"disable\",[],[]],[\"ScriptPathLogger\",\"startLogging\",[],[]],[\"TimeSpentBitArrayLogger\",\"init\",[],[]],[\"CookieCore\",\"setWithoutChecksIfFirstPartyContext\",[],[\"_js_datr\",\"Cjj0ZX277MYAyJZLmqfE36mX\",34560000000,\"/\",true,\".facebook.com\"]],[\"TransportSelectingClientSingletonConditional\"],[\"RequireDeferredReference\",\"unblock\",[],[[\"TransportSelectingClientSingletonConditional\"],\"sd\"]],[\"RequireDeferredReference\",\"unblock\",[],[[\"TransportSelectingClientSingletonConditional\"],\"css\"]]]},hsrp:{hsdp:{clpData:{\"1871697\":{r:1,s:1},\"1829319\":{r:1},\"1829320\":{r:1},\"1843988\":{r:1}},gkxData:{\"21074\":{result:false,hash:null}},qexData:{\"526\":{r:null},\"538\":{r:null},\"543\":{r:null}}},hblp:{consistency:{rev:1012081852}}},allResources:[\"BFolX4R\",\"zPYlTyl\",\"iGtOaF1\",\"7GpJ2Pa\",\"KF9ttki\",\"nL59fCM\",\"cYhjNQe\",\"SrbY234\",\"/JsxEyu\",\"rLr+wv3\"]});}));</script></body></html>'"
      ]
     },
     "execution_count": 8,
     "metadata": {},
     "output_type": "execute_result"
    }
   ],
   "source": [
    "result.content"
   ]
  },
  {
   "cell_type": "code",
   "execution_count": 9,
   "id": "ac7c82f1-e3c5-41e9-ab28-f1ce9cdc97a5",
   "metadata": {},
   "outputs": [
    {
     "data": {
      "text/plain": [
       "200"
      ]
     },
     "execution_count": 9,
     "metadata": {},
     "output_type": "execute_result"
    }
   ],
   "source": [
    "result.status_code"
   ]
  },
  {
   "cell_type": "code",
   "execution_count": null,
   "id": "0d6f9b97-1b6c-4f81-ba06-6ef2613e2b6b",
   "metadata": {},
   "outputs": [],
   "source": []
  }
 ],
 "metadata": {
  "kernelspec": {
   "display_name": "Python 3 (ipykernel)",
   "language": "python",
   "name": "python3"
  },
  "language_info": {
   "codemirror_mode": {
    "name": "ipython",
    "version": 3
   },
   "file_extension": ".py",
   "mimetype": "text/x-python",
   "name": "python",
   "nbconvert_exporter": "python",
   "pygments_lexer": "ipython3",
   "version": "3.12.1"
  }
 },
 "nbformat": 4,
 "nbformat_minor": 5
}
