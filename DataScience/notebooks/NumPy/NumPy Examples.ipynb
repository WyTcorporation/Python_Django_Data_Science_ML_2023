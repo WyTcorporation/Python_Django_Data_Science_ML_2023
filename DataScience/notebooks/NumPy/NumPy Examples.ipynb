{
 "cells": [
  {
   "cell_type": "code",
   "execution_count": 1,
   "id": "9c0761f7-b77e-406d-b76f-bcbc4a59f9be",
   "metadata": {},
   "outputs": [],
   "source": [
    "import numpy as np"
   ]
  },
  {
   "cell_type": "markdown",
   "id": "7ef39e9a-8e34-4897-a4c1-1eb431e51ab2",
   "metadata": {},
   "source": [
    "## 1. Calculating Total Revenue"
   ]
  },
  {
   "cell_type": "code",
   "execution_count": 2,
   "id": "a2dc5e59-60fd-4b7b-b456-ba8ceab6ab77",
   "metadata": {},
   "outputs": [],
   "source": [
    "prices = np.array([19.99, 29.99, 14.99, 9.99, 24.99])"
   ]
  },
  {
   "cell_type": "code",
   "execution_count": 3,
   "id": "2cf4cf10-cfe0-41f6-b07f-b001f653bef7",
   "metadata": {},
   "outputs": [
    {
     "data": {
      "text/plain": [
       "array([19.99, 29.99, 14.99,  9.99, 24.99])"
      ]
     },
     "execution_count": 3,
     "metadata": {},
     "output_type": "execute_result"
    }
   ],
   "source": [
    "prices"
   ]
  },
  {
   "cell_type": "code",
   "execution_count": 4,
   "id": "f25044a5-31c0-4311-b722-7871eb71bbe5",
   "metadata": {},
   "outputs": [
    {
     "data": {
      "text/plain": [
       "array([10,  5,  8, 12,  3])"
      ]
     },
     "execution_count": 4,
     "metadata": {},
     "output_type": "execute_result"
    }
   ],
   "source": [
    "qts = np.array([10,5,8,12,3])\n",
    "qts"
   ]
  },
  {
   "cell_type": "code",
   "execution_count": 5,
   "id": "c8e326df-602f-4960-aadf-315a13c8496c",
   "metadata": {},
   "outputs": [],
   "source": [
    "revenue_per_product = prices * qts"
   ]
  },
  {
   "cell_type": "code",
   "execution_count": 6,
   "id": "b8104478-895a-45c9-b75a-779d5ddfc786",
   "metadata": {},
   "outputs": [
    {
     "data": {
      "text/plain": [
       "array([199.9 , 149.95, 119.92, 119.88,  74.97])"
      ]
     },
     "execution_count": 6,
     "metadata": {},
     "output_type": "execute_result"
    }
   ],
   "source": [
    "revenue_per_product"
   ]
  },
  {
   "cell_type": "code",
   "execution_count": 7,
   "id": "c2bd1aed-9713-4040-b2ba-06ac89599801",
   "metadata": {},
   "outputs": [
    {
     "data": {
      "text/plain": [
       "664.62"
      ]
     },
     "execution_count": 7,
     "metadata": {},
     "output_type": "execute_result"
    }
   ],
   "source": [
    "total_revenue = np.sum(revenue_per_product)\n",
    "total_revenue"
   ]
  },
  {
   "cell_type": "code",
   "execution_count": 8,
   "id": "8dc67849-5ec3-4c2a-8d78-2a4d4b664e63",
   "metadata": {},
   "outputs": [
    {
     "data": {
      "text/plain": [
       "664.62"
      ]
     },
     "execution_count": 8,
     "metadata": {},
     "output_type": "execute_result"
    }
   ],
   "source": [
    "np.sum(prices * qts)"
   ]
  },
  {
   "cell_type": "markdown",
   "id": "29e3f7cd-39bb-4d12-bdb9-b42e2e4c153f",
   "metadata": {},
   "source": [
    "## 2. Analyzing Blog Post Stats"
   ]
  },
  {
   "cell_type": "code",
   "execution_count": 9,
   "id": "ae064ad3-a9de-4232-b658-c91c93b0770e",
   "metadata": {},
   "outputs": [
    {
     "data": {
      "text/plain": [
       "array([ 100,  500,  800, 1200,  300,  600])"
      ]
     },
     "execution_count": 9,
     "metadata": {},
     "output_type": "execute_result"
    }
   ],
   "source": [
    "views = np.array([100,500,800,1200,300,600])\n",
    "views"
   ]
  },
  {
   "cell_type": "code",
   "execution_count": 10,
   "id": "b5e89ee6-474e-42ca-8bac-d73da97c2e15",
   "metadata": {},
   "outputs": [
    {
     "data": {
      "text/plain": [
       "1200"
      ]
     },
     "execution_count": 10,
     "metadata": {},
     "output_type": "execute_result"
    }
   ],
   "source": [
    "max_views = np.max(views)\n",
    "max_views"
   ]
  },
  {
   "cell_type": "code",
   "execution_count": 11,
   "id": "8960715f-4ab7-44dc-b2e8-4c931d0c1aca",
   "metadata": {},
   "outputs": [
    {
     "data": {
      "text/plain": [
       "100"
      ]
     },
     "execution_count": 11,
     "metadata": {},
     "output_type": "execute_result"
    }
   ],
   "source": [
    "min_views = np.min(views)\n",
    "min_views"
   ]
  },
  {
   "cell_type": "code",
   "execution_count": 12,
   "id": "78fb6f54-1634-4810-a2d9-5e85c3f436b1",
   "metadata": {},
   "outputs": [
    {
     "data": {
      "text/plain": [
       "583.0"
      ]
     },
     "execution_count": 12,
     "metadata": {},
     "output_type": "execute_result"
    }
   ],
   "source": [
    "average_views = np.mean(views) # Среднее значение\n",
    "average_views\n",
    "np.round(average_views)"
   ]
  },
  {
   "cell_type": "code",
   "execution_count": 13,
   "id": "6c97653b-bc8c-4b56-b1dd-2cb92e62b33f",
   "metadata": {},
   "outputs": [
    {
     "data": {
      "text/plain": [
       "3500"
      ]
     },
     "execution_count": 13,
     "metadata": {},
     "output_type": "execute_result"
    }
   ],
   "source": [
    "total_views = np.sum(views)\n",
    "total_views"
   ]
  },
  {
   "cell_type": "markdown",
   "id": "2301f7d5-988a-4edd-bbc1-55ef2b3860ab",
   "metadata": {},
   "source": [
    "## 3. Splitting Order into Batches"
   ]
  },
  {
   "cell_type": "code",
   "execution_count": 14,
   "id": "7e79548f-b210-40bb-8f5e-62b8ea2f865a",
   "metadata": {},
   "outputs": [
    {
     "data": {
      "text/plain": [
       "array([1001, 1002, 1003, 1004, 1005, 1006, 1007, 1008, 1009])"
      ]
     },
     "execution_count": 14,
     "metadata": {},
     "output_type": "execute_result"
    }
   ],
   "source": [
    "order_ids = np.array([1001,1002,1003,1004,1005,1006,1007,1008,1009])\n",
    "order_ids"
   ]
  },
  {
   "cell_type": "code",
   "execution_count": 15,
   "id": "ba525453-72c1-4346-b291-c600021044d2",
   "metadata": {},
   "outputs": [],
   "source": [
    "#batches = np.split(order_ids,4)\n",
    "#batches"
   ]
  },
  {
   "cell_type": "code",
   "execution_count": 16,
   "id": "0690a6cf-9d72-4baf-96ba-428a69042d45",
   "metadata": {},
   "outputs": [
    {
     "data": {
      "text/plain": [
       "[array([1001, 1002, 1003]),\n",
       " array([1004, 1005, 1006]),\n",
       " array([1007, 1008, 1009])]"
      ]
     },
     "execution_count": 16,
     "metadata": {},
     "output_type": "execute_result"
    }
   ],
   "source": [
    "batches = np.split(order_ids,3)\n",
    "batches"
   ]
  },
  {
   "cell_type": "code",
   "execution_count": 17,
   "id": "75962dbe-d2a1-4104-b0dd-c7c7308523c9",
   "metadata": {},
   "outputs": [
    {
     "name": "stdout",
     "output_type": "stream",
     "text": [
      "[1001 1002 1003]\n",
      "1001\n",
      "[1004 1005 1006]\n",
      "1004\n",
      "[1007 1008 1009]\n",
      "1007\n"
     ]
    }
   ],
   "source": [
    "for batch in batches: \n",
    "    print(batch)\n",
    "    print(batch[0])"
   ]
  },
  {
   "cell_type": "code",
   "execution_count": 18,
   "id": "dd5165e1-f08d-428d-8b08-6ab986f64d8a",
   "metadata": {},
   "outputs": [
    {
     "name": "stdout",
     "output_type": "stream",
     "text": [
      "0\n",
      "1001\n",
      "1\n",
      "1004\n",
      "2\n",
      "1007\n"
     ]
    }
   ],
   "source": [
    "for i, batch in enumerate(batches): #  enumerate - возвращает последовательность кортежей\n",
    "    print(i)\n",
    "    print(batch[0])"
   ]
  },
  {
   "cell_type": "markdown",
   "id": "b842ddcf-f368-400f-b52f-67a75215eb65",
   "metadata": {},
   "source": [
    "## 4. Categorizing Product Ratings"
   ]
  },
  {
   "cell_type": "code",
   "execution_count": 19,
   "id": "96316072-3b36-4c4e-9730-dccbda9a1e87",
   "metadata": {},
   "outputs": [
    {
     "data": {
      "text/plain": [
       "array([4.5, 3.2, 2.8, 5. , 4.1, 3.9, 2.5, 4.7])"
      ]
     },
     "execution_count": 19,
     "metadata": {},
     "output_type": "execute_result"
    }
   ],
   "source": [
    "ratings = np.array([4.5,3.2,2.8,5.0,4.1,3.9,2.5,4.7]) # Разобьем на два массива с хорошим рейтингом и плохим\n",
    "ratings"
   ]
  },
  {
   "cell_type": "code",
   "execution_count": 20,
   "id": "79bb7b49-ea8c-47e2-93ad-85b58cd76205",
   "metadata": {},
   "outputs": [
    {
     "data": {
      "text/plain": [
       "array([4.5, 5. , 4.1, 4.7])"
      ]
     },
     "execution_count": 20,
     "metadata": {},
     "output_type": "execute_result"
    }
   ],
   "source": [
    "positive_ratings = ratings[ratings >= 4.0]\n",
    "positive_ratings"
   ]
  },
  {
   "cell_type": "code",
   "execution_count": 21,
   "id": "48097b45-4843-4ef0-92f6-dc548969fa96",
   "metadata": {},
   "outputs": [
    {
     "data": {
      "text/plain": [
       "array([3.2, 2.8, 3.9, 2.5])"
      ]
     },
     "execution_count": 21,
     "metadata": {},
     "output_type": "execute_result"
    }
   ],
   "source": [
    "negative_ratings = ratings[ratings < 4.0]\n",
    "negative_ratings"
   ]
  },
  {
   "cell_type": "markdown",
   "id": "60399b49-4e9f-44d2-bc0c-e8a9e33f3d67",
   "metadata": {},
   "source": [
    "## 5. Calculate Total and Average quantities sold"
   ]
  },
  {
   "cell_type": "code",
   "execution_count": 22,
   "id": "7ae63c9b-2860-4fe0-b299-b62babff3a8b",
   "metadata": {},
   "outputs": [
    {
     "data": {
      "text/plain": [
       "array([[ 5,  3,  2,  7],\n",
       "       [10,  6,  3,  9]])"
      ]
     },
     "execution_count": 22,
     "metadata": {},
     "output_type": "execute_result"
    }
   ],
   "source": [
    "# Each column is specific product\n",
    "# Each row is specific order\n",
    "order_quantities = np.array([[5,3,2,7],[10,6,3,9]])\n",
    "order_quantities\n",
    "# Задача посчетать 5+10,3+6,2+3,7+9"
   ]
  },
  {
   "cell_type": "code",
   "execution_count": 23,
   "id": "b472bbe1-cf66-4c9b-a7a7-302f92e23150",
   "metadata": {},
   "outputs": [
    {
     "data": {
      "text/plain": [
       "array([15,  9,  5, 16])"
      ]
     },
     "execution_count": 23,
     "metadata": {},
     "output_type": "execute_result"
    }
   ],
   "source": [
    "# Возбмем по оси 0, результат что надо \n",
    "total_quantities_sold = np.sum(order_quantities, axis=0)\n",
    "total_quantities_sold"
   ]
  },
  {
   "cell_type": "code",
   "execution_count": 24,
   "id": "37817ee8-895d-4db7-b655-7b1521d625bb",
   "metadata": {},
   "outputs": [
    {
     "data": {
      "text/plain": [
       "array([17, 28])"
      ]
     },
     "execution_count": 24,
     "metadata": {},
     "output_type": "execute_result"
    }
   ],
   "source": [
    "# Для интереса посмотрим по оси 1 и получим сумму в каждом заказе\n",
    "total_quantities_sold = np.sum(order_quantities, axis=1)\n",
    "total_quantities_sold"
   ]
  },
  {
   "cell_type": "code",
   "execution_count": 25,
   "id": "042670c5-24de-484d-a934-743ae0d1a738",
   "metadata": {},
   "outputs": [
    {
     "data": {
      "text/plain": [
       "array([7.5, 4.5, 2.5, 8. ])"
      ]
     },
     "execution_count": 25,
     "metadata": {},
     "output_type": "execute_result"
    }
   ],
   "source": [
    "# Средне количество товаров на заказ\n",
    "average_quantities_sold = np.mean(order_quantities,axis=0)\n",
    "average_quantities_sold"
   ]
  },
  {
   "cell_type": "markdown",
   "id": "278ec1b8-2c1e-4ab7-a3f1-3dca1a5ffe81",
   "metadata": {},
   "source": [
    "## 6. Calculate Average product Rating and Maximum rating per Category"
   ]
  },
  {
   "cell_type": "code",
   "execution_count": 27,
   "id": "26df3f1e-33e3-487a-92cc-49dfdacebd05",
   "metadata": {},
   "outputs": [
    {
     "data": {
      "text/plain": [
       "array([[4.5, 3.2, 2.5, 5. ],\n",
       "       [4.3, 3.8, 1. , 4.8],\n",
       "       [2. , 3.6, 4.7, 0.5]])"
      ]
     },
     "execution_count": 27,
     "metadata": {},
     "output_type": "execute_result"
    }
   ],
   "source": [
    "# Each row is one product\n",
    "# Each product is rated in 4 categories\n",
    "product_ratings = np.array([\n",
    "[4.5,3.2,2.5,5.0],\n",
    "[4.3,3.8,1.0,4.8],\n",
    "[2.0,3.6,4.7,0.5]\n",
    "])\n",
    "product_ratings"
   ]
  },
  {
   "cell_type": "code",
   "execution_count": 37,
   "id": "119bfcc6-82af-4a67-ac59-5b8e4de8d1e8",
   "metadata": {},
   "outputs": [
    {
     "data": {
      "text/plain": [
       "array([3.6       , 3.53333333, 2.73333333, 3.43333333])"
      ]
     },
     "execution_count": 37,
     "metadata": {},
     "output_type": "execute_result"
    }
   ],
   "source": [
    "# Average rating in each category\n",
    "average_rating_per_category = np.mean(product_ratings,dtype=float, axis=0)\n",
    "average_rating_per_category"
   ]
  },
  {
   "cell_type": "code",
   "execution_count": 40,
   "id": "e51a9cdd-13dd-4dd8-9340-9185a61345a0",
   "metadata": {},
   "outputs": [
    {
     "data": {
      "text/plain": [
       "array([3.8  , 3.475, 2.7  ])"
      ]
     },
     "execution_count": 40,
     "metadata": {},
     "output_type": "execute_result"
    }
   ],
   "source": [
    "# Average rating for each product\n",
    "average_rating_per_product = np.mean(product_ratings,dtype=float, axis=1)\n",
    "average_rating_per_product"
   ]
  },
  {
   "cell_type": "code",
   "execution_count": 43,
   "id": "31482e2f-0950-412d-a120-f2c41e66892c",
   "metadata": {},
   "outputs": [
    {
     "data": {
      "text/plain": [
       "array([4.5, 3.8, 4.7, 5. ])"
      ]
     },
     "execution_count": 43,
     "metadata": {},
     "output_type": "execute_result"
    }
   ],
   "source": [
    "# Max rating in each category\n",
    "max_rating_per_category = np.max(product_ratings, axis=0)\n",
    "max_rating_per_category"
   ]
  },
  {
   "cell_type": "markdown",
   "id": "0853883a-b53a-4ac6-b185-8982cdf5b433",
   "metadata": {},
   "source": [
    "## Generation of the sample stock data"
   ]
  },
  {
   "cell_type": "code",
   "execution_count": 49,
   "id": "bb6d5174-7b8d-4d30-a7e0-746fc35a9ed2",
   "metadata": {},
   "outputs": [],
   "source": [
    "companies = [    'Google' , 'Microsoft', 'Apple']\n",
    "days = ['Mon 1 April','Tue 2 April']\n",
    "price_types = ['Open','Close','High','Low']"
   ]
  },
  {
   "cell_type": "code",
   "execution_count": 55,
   "id": "ec3413cf-8ff9-4479-96ca-f10471fa5cc9",
   "metadata": {},
   "outputs": [
    {
     "data": {
      "text/plain": [
       "array([[[0.417, 0.72 , 0.   , 0.302],\n",
       "        [0.147, 0.092, 0.186, 0.346]],\n",
       "\n",
       "       [[0.397, 0.539, 0.419, 0.685],\n",
       "        [0.204, 0.878, 0.027, 0.67 ]],\n",
       "\n",
       "       [[0.417, 0.559, 0.14 , 0.198],\n",
       "        [0.801, 0.968, 0.313, 0.692]]])"
      ]
     },
     "execution_count": 55,
     "metadata": {},
     "output_type": "execute_result"
    }
   ],
   "source": [
    "# shape will be (3,2,4)\n",
    "np.random.seed(1)\n",
    "stock_precises = np.round(np.random.random((len(companies),len(days), len(price_types))),3)\n",
    "stock_precises"
   ]
  },
  {
   "cell_type": "code",
   "execution_count": 56,
   "id": "ba142436-d73a-4e4e-a96b-c990c8f31c56",
   "metadata": {},
   "outputs": [
    {
     "data": {
      "text/plain": [
       "(3, 2, 4)"
      ]
     },
     "execution_count": 56,
     "metadata": {},
     "output_type": "execute_result"
    }
   ],
   "source": [
    "stock_precises.shape"
   ]
  },
  {
   "cell_type": "code",
   "execution_count": 57,
   "id": "2df3d0e5-c8c0-47d7-9cb8-0339915c2470",
   "metadata": {},
   "outputs": [
    {
     "name": "stdout",
     "output_type": "stream",
     "text": [
      "Stock prices for Google:\n",
      "Day: Mon 1 April\n",
      "Open Price: 0.417\n",
      "Close Price: 0.72\n",
      "High Price: 0.0\n",
      "Low Price: 0.302\n",
      "\n",
      "Day: Tue 2 April\n",
      "Open Price: 0.147\n",
      "Close Price: 0.092\n",
      "High Price: 0.186\n",
      "Low Price: 0.346\n",
      "\n",
      "\n",
      "Stock prices for Microsoft:\n",
      "Day: Mon 1 April\n",
      "Open Price: 0.397\n",
      "Close Price: 0.539\n",
      "High Price: 0.419\n",
      "Low Price: 0.685\n",
      "\n",
      "Day: Tue 2 April\n",
      "Open Price: 0.204\n",
      "Close Price: 0.878\n",
      "High Price: 0.027\n",
      "Low Price: 0.67\n",
      "\n",
      "\n",
      "Stock prices for Apple:\n",
      "Day: Mon 1 April\n",
      "Open Price: 0.417\n",
      "Close Price: 0.559\n",
      "High Price: 0.14\n",
      "Low Price: 0.198\n",
      "\n",
      "Day: Tue 2 April\n",
      "Open Price: 0.801\n",
      "Close Price: 0.968\n",
      "High Price: 0.313\n",
      "Low Price: 0.692\n",
      "\n",
      "\n"
     ]
    }
   ],
   "source": [
    "for axis_0,company in enumerate(companies):\n",
    "    print(f'Stock prices for {company}:')\n",
    "    for axis_1, day in enumerate(days):\n",
    "        print(f'Day: {day}')\n",
    "        for axis_2, price_type in enumerate(price_types):\n",
    "             print(f'{price_type} Price: {stock_precises[axis_0,axis_1,axis_2]}')\n",
    "        print(f'')\n",
    "    print(f'')"
   ]
  },
  {
   "cell_type": "code",
   "execution_count": null,
   "id": "ae94dc6a-850b-4508-adea-383e90c5f5e2",
   "metadata": {},
   "outputs": [],
   "source": []
  }
 ],
 "metadata": {
  "kernelspec": {
   "display_name": "Python 3 (ipykernel)",
   "language": "python",
   "name": "python3"
  },
  "language_info": {
   "codemirror_mode": {
    "name": "ipython",
    "version": 3
   },
   "file_extension": ".py",
   "mimetype": "text/x-python",
   "name": "python",
   "nbconvert_exporter": "python",
   "pygments_lexer": "ipython3",
   "version": "3.12.1"
  }
 },
 "nbformat": 4,
 "nbformat_minor": 5
}
