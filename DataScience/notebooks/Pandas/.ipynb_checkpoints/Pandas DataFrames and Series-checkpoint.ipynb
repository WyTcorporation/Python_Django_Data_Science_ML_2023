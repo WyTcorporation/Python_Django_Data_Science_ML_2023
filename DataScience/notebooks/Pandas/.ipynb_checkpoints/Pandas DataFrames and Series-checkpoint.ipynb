{
 "cells": [
  {
   "cell_type": "code",
   "execution_count": 61,
   "id": "76169b98-af13-4ff1-8bfb-2d53140c5890",
   "metadata": {},
   "outputs": [],
   "source": [
    "import pandas as pd\n",
    "import numpy as np"
   ]
  },
  {
   "cell_type": "markdown",
   "id": "cfaf07ca-8156-4269-86b2-cad4f6e62f5a",
   "metadata": {},
   "source": [
    "## DataFrame"
   ]
  },
  {
   "cell_type": "code",
   "execution_count": 62,
   "id": "5b7c5674-522e-4e62-96f5-1d6b748d2e2e",
   "metadata": {},
   "outputs": [],
   "source": [
    "forum_users = {\n",
    "    'User ID': [1,2,3,4,5],\n",
    "    'Username': ['bogdan_s','jane_smith','alex123','bob56','mark_wilson'],\n",
    "    'Age':[18,35,25,38,45],\n",
    "    'Joined Date':['2023-01-01','2023-02-01','2023-03-01','2023-04-01','2023-05-01'],\n",
    "    'Total Posts':[150,230,80,420,310],\n",
    "    'Reputation':[500,720,200,940,500]\n",
    "}\n"
   ]
  },
  {
   "cell_type": "code",
   "execution_count": 63,
   "id": "ac6eeaab-5062-49fe-8952-8c60e27729ff",
   "metadata": {},
   "outputs": [
    {
     "data": {
      "text/html": [
       "<div>\n",
       "<style scoped>\n",
       "    .dataframe tbody tr th:only-of-type {\n",
       "        vertical-align: middle;\n",
       "    }\n",
       "\n",
       "    .dataframe tbody tr th {\n",
       "        vertical-align: top;\n",
       "    }\n",
       "\n",
       "    .dataframe thead th {\n",
       "        text-align: right;\n",
       "    }\n",
       "</style>\n",
       "<table border=\"1\" class=\"dataframe\">\n",
       "  <thead>\n",
       "    <tr style=\"text-align: right;\">\n",
       "      <th></th>\n",
       "      <th>User ID</th>\n",
       "      <th>Username</th>\n",
       "      <th>Age</th>\n",
       "      <th>Joined Date</th>\n",
       "      <th>Total Posts</th>\n",
       "      <th>Reputation</th>\n",
       "    </tr>\n",
       "  </thead>\n",
       "  <tbody>\n",
       "    <tr>\n",
       "      <th>0</th>\n",
       "      <td>1</td>\n",
       "      <td>bogdan_s</td>\n",
       "      <td>18</td>\n",
       "      <td>2023-01-01</td>\n",
       "      <td>150</td>\n",
       "      <td>500</td>\n",
       "    </tr>\n",
       "    <tr>\n",
       "      <th>1</th>\n",
       "      <td>2</td>\n",
       "      <td>jane_smith</td>\n",
       "      <td>35</td>\n",
       "      <td>2023-02-01</td>\n",
       "      <td>230</td>\n",
       "      <td>720</td>\n",
       "    </tr>\n",
       "    <tr>\n",
       "      <th>2</th>\n",
       "      <td>3</td>\n",
       "      <td>alex123</td>\n",
       "      <td>25</td>\n",
       "      <td>2023-03-01</td>\n",
       "      <td>80</td>\n",
       "      <td>200</td>\n",
       "    </tr>\n",
       "    <tr>\n",
       "      <th>3</th>\n",
       "      <td>4</td>\n",
       "      <td>bob56</td>\n",
       "      <td>38</td>\n",
       "      <td>2023-04-01</td>\n",
       "      <td>420</td>\n",
       "      <td>940</td>\n",
       "    </tr>\n",
       "    <tr>\n",
       "      <th>4</th>\n",
       "      <td>5</td>\n",
       "      <td>mark_wilson</td>\n",
       "      <td>45</td>\n",
       "      <td>2023-05-01</td>\n",
       "      <td>310</td>\n",
       "      <td>500</td>\n",
       "    </tr>\n",
       "  </tbody>\n",
       "</table>\n",
       "</div>"
      ],
      "text/plain": [
       "   User ID     Username  Age Joined Date  Total Posts  Reputation\n",
       "0        1     bogdan_s   18  2023-01-01          150         500\n",
       "1        2   jane_smith   35  2023-02-01          230         720\n",
       "2        3      alex123   25  2023-03-01           80         200\n",
       "3        4        bob56   38  2023-04-01          420         940\n",
       "4        5  mark_wilson   45  2023-05-01          310         500"
      ]
     },
     "execution_count": 63,
     "metadata": {},
     "output_type": "execute_result"
    }
   ],
   "source": [
    "df = pd.DataFrame(forum_users)\n",
    "df"
   ]
  },
  {
   "cell_type": "code",
   "execution_count": 64,
   "id": "913e0c01-184f-4f89-b914-731a9555b894",
   "metadata": {},
   "outputs": [
    {
     "data": {
      "text/plain": [
       "(5, 6)"
      ]
     },
     "execution_count": 64,
     "metadata": {},
     "output_type": "execute_result"
    }
   ],
   "source": [
    "df.shape"
   ]
  },
  {
   "cell_type": "code",
   "execution_count": 65,
   "id": "18237551-4724-424e-a3bc-3c408ad1b372",
   "metadata": {},
   "outputs": [
    {
     "data": {
      "text/plain": [
       "pandas.core.frame.DataFrame"
      ]
     },
     "execution_count": 65,
     "metadata": {},
     "output_type": "execute_result"
    }
   ],
   "source": [
    "type(df)"
   ]
  },
  {
   "cell_type": "code",
   "execution_count": 66,
   "id": "0d7e55d4-7858-4391-b5b7-6b6c9cb4ed16",
   "metadata": {},
   "outputs": [
    {
     "data": {
      "text/plain": [
       "['User ID', 'Username', 'Age', 'Joined Date', 'Total Posts', 'Reputation']"
      ]
     },
     "execution_count": 66,
     "metadata": {},
     "output_type": "execute_result"
    }
   ],
   "source": [
    "df.columns.tolist()"
   ]
  },
  {
   "cell_type": "code",
   "execution_count": 67,
   "id": "2d191090-5f3d-47f3-b5ae-66294d3d9a45",
   "metadata": {},
   "outputs": [
    {
     "data": {
      "text/plain": [
       "Index(['User ID', 'Username', 'Age', 'Joined Date', 'Total Posts',\n",
       "       'Reputation'],\n",
       "      dtype='object')"
      ]
     },
     "execution_count": 67,
     "metadata": {},
     "output_type": "execute_result"
    }
   ],
   "source": [
    "df.columns # По оси 1"
   ]
  },
  {
   "cell_type": "code",
   "execution_count": 68,
   "id": "84d127c0-11a8-4e84-bd25-64ef2f4fb961",
   "metadata": {},
   "outputs": [
    {
     "data": {
      "text/plain": [
       "RangeIndex(start=0, stop=5, step=1)"
      ]
     },
     "execution_count": 68,
     "metadata": {},
     "output_type": "execute_result"
    }
   ],
   "source": [
    "df.index # Список осей"
   ]
  },
  {
   "cell_type": "code",
   "execution_count": 69,
   "id": "4ad5cc72-fc42-4f4e-9d7f-26b32263b22a",
   "metadata": {},
   "outputs": [
    {
     "data": {
      "text/plain": [
       "[0, 1, 2, 3, 4]"
      ]
     },
     "execution_count": 69,
     "metadata": {},
     "output_type": "execute_result"
    }
   ],
   "source": [
    "df.index.tolist()"
   ]
  },
  {
   "cell_type": "code",
   "execution_count": 70,
   "id": "80e2cf2c-64ab-4a7e-802a-2a39d5425c70",
   "metadata": {},
   "outputs": [
    {
     "data": {
      "text/plain": [
       "User ID         int64\n",
       "Username       object\n",
       "Age             int64\n",
       "Joined Date    object\n",
       "Total Posts     int64\n",
       "Reputation      int64\n",
       "dtype: object"
      ]
     },
     "execution_count": 70,
     "metadata": {},
     "output_type": "execute_result"
    }
   ],
   "source": [
    "df.dtypes"
   ]
  },
  {
   "cell_type": "code",
   "execution_count": 71,
   "id": "51305613-2b6f-4884-baaf-150eb8067fe7",
   "metadata": {},
   "outputs": [
    {
     "data": {
      "text/plain": [
       "array([[1, 'bogdan_s', 18, '2023-01-01', 150, 500],\n",
       "       [2, 'jane_smith', 35, '2023-02-01', 230, 720],\n",
       "       [3, 'alex123', 25, '2023-03-01', 80, 200],\n",
       "       [4, 'bob56', 38, '2023-04-01', 420, 940],\n",
       "       [5, 'mark_wilson', 45, '2023-05-01', 310, 500]], dtype=object)"
      ]
     },
     "execution_count": 71,
     "metadata": {},
     "output_type": "execute_result"
    }
   ],
   "source": [
    "df.values"
   ]
  },
  {
   "cell_type": "code",
   "execution_count": 72,
   "id": "32106368-ba6c-43d8-bba1-6a7352d40d87",
   "metadata": {},
   "outputs": [
    {
     "data": {
      "text/plain": [
       "numpy.ndarray"
      ]
     },
     "execution_count": 72,
     "metadata": {},
     "output_type": "execute_result"
    }
   ],
   "source": [
    "type(df.values)"
   ]
  },
  {
   "cell_type": "code",
   "execution_count": 73,
   "id": "4b784d51-241c-416b-9724-8fcb98622df7",
   "metadata": {},
   "outputs": [
    {
     "data": {
      "text/plain": [
       "'jane_smith'"
      ]
     },
     "execution_count": 73,
     "metadata": {},
     "output_type": "execute_result"
    }
   ],
   "source": [
    "df.values[1,1]"
   ]
  },
  {
   "cell_type": "code",
   "execution_count": 74,
   "id": "25d7ce41-22f3-4f7c-ba56-743f52735ae6",
   "metadata": {},
   "outputs": [
    {
     "data": {
      "text/plain": [
       "<bound method NDFrame.head of    User ID     Username  Age Joined Date  Total Posts  Reputation\n",
       "0        1     bogdan_s   18  2023-01-01          150         500\n",
       "1        2   jane_smith   35  2023-02-01          230         720\n",
       "2        3      alex123   25  2023-03-01           80         200\n",
       "3        4        bob56   38  2023-04-01          420         940\n",
       "4        5  mark_wilson   45  2023-05-01          310         500>"
      ]
     },
     "execution_count": 74,
     "metadata": {},
     "output_type": "execute_result"
    }
   ],
   "source": [
    "df.head"
   ]
  },
  {
   "cell_type": "code",
   "execution_count": 75,
   "id": "437791c0-00d6-4d5a-abcd-fb65b03a014e",
   "metadata": {},
   "outputs": [
    {
     "data": {
      "text/html": [
       "<div>\n",
       "<style scoped>\n",
       "    .dataframe tbody tr th:only-of-type {\n",
       "        vertical-align: middle;\n",
       "    }\n",
       "\n",
       "    .dataframe tbody tr th {\n",
       "        vertical-align: top;\n",
       "    }\n",
       "\n",
       "    .dataframe thead th {\n",
       "        text-align: right;\n",
       "    }\n",
       "</style>\n",
       "<table border=\"1\" class=\"dataframe\">\n",
       "  <thead>\n",
       "    <tr style=\"text-align: right;\">\n",
       "      <th></th>\n",
       "      <th>User ID</th>\n",
       "      <th>Username</th>\n",
       "      <th>Age</th>\n",
       "      <th>Joined Date</th>\n",
       "      <th>Total Posts</th>\n",
       "      <th>Reputation</th>\n",
       "    </tr>\n",
       "  </thead>\n",
       "  <tbody>\n",
       "    <tr>\n",
       "      <th>0</th>\n",
       "      <td>1</td>\n",
       "      <td>bogdan_s</td>\n",
       "      <td>18</td>\n",
       "      <td>2023-01-01</td>\n",
       "      <td>150</td>\n",
       "      <td>500</td>\n",
       "    </tr>\n",
       "    <tr>\n",
       "      <th>1</th>\n",
       "      <td>2</td>\n",
       "      <td>jane_smith</td>\n",
       "      <td>35</td>\n",
       "      <td>2023-02-01</td>\n",
       "      <td>230</td>\n",
       "      <td>720</td>\n",
       "    </tr>\n",
       "    <tr>\n",
       "      <th>2</th>\n",
       "      <td>3</td>\n",
       "      <td>alex123</td>\n",
       "      <td>25</td>\n",
       "      <td>2023-03-01</td>\n",
       "      <td>80</td>\n",
       "      <td>200</td>\n",
       "    </tr>\n",
       "  </tbody>\n",
       "</table>\n",
       "</div>"
      ],
      "text/plain": [
       "   User ID    Username  Age Joined Date  Total Posts  Reputation\n",
       "0        1    bogdan_s   18  2023-01-01          150         500\n",
       "1        2  jane_smith   35  2023-02-01          230         720\n",
       "2        3     alex123   25  2023-03-01           80         200"
      ]
     },
     "execution_count": 75,
     "metadata": {},
     "output_type": "execute_result"
    }
   ],
   "source": [
    "df.head(3) # Получаем количество строк с начала"
   ]
  },
  {
   "cell_type": "code",
   "execution_count": 76,
   "id": "8c6b7160-55eb-45a6-83de-ea49dad8d3b3",
   "metadata": {},
   "outputs": [
    {
     "data": {
      "text/html": [
       "<div>\n",
       "<style scoped>\n",
       "    .dataframe tbody tr th:only-of-type {\n",
       "        vertical-align: middle;\n",
       "    }\n",
       "\n",
       "    .dataframe tbody tr th {\n",
       "        vertical-align: top;\n",
       "    }\n",
       "\n",
       "    .dataframe thead th {\n",
       "        text-align: right;\n",
       "    }\n",
       "</style>\n",
       "<table border=\"1\" class=\"dataframe\">\n",
       "  <thead>\n",
       "    <tr style=\"text-align: right;\">\n",
       "      <th></th>\n",
       "      <th>User ID</th>\n",
       "      <th>Username</th>\n",
       "      <th>Age</th>\n",
       "      <th>Joined Date</th>\n",
       "      <th>Total Posts</th>\n",
       "      <th>Reputation</th>\n",
       "    </tr>\n",
       "  </thead>\n",
       "  <tbody>\n",
       "    <tr>\n",
       "      <th>3</th>\n",
       "      <td>4</td>\n",
       "      <td>bob56</td>\n",
       "      <td>38</td>\n",
       "      <td>2023-04-01</td>\n",
       "      <td>420</td>\n",
       "      <td>940</td>\n",
       "    </tr>\n",
       "    <tr>\n",
       "      <th>4</th>\n",
       "      <td>5</td>\n",
       "      <td>mark_wilson</td>\n",
       "      <td>45</td>\n",
       "      <td>2023-05-01</td>\n",
       "      <td>310</td>\n",
       "      <td>500</td>\n",
       "    </tr>\n",
       "  </tbody>\n",
       "</table>\n",
       "</div>"
      ],
      "text/plain": [
       "   User ID     Username  Age Joined Date  Total Posts  Reputation\n",
       "3        4        bob56   38  2023-04-01          420         940\n",
       "4        5  mark_wilson   45  2023-05-01          310         500"
      ]
     },
     "execution_count": 76,
     "metadata": {},
     "output_type": "execute_result"
    }
   ],
   "source": [
    "df.tail(2) # Получаем количество строк с конца"
   ]
  },
  {
   "cell_type": "code",
   "execution_count": 77,
   "id": "77353bcc-94f7-4e8b-80c6-8ceb036207d4",
   "metadata": {},
   "outputs": [
    {
     "data": {
      "text/html": [
       "<div>\n",
       "<style scoped>\n",
       "    .dataframe tbody tr th:only-of-type {\n",
       "        vertical-align: middle;\n",
       "    }\n",
       "\n",
       "    .dataframe tbody tr th {\n",
       "        vertical-align: top;\n",
       "    }\n",
       "\n",
       "    .dataframe thead th {\n",
       "        text-align: right;\n",
       "    }\n",
       "</style>\n",
       "<table border=\"1\" class=\"dataframe\">\n",
       "  <thead>\n",
       "    <tr style=\"text-align: right;\">\n",
       "      <th></th>\n",
       "      <th>User ID</th>\n",
       "      <th>Age</th>\n",
       "      <th>Total Posts</th>\n",
       "      <th>Reputation</th>\n",
       "    </tr>\n",
       "  </thead>\n",
       "  <tbody>\n",
       "    <tr>\n",
       "      <th>count</th>\n",
       "      <td>5.000000</td>\n",
       "      <td>5.000000</td>\n",
       "      <td>5.000000</td>\n",
       "      <td>5.000000</td>\n",
       "    </tr>\n",
       "    <tr>\n",
       "      <th>mean</th>\n",
       "      <td>3.000000</td>\n",
       "      <td>32.200000</td>\n",
       "      <td>238.000000</td>\n",
       "      <td>572.000000</td>\n",
       "    </tr>\n",
       "    <tr>\n",
       "      <th>std</th>\n",
       "      <td>1.581139</td>\n",
       "      <td>10.709809</td>\n",
       "      <td>133.304163</td>\n",
       "      <td>276.622486</td>\n",
       "    </tr>\n",
       "    <tr>\n",
       "      <th>min</th>\n",
       "      <td>1.000000</td>\n",
       "      <td>18.000000</td>\n",
       "      <td>80.000000</td>\n",
       "      <td>200.000000</td>\n",
       "    </tr>\n",
       "    <tr>\n",
       "      <th>25%</th>\n",
       "      <td>2.000000</td>\n",
       "      <td>25.000000</td>\n",
       "      <td>150.000000</td>\n",
       "      <td>500.000000</td>\n",
       "    </tr>\n",
       "    <tr>\n",
       "      <th>50%</th>\n",
       "      <td>3.000000</td>\n",
       "      <td>35.000000</td>\n",
       "      <td>230.000000</td>\n",
       "      <td>500.000000</td>\n",
       "    </tr>\n",
       "    <tr>\n",
       "      <th>75%</th>\n",
       "      <td>4.000000</td>\n",
       "      <td>38.000000</td>\n",
       "      <td>310.000000</td>\n",
       "      <td>720.000000</td>\n",
       "    </tr>\n",
       "    <tr>\n",
       "      <th>max</th>\n",
       "      <td>5.000000</td>\n",
       "      <td>45.000000</td>\n",
       "      <td>420.000000</td>\n",
       "      <td>940.000000</td>\n",
       "    </tr>\n",
       "  </tbody>\n",
       "</table>\n",
       "</div>"
      ],
      "text/plain": [
       "        User ID        Age  Total Posts  Reputation\n",
       "count  5.000000   5.000000     5.000000    5.000000\n",
       "mean   3.000000  32.200000   238.000000  572.000000\n",
       "std    1.581139  10.709809   133.304163  276.622486\n",
       "min    1.000000  18.000000    80.000000  200.000000\n",
       "25%    2.000000  25.000000   150.000000  500.000000\n",
       "50%    3.000000  35.000000   230.000000  500.000000\n",
       "75%    4.000000  38.000000   310.000000  720.000000\n",
       "max    5.000000  45.000000   420.000000  940.000000"
      ]
     },
     "execution_count": 77,
     "metadata": {},
     "output_type": "execute_result"
    }
   ],
   "source": [
    "df.describe() # Получить статистику по колонкам с int и float значениями\n",
    "\n",
    "# std - это стандарное отклонение \n",
    "# Чем больше разброс значений на кривой от среднеего значения, к примеру 32 тем больше отклонения, сменить 45 в Age на 30\n",
    "# То стандартное отклонение станет меньше, поскольку все значения стали ближе к сренему возрасту 32 (рис)\n"
   ]
  },
  {
   "cell_type": "code",
   "execution_count": 78,
   "id": "ae04c25b-3e21-48b8-83bc-7883cf7c2576",
   "metadata": {},
   "outputs": [
    {
     "data": {
      "text/html": [
       "<div>\n",
       "<style scoped>\n",
       "    .dataframe tbody tr th:only-of-type {\n",
       "        vertical-align: middle;\n",
       "    }\n",
       "\n",
       "    .dataframe tbody tr th {\n",
       "        vertical-align: top;\n",
       "    }\n",
       "\n",
       "    .dataframe thead th {\n",
       "        text-align: right;\n",
       "    }\n",
       "</style>\n",
       "<table border=\"1\" class=\"dataframe\">\n",
       "  <thead>\n",
       "    <tr style=\"text-align: right;\">\n",
       "      <th></th>\n",
       "      <th>User ID</th>\n",
       "      <th>Age</th>\n",
       "      <th>Total Posts</th>\n",
       "      <th>Reputation</th>\n",
       "    </tr>\n",
       "  </thead>\n",
       "  <tbody>\n",
       "    <tr>\n",
       "      <th>count</th>\n",
       "      <td>5.00</td>\n",
       "      <td>5.00</td>\n",
       "      <td>5.0</td>\n",
       "      <td>5.00</td>\n",
       "    </tr>\n",
       "    <tr>\n",
       "      <th>mean</th>\n",
       "      <td>3.00</td>\n",
       "      <td>32.20</td>\n",
       "      <td>238.0</td>\n",
       "      <td>572.00</td>\n",
       "    </tr>\n",
       "    <tr>\n",
       "      <th>std</th>\n",
       "      <td>1.58</td>\n",
       "      <td>10.71</td>\n",
       "      <td>133.3</td>\n",
       "      <td>276.62</td>\n",
       "    </tr>\n",
       "    <tr>\n",
       "      <th>min</th>\n",
       "      <td>1.00</td>\n",
       "      <td>18.00</td>\n",
       "      <td>80.0</td>\n",
       "      <td>200.00</td>\n",
       "    </tr>\n",
       "    <tr>\n",
       "      <th>25%</th>\n",
       "      <td>2.00</td>\n",
       "      <td>25.00</td>\n",
       "      <td>150.0</td>\n",
       "      <td>500.00</td>\n",
       "    </tr>\n",
       "    <tr>\n",
       "      <th>50%</th>\n",
       "      <td>3.00</td>\n",
       "      <td>35.00</td>\n",
       "      <td>230.0</td>\n",
       "      <td>500.00</td>\n",
       "    </tr>\n",
       "    <tr>\n",
       "      <th>75%</th>\n",
       "      <td>4.00</td>\n",
       "      <td>38.00</td>\n",
       "      <td>310.0</td>\n",
       "      <td>720.00</td>\n",
       "    </tr>\n",
       "    <tr>\n",
       "      <th>max</th>\n",
       "      <td>5.00</td>\n",
       "      <td>45.00</td>\n",
       "      <td>420.0</td>\n",
       "      <td>940.00</td>\n",
       "    </tr>\n",
       "  </tbody>\n",
       "</table>\n",
       "</div>"
      ],
      "text/plain": [
       "       User ID    Age  Total Posts  Reputation\n",
       "count     5.00   5.00          5.0        5.00\n",
       "mean      3.00  32.20        238.0      572.00\n",
       "std       1.58  10.71        133.3      276.62\n",
       "min       1.00  18.00         80.0      200.00\n",
       "25%       2.00  25.00        150.0      500.00\n",
       "50%       3.00  35.00        230.0      500.00\n",
       "75%       4.00  38.00        310.0      720.00\n",
       "max       5.00  45.00        420.0      940.00"
      ]
     },
     "execution_count": 78,
     "metadata": {},
     "output_type": "execute_result"
    }
   ],
   "source": [
    "df.describe().round(2)"
   ]
  },
  {
   "cell_type": "code",
   "execution_count": 79,
   "id": "d2865105-83c4-49ab-a21a-f7a28a51628a",
   "metadata": {},
   "outputs": [
    {
     "data": {
      "text/plain": [
       "<bound method DataFrame.select_dtypes of    User ID     Username  Age Joined Date  Total Posts  Reputation\n",
       "0        1     bogdan_s   18  2023-01-01          150         500\n",
       "1        2   jane_smith   35  2023-02-01          230         720\n",
       "2        3      alex123   25  2023-03-01           80         200\n",
       "3        4        bob56   38  2023-04-01          420         940\n",
       "4        5  mark_wilson   45  2023-05-01          310         500>"
      ]
     },
     "execution_count": 79,
     "metadata": {},
     "output_type": "execute_result"
    }
   ],
   "source": [
    "df.select_dtypes"
   ]
  },
  {
   "cell_type": "code",
   "execution_count": 80,
   "id": "b7818b10-dfa9-4446-bc2c-bd14d7c80c05",
   "metadata": {},
   "outputs": [
    {
     "data": {
      "text/html": [
       "<div>\n",
       "<style scoped>\n",
       "    .dataframe tbody tr th:only-of-type {\n",
       "        vertical-align: middle;\n",
       "    }\n",
       "\n",
       "    .dataframe tbody tr th {\n",
       "        vertical-align: top;\n",
       "    }\n",
       "\n",
       "    .dataframe thead th {\n",
       "        text-align: right;\n",
       "    }\n",
       "</style>\n",
       "<table border=\"1\" class=\"dataframe\">\n",
       "  <thead>\n",
       "    <tr style=\"text-align: right;\">\n",
       "      <th></th>\n",
       "      <th>Username</th>\n",
       "      <th>Joined Date</th>\n",
       "    </tr>\n",
       "  </thead>\n",
       "  <tbody>\n",
       "    <tr>\n",
       "      <th>0</th>\n",
       "      <td>bogdan_s</td>\n",
       "      <td>2023-01-01</td>\n",
       "    </tr>\n",
       "    <tr>\n",
       "      <th>1</th>\n",
       "      <td>jane_smith</td>\n",
       "      <td>2023-02-01</td>\n",
       "    </tr>\n",
       "    <tr>\n",
       "      <th>2</th>\n",
       "      <td>alex123</td>\n",
       "      <td>2023-03-01</td>\n",
       "    </tr>\n",
       "    <tr>\n",
       "      <th>3</th>\n",
       "      <td>bob56</td>\n",
       "      <td>2023-04-01</td>\n",
       "    </tr>\n",
       "    <tr>\n",
       "      <th>4</th>\n",
       "      <td>mark_wilson</td>\n",
       "      <td>2023-05-01</td>\n",
       "    </tr>\n",
       "  </tbody>\n",
       "</table>\n",
       "</div>"
      ],
      "text/plain": [
       "      Username Joined Date\n",
       "0     bogdan_s  2023-01-01\n",
       "1   jane_smith  2023-02-01\n",
       "2      alex123  2023-03-01\n",
       "3        bob56  2023-04-01\n",
       "4  mark_wilson  2023-05-01"
      ]
     },
     "execution_count": 80,
     "metadata": {},
     "output_type": "execute_result"
    }
   ],
   "source": [
    "df.select_dtypes(include='object')"
   ]
  },
  {
   "cell_type": "code",
   "execution_count": 81,
   "id": "0331b721-2a5f-49e9-bc59-3e4ec806cf2d",
   "metadata": {},
   "outputs": [
    {
     "data": {
      "text/plain": [
       "Index(['Username', 'Joined Date'], dtype='object')"
      ]
     },
     "execution_count": 81,
     "metadata": {},
     "output_type": "execute_result"
    }
   ],
   "source": [
    "df.select_dtypes(include='object').columns"
   ]
  },
  {
   "cell_type": "code",
   "execution_count": 82,
   "id": "56ee5eaa-3345-413c-8a9a-b0f81a90199a",
   "metadata": {},
   "outputs": [
    {
     "data": {
      "text/html": [
       "<div>\n",
       "<style scoped>\n",
       "    .dataframe tbody tr th:only-of-type {\n",
       "        vertical-align: middle;\n",
       "    }\n",
       "\n",
       "    .dataframe tbody tr th {\n",
       "        vertical-align: top;\n",
       "    }\n",
       "\n",
       "    .dataframe thead th {\n",
       "        text-align: right;\n",
       "    }\n",
       "</style>\n",
       "<table border=\"1\" class=\"dataframe\">\n",
       "  <thead>\n",
       "    <tr style=\"text-align: right;\">\n",
       "      <th></th>\n",
       "      <th>User ID</th>\n",
       "      <th>Age</th>\n",
       "      <th>Total Posts</th>\n",
       "      <th>Reputation</th>\n",
       "    </tr>\n",
       "  </thead>\n",
       "  <tbody>\n",
       "    <tr>\n",
       "      <th>0</th>\n",
       "      <td>1</td>\n",
       "      <td>18</td>\n",
       "      <td>150</td>\n",
       "      <td>500</td>\n",
       "    </tr>\n",
       "    <tr>\n",
       "      <th>1</th>\n",
       "      <td>2</td>\n",
       "      <td>35</td>\n",
       "      <td>230</td>\n",
       "      <td>720</td>\n",
       "    </tr>\n",
       "    <tr>\n",
       "      <th>2</th>\n",
       "      <td>3</td>\n",
       "      <td>25</td>\n",
       "      <td>80</td>\n",
       "      <td>200</td>\n",
       "    </tr>\n",
       "    <tr>\n",
       "      <th>3</th>\n",
       "      <td>4</td>\n",
       "      <td>38</td>\n",
       "      <td>420</td>\n",
       "      <td>940</td>\n",
       "    </tr>\n",
       "    <tr>\n",
       "      <th>4</th>\n",
       "      <td>5</td>\n",
       "      <td>45</td>\n",
       "      <td>310</td>\n",
       "      <td>500</td>\n",
       "    </tr>\n",
       "  </tbody>\n",
       "</table>\n",
       "</div>"
      ],
      "text/plain": [
       "   User ID  Age  Total Posts  Reputation\n",
       "0        1   18          150         500\n",
       "1        2   35          230         720\n",
       "2        3   25           80         200\n",
       "3        4   38          420         940\n",
       "4        5   45          310         500"
      ]
     },
     "execution_count": 82,
     "metadata": {},
     "output_type": "execute_result"
    }
   ],
   "source": [
    "df.select_dtypes(include='int64')"
   ]
  },
  {
   "cell_type": "code",
   "execution_count": 83,
   "id": "2e5bf082-4256-4233-bca1-caed4f6c0178",
   "metadata": {},
   "outputs": [
    {
     "data": {
      "text/html": [
       "<div>\n",
       "<style scoped>\n",
       "    .dataframe tbody tr th:only-of-type {\n",
       "        vertical-align: middle;\n",
       "    }\n",
       "\n",
       "    .dataframe tbody tr th {\n",
       "        vertical-align: top;\n",
       "    }\n",
       "\n",
       "    .dataframe thead th {\n",
       "        text-align: right;\n",
       "    }\n",
       "</style>\n",
       "<table border=\"1\" class=\"dataframe\">\n",
       "  <thead>\n",
       "    <tr style=\"text-align: right;\">\n",
       "      <th></th>\n",
       "      <th>User ID</th>\n",
       "      <th>Username</th>\n",
       "      <th>Age</th>\n",
       "      <th>Joined Date</th>\n",
       "      <th>Total Posts</th>\n",
       "      <th>Reputation</th>\n",
       "    </tr>\n",
       "  </thead>\n",
       "  <tbody>\n",
       "    <tr>\n",
       "      <th>0</th>\n",
       "      <td>False</td>\n",
       "      <td>False</td>\n",
       "      <td>False</td>\n",
       "      <td>False</td>\n",
       "      <td>False</td>\n",
       "      <td>False</td>\n",
       "    </tr>\n",
       "    <tr>\n",
       "      <th>1</th>\n",
       "      <td>False</td>\n",
       "      <td>False</td>\n",
       "      <td>False</td>\n",
       "      <td>False</td>\n",
       "      <td>False</td>\n",
       "      <td>False</td>\n",
       "    </tr>\n",
       "    <tr>\n",
       "      <th>2</th>\n",
       "      <td>False</td>\n",
       "      <td>False</td>\n",
       "      <td>False</td>\n",
       "      <td>False</td>\n",
       "      <td>False</td>\n",
       "      <td>False</td>\n",
       "    </tr>\n",
       "    <tr>\n",
       "      <th>3</th>\n",
       "      <td>False</td>\n",
       "      <td>False</td>\n",
       "      <td>False</td>\n",
       "      <td>False</td>\n",
       "      <td>False</td>\n",
       "      <td>False</td>\n",
       "    </tr>\n",
       "    <tr>\n",
       "      <th>4</th>\n",
       "      <td>False</td>\n",
       "      <td>False</td>\n",
       "      <td>False</td>\n",
       "      <td>False</td>\n",
       "      <td>False</td>\n",
       "      <td>False</td>\n",
       "    </tr>\n",
       "  </tbody>\n",
       "</table>\n",
       "</div>"
      ],
      "text/plain": [
       "   User ID  Username    Age  Joined Date  Total Posts  Reputation\n",
       "0    False     False  False        False        False       False\n",
       "1    False     False  False        False        False       False\n",
       "2    False     False  False        False        False       False\n",
       "3    False     False  False        False        False       False\n",
       "4    False     False  False        False        False       False"
      ]
     },
     "execution_count": 83,
     "metadata": {},
     "output_type": "execute_result"
    }
   ],
   "source": [
    "df.isna() # Данные которые не доступны сменим один Age None и он станет  True"
   ]
  },
  {
   "cell_type": "code",
   "execution_count": 84,
   "id": "8b2f4d0a-239e-49f7-8efd-1bbd67ca1514",
   "metadata": {},
   "outputs": [
    {
     "data": {
      "text/html": [
       "<div>\n",
       "<style scoped>\n",
       "    .dataframe tbody tr th:only-of-type {\n",
       "        vertical-align: middle;\n",
       "    }\n",
       "\n",
       "    .dataframe tbody tr th {\n",
       "        vertical-align: top;\n",
       "    }\n",
       "\n",
       "    .dataframe thead th {\n",
       "        text-align: right;\n",
       "    }\n",
       "</style>\n",
       "<table border=\"1\" class=\"dataframe\">\n",
       "  <thead>\n",
       "    <tr style=\"text-align: right;\">\n",
       "      <th></th>\n",
       "      <th>User ID</th>\n",
       "      <th>Username</th>\n",
       "      <th>Age</th>\n",
       "      <th>Joined Date</th>\n",
       "      <th>Total Posts</th>\n",
       "      <th>Reputation</th>\n",
       "    </tr>\n",
       "  </thead>\n",
       "  <tbody>\n",
       "    <tr>\n",
       "      <th>0</th>\n",
       "      <td>1</td>\n",
       "      <td>bogdan_s</td>\n",
       "      <td>18</td>\n",
       "      <td>2023-01-01</td>\n",
       "      <td>150</td>\n",
       "      <td>500</td>\n",
       "    </tr>\n",
       "    <tr>\n",
       "      <th>1</th>\n",
       "      <td>2</td>\n",
       "      <td>jane_smith</td>\n",
       "      <td>35</td>\n",
       "      <td>2023-02-01</td>\n",
       "      <td>230</td>\n",
       "      <td>720</td>\n",
       "    </tr>\n",
       "    <tr>\n",
       "      <th>2</th>\n",
       "      <td>3</td>\n",
       "      <td>alex123</td>\n",
       "      <td>25</td>\n",
       "      <td>2023-03-01</td>\n",
       "      <td>80</td>\n",
       "      <td>200</td>\n",
       "    </tr>\n",
       "    <tr>\n",
       "      <th>3</th>\n",
       "      <td>4</td>\n",
       "      <td>bob56</td>\n",
       "      <td>38</td>\n",
       "      <td>2023-04-01</td>\n",
       "      <td>420</td>\n",
       "      <td>940</td>\n",
       "    </tr>\n",
       "    <tr>\n",
       "      <th>4</th>\n",
       "      <td>5</td>\n",
       "      <td>mark_wilson</td>\n",
       "      <td>None</td>\n",
       "      <td>2023-05-01</td>\n",
       "      <td>310</td>\n",
       "      <td>500</td>\n",
       "    </tr>\n",
       "  </tbody>\n",
       "</table>\n",
       "</div>"
      ],
      "text/plain": [
       "   User ID     Username   Age Joined Date  Total Posts  Reputation\n",
       "0        1     bogdan_s    18  2023-01-01          150         500\n",
       "1        2   jane_smith    35  2023-02-01          230         720\n",
       "2        3      alex123    25  2023-03-01           80         200\n",
       "3        4        bob56    38  2023-04-01          420         940\n",
       "4        5  mark_wilson  None  2023-05-01          310         500"
      ]
     },
     "execution_count": 84,
     "metadata": {},
     "output_type": "execute_result"
    }
   ],
   "source": [
    "# Преобразуем в даты и используем NumPy\n",
    "forum_users = {\n",
    "    'User ID': np.array([1,2,3,4,5]),\n",
    "    'Username': ['bogdan_s','jane_smith','alex123','bob56','mark_wilson'],\n",
    "    'Age': np.array([18,35,25,38,None]),\n",
    "    'Joined Date': pd.to_datetime(['2023-01-01','2023-02-01','2023-03-01','2023-04-01','2023-05-01']),\n",
    "    'Total Posts': np.array([150,230,80,420,310]),\n",
    "    'Reputation': np.array([500,720,200,940,500])\n",
    "}\n",
    "df = pd.DataFrame(forum_users)\n",
    "df"
   ]
  },
  {
   "cell_type": "code",
   "execution_count": 85,
   "id": "df920977-ed7a-49fa-98bf-cde8ff019fbd",
   "metadata": {},
   "outputs": [
    {
     "data": {
      "text/plain": [
       "User ID                 int32\n",
       "Username               object\n",
       "Age                    object\n",
       "Joined Date    datetime64[ns]\n",
       "Total Posts             int32\n",
       "Reputation              int32\n",
       "dtype: object"
      ]
     },
     "execution_count": 85,
     "metadata": {},
     "output_type": "execute_result"
    }
   ],
   "source": [
    "df.dtypes"
   ]
  },
  {
   "cell_type": "code",
   "execution_count": 86,
   "id": "afa53bf5-f852-4f6b-b2b3-24715983a7de",
   "metadata": {},
   "outputs": [
    {
     "data": {
      "text/plain": [
       "array([[1, 'bogdan_s', 18, Timestamp('2023-01-01 00:00:00'), 150, 500],\n",
       "       [2, 'jane_smith', 35, Timestamp('2023-02-01 00:00:00'), 230, 720],\n",
       "       [3, 'alex123', 25, Timestamp('2023-03-01 00:00:00'), 80, 200],\n",
       "       [4, 'bob56', 38, Timestamp('2023-04-01 00:00:00'), 420, 940],\n",
       "       [5, 'mark_wilson', None, Timestamp('2023-05-01 00:00:00'), 310,\n",
       "        500]], dtype=object)"
      ]
     },
     "execution_count": 86,
     "metadata": {},
     "output_type": "execute_result"
    }
   ],
   "source": [
    "df.values"
   ]
  },
  {
   "cell_type": "code",
   "execution_count": 87,
   "id": "b4f59f52-12c1-4459-accb-260e3514b0c4",
   "metadata": {},
   "outputs": [
    {
     "data": {
      "text/html": [
       "<div>\n",
       "<style scoped>\n",
       "    .dataframe tbody tr th:only-of-type {\n",
       "        vertical-align: middle;\n",
       "    }\n",
       "\n",
       "    .dataframe tbody tr th {\n",
       "        vertical-align: top;\n",
       "    }\n",
       "\n",
       "    .dataframe thead th {\n",
       "        text-align: right;\n",
       "    }\n",
       "</style>\n",
       "<table border=\"1\" class=\"dataframe\">\n",
       "  <thead>\n",
       "    <tr style=\"text-align: right;\">\n",
       "      <th></th>\n",
       "      <th>User ID</th>\n",
       "      <th>Joined Date</th>\n",
       "      <th>Total Posts</th>\n",
       "      <th>Reputation</th>\n",
       "    </tr>\n",
       "  </thead>\n",
       "  <tbody>\n",
       "    <tr>\n",
       "      <th>count</th>\n",
       "      <td>5.00</td>\n",
       "      <td>5</td>\n",
       "      <td>5.0</td>\n",
       "      <td>5.00</td>\n",
       "    </tr>\n",
       "    <tr>\n",
       "      <th>mean</th>\n",
       "      <td>3.00</td>\n",
       "      <td>2023-03-02 00:00:00</td>\n",
       "      <td>238.0</td>\n",
       "      <td>572.00</td>\n",
       "    </tr>\n",
       "    <tr>\n",
       "      <th>min</th>\n",
       "      <td>1.00</td>\n",
       "      <td>2023-01-01 00:00:00</td>\n",
       "      <td>80.0</td>\n",
       "      <td>200.00</td>\n",
       "    </tr>\n",
       "    <tr>\n",
       "      <th>25%</th>\n",
       "      <td>2.00</td>\n",
       "      <td>2023-02-01 00:00:00</td>\n",
       "      <td>150.0</td>\n",
       "      <td>500.00</td>\n",
       "    </tr>\n",
       "    <tr>\n",
       "      <th>50%</th>\n",
       "      <td>3.00</td>\n",
       "      <td>2023-03-01 00:00:00</td>\n",
       "      <td>230.0</td>\n",
       "      <td>500.00</td>\n",
       "    </tr>\n",
       "    <tr>\n",
       "      <th>75%</th>\n",
       "      <td>4.00</td>\n",
       "      <td>2023-04-01 00:00:00</td>\n",
       "      <td>310.0</td>\n",
       "      <td>720.00</td>\n",
       "    </tr>\n",
       "    <tr>\n",
       "      <th>max</th>\n",
       "      <td>5.00</td>\n",
       "      <td>2023-05-01 00:00:00</td>\n",
       "      <td>420.0</td>\n",
       "      <td>940.00</td>\n",
       "    </tr>\n",
       "    <tr>\n",
       "      <th>std</th>\n",
       "      <td>1.58</td>\n",
       "      <td>NaN</td>\n",
       "      <td>133.3</td>\n",
       "      <td>276.62</td>\n",
       "    </tr>\n",
       "  </tbody>\n",
       "</table>\n",
       "</div>"
      ],
      "text/plain": [
       "       User ID          Joined Date  Total Posts  Reputation\n",
       "count     5.00                    5          5.0        5.00\n",
       "mean      3.00  2023-03-02 00:00:00        238.0      572.00\n",
       "min       1.00  2023-01-01 00:00:00         80.0      200.00\n",
       "25%       2.00  2023-02-01 00:00:00        150.0      500.00\n",
       "50%       3.00  2023-03-01 00:00:00        230.0      500.00\n",
       "75%       4.00  2023-04-01 00:00:00        310.0      720.00\n",
       "max       5.00  2023-05-01 00:00:00        420.0      940.00\n",
       "std       1.58                  NaN        133.3      276.62"
      ]
     },
     "execution_count": 87,
     "metadata": {},
     "output_type": "execute_result"
    }
   ],
   "source": [
    "df.describe().round(2)"
   ]
  },
  {
   "cell_type": "code",
   "execution_count": 88,
   "id": "145fca9a-d03a-4553-b227-8ccc427da111",
   "metadata": {},
   "outputs": [
    {
     "data": {
      "text/plain": [
       "User ID        0\n",
       "Username       0\n",
       "Age            1\n",
       "Joined Date    0\n",
       "Total Posts    0\n",
       "Reputation     0\n",
       "dtype: int64"
      ]
     },
     "execution_count": 88,
     "metadata": {},
     "output_type": "execute_result"
    }
   ],
   "source": [
    "df.isna().sum() # Данные которые не доступны сменим один Age None и он станет  True"
   ]
  },
  {
   "cell_type": "code",
   "execution_count": 89,
   "id": "0769e60f-0fdb-4ded-abd1-5be7bff820cd",
   "metadata": {},
   "outputs": [
    {
     "data": {
      "text/plain": [
       "pandas.core.series.Series"
      ]
     },
     "execution_count": 89,
     "metadata": {},
     "output_type": "execute_result"
    }
   ],
   "source": [
    "type(df.isna().sum())"
   ]
  },
  {
   "cell_type": "markdown",
   "id": "2e44760d-d776-465e-a77c-45b8cb00a550",
   "metadata": {},
   "source": [
    "## Series"
   ]
  },
  {
   "cell_type": "code",
   "execution_count": 106,
   "id": "5df3fb95-c677-4a33-b66c-8fbdb296cfb9",
   "metadata": {},
   "outputs": [],
   "source": [
    "## По сути Series это каждая колонка с которой мы делаем манипуляции"
   ]
  },
  {
   "cell_type": "code",
   "execution_count": 107,
   "id": "02488416-86b4-4e8a-b30d-fe54599ad2fa",
   "metadata": {},
   "outputs": [
    {
     "data": {
      "text/plain": [
       "0       bogdan_s\n",
       "1     jane_smith\n",
       "2        alex123\n",
       "3          bob56\n",
       "4    mark_wilson\n",
       "Name: Username, dtype: object"
      ]
     },
     "execution_count": 107,
     "metadata": {},
     "output_type": "execute_result"
    }
   ],
   "source": [
    "df['Username']"
   ]
  },
  {
   "cell_type": "code",
   "execution_count": 108,
   "id": "c3966725-e16b-46e9-a89b-641557b35a44",
   "metadata": {},
   "outputs": [
    {
     "data": {
      "text/plain": [
       "pandas.core.series.Series"
      ]
     },
     "execution_count": 108,
     "metadata": {},
     "output_type": "execute_result"
    }
   ],
   "source": [
    "type(df['Username'])"
   ]
  },
  {
   "cell_type": "code",
   "execution_count": 109,
   "id": "a797a61c-14bf-481b-b5bf-1a2a70161718",
   "metadata": {},
   "outputs": [
    {
     "data": {
      "text/plain": [
       "array(['bogdan_s', 'jane_smith', 'alex123', 'bob56', 'mark_wilson'],\n",
       "      dtype=object)"
      ]
     },
     "execution_count": 109,
     "metadata": {},
     "output_type": "execute_result"
    }
   ],
   "source": [
    "username_series = df['Username']\n",
    "username_series.values"
   ]
  },
  {
   "cell_type": "code",
   "execution_count": 110,
   "id": "43c94c02-980c-4b3e-8016-858c09c470e5",
   "metadata": {},
   "outputs": [
    {
     "data": {
      "text/plain": [
       "numpy.ndarray"
      ]
     },
     "execution_count": 110,
     "metadata": {},
     "output_type": "execute_result"
    }
   ],
   "source": [
    "type(username_series.values)"
   ]
  },
  {
   "cell_type": "code",
   "execution_count": 111,
   "id": "ac20c478-7d4b-45a3-bb34-61bd4a71fd00",
   "metadata": {},
   "outputs": [
    {
     "data": {
      "text/plain": [
       "RangeIndex(start=0, stop=5, step=1)"
      ]
     },
     "execution_count": 111,
     "metadata": {},
     "output_type": "execute_result"
    }
   ],
   "source": [
    "username_series.index"
   ]
  },
  {
   "cell_type": "code",
   "execution_count": 112,
   "id": "51691ec1-701f-47d8-b128-d9d8dd3c456a",
   "metadata": {},
   "outputs": [
    {
     "data": {
      "text/plain": [
       "Username\n",
       "bogdan_s       1\n",
       "jane_smith     1\n",
       "alex123        1\n",
       "bob56          1\n",
       "mark_wilson    1\n",
       "Name: count, dtype: int64"
      ]
     },
     "execution_count": 112,
     "metadata": {},
     "output_type": "execute_result"
    }
   ],
   "source": [
    "username_series.value_counts()"
   ]
  },
  {
   "cell_type": "code",
   "execution_count": 113,
   "id": "40fa8c98-e0ec-42d0-ae28-d5b40a913be9",
   "metadata": {},
   "outputs": [
    {
     "data": {
      "text/plain": [
       "Index(['bogdan_s', 'jane_smith', 'alex123', 'bob56', 'mark_wilson'], dtype='object', name='Username')"
      ]
     },
     "execution_count": 113,
     "metadata": {},
     "output_type": "execute_result"
    }
   ],
   "source": [
    "username_series.value_counts().index"
   ]
  },
  {
   "cell_type": "code",
   "execution_count": 114,
   "id": "0c0a6514-d8a0-4711-8726-a87d1542229f",
   "metadata": {},
   "outputs": [
    {
     "data": {
      "text/plain": [
       "Reputation\n",
       "500    2\n",
       "720    1\n",
       "200    1\n",
       "940    1\n",
       "Name: count, dtype: int64"
      ]
     },
     "execution_count": 114,
     "metadata": {},
     "output_type": "execute_result"
    }
   ],
   "source": [
    "df['Reputation'].value_counts()"
   ]
  },
  {
   "cell_type": "code",
   "execution_count": 115,
   "id": "06edecd4-5a4b-4b27-914f-76a45226f1b4",
   "metadata": {},
   "outputs": [
    {
     "data": {
      "text/plain": [
       "Reputation\n",
       "720    1\n",
       "200    1\n",
       "940    1\n",
       "500    2\n",
       "Name: count, dtype: int64"
      ]
     },
     "execution_count": 115,
     "metadata": {},
     "output_type": "execute_result"
    }
   ],
   "source": [
    "df['Reputation'].value_counts(ascending=True)"
   ]
  },
  {
   "cell_type": "code",
   "execution_count": 116,
   "id": "17cd6c48-bdc1-4ea3-926a-d52b6e2d3d33",
   "metadata": {},
   "outputs": [
    {
     "data": {
      "text/plain": [
       "array([500, 720, 200, 940])"
      ]
     },
     "execution_count": 116,
     "metadata": {},
     "output_type": "execute_result"
    }
   ],
   "source": [
    "df['Reputation'].unique()"
   ]
  },
  {
   "cell_type": "code",
   "execution_count": 117,
   "id": "f5a80322-44d8-47e4-b81d-132f6d1b4b69",
   "metadata": {},
   "outputs": [
    {
     "data": {
      "text/plain": [
       "2        alex123\n",
       "3          bob56\n",
       "0       bogdan_s\n",
       "1     jane_smith\n",
       "4    mark_wilson\n",
       "Name: Username, dtype: object"
      ]
     },
     "execution_count": 117,
     "metadata": {},
     "output_type": "execute_result"
    }
   ],
   "source": [
    " df['Username'].sort_values()"
   ]
  },
  {
   "cell_type": "code",
   "execution_count": 118,
   "id": "b20488cc-7c67-4878-90ba-109bcb89629a",
   "metadata": {},
   "outputs": [
    {
     "data": {
      "text/plain": [
       "0       bogdan_s\n",
       "1     jane_smith\n",
       "2        alex123\n",
       "3          bob56\n",
       "4    mark_wilson\n",
       "Name: Username, dtype: object"
      ]
     },
     "execution_count": 118,
     "metadata": {},
     "output_type": "execute_result"
    }
   ],
   "source": [
    " df['Username'].sort_index()"
   ]
  },
  {
   "cell_type": "code",
   "execution_count": 119,
   "id": "04ee10d5-c4fd-4af7-ae1f-d7ea86271d15",
   "metadata": {},
   "outputs": [
    {
     "data": {
      "text/plain": [
       "4    mark_wilson\n",
       "3          bob56\n",
       "2        alex123\n",
       "1     jane_smith\n",
       "0       bogdan_s\n",
       "Name: Username, dtype: object"
      ]
     },
     "execution_count": 119,
     "metadata": {},
     "output_type": "execute_result"
    }
   ],
   "source": [
    " df['Username'].sort_index(ascending=False)"
   ]
  },
  {
   "cell_type": "code",
   "execution_count": null,
   "id": "a1184c71-4b34-45be-a519-112bb89dc711",
   "metadata": {},
   "outputs": [],
   "source": []
  }
 ],
 "metadata": {
  "kernelspec": {
   "display_name": "Python 3 (ipykernel)",
   "language": "python",
   "name": "python3"
  },
  "language_info": {
   "codemirror_mode": {
    "name": "ipython",
    "version": 3
   },
   "file_extension": ".py",
   "mimetype": "text/x-python",
   "name": "python",
   "nbconvert_exporter": "python",
   "pygments_lexer": "ipython3",
   "version": "3.12.1"
  }
 },
 "nbformat": 4,
 "nbformat_minor": 5
}
