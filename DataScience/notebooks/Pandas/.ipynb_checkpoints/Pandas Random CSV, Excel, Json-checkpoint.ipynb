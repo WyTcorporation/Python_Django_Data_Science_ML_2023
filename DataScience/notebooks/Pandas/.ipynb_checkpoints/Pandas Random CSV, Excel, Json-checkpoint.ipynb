{
 "cells": [
  {
   "cell_type": "code",
   "execution_count": 71,
   "id": "7a947738-0029-46ed-bca2-f9addfe84aef",
   "metadata": {},
   "outputs": [
    {
     "name": "stdout",
     "output_type": "stream",
     "text": [
      "Requirement already satisfied: openpyxl in e:\\projects\\python\\python_django_data_science_ml_2023\\datascience\\venv\\lib\\site-packages (3.1.2)\n",
      "Requirement already satisfied: et-xmlfile in e:\\projects\\python\\python_django_data_science_ml_2023\\datascience\\venv\\lib\\site-packages (from openpyxl) (1.1.0)\n"
     ]
    }
   ],
   "source": [
    "!pip install openpyxl"
   ]
  },
  {
   "cell_type": "code",
   "execution_count": 72,
   "id": "dddb5800-dcf7-4f79-b88d-661e27f42e7a",
   "metadata": {},
   "outputs": [
    {
     "name": "stdout",
     "output_type": "stream",
     "text": [
      "Requirement already satisfied: matplotlib in e:\\projects\\python\\python_django_data_science_ml_2023\\datascience\\venv\\lib\\site-packages (3.8.3)\n",
      "Requirement already satisfied: contourpy>=1.0.1 in e:\\projects\\python\\python_django_data_science_ml_2023\\datascience\\venv\\lib\\site-packages (from matplotlib) (1.2.0)\n",
      "Requirement already satisfied: cycler>=0.10 in e:\\projects\\python\\python_django_data_science_ml_2023\\datascience\\venv\\lib\\site-packages (from matplotlib) (0.12.1)\n",
      "Requirement already satisfied: fonttools>=4.22.0 in e:\\projects\\python\\python_django_data_science_ml_2023\\datascience\\venv\\lib\\site-packages (from matplotlib) (4.50.0)\n",
      "Requirement already satisfied: kiwisolver>=1.3.1 in e:\\projects\\python\\python_django_data_science_ml_2023\\datascience\\venv\\lib\\site-packages (from matplotlib) (1.4.5)\n",
      "Requirement already satisfied: numpy<2,>=1.21 in c:\\python312\\lib\\site-packages (from matplotlib) (1.26.4)\n",
      "Requirement already satisfied: packaging>=20.0 in c:\\python312\\lib\\site-packages (from matplotlib) (23.2)\n",
      "Requirement already satisfied: pillow>=8 in e:\\projects\\python\\python_django_data_science_ml_2023\\datascience\\venv\\lib\\site-packages (from matplotlib) (10.2.0)\n",
      "Requirement already satisfied: pyparsing>=2.3.1 in e:\\projects\\python\\python_django_data_science_ml_2023\\datascience\\venv\\lib\\site-packages (from matplotlib) (3.1.2)\n",
      "Requirement already satisfied: python-dateutil>=2.7 in c:\\python312\\lib\\site-packages (from matplotlib) (2.8.2)\n",
      "Requirement already satisfied: six>=1.5 in c:\\python312\\lib\\site-packages (from python-dateutil>=2.7->matplotlib) (1.16.0)\n"
     ]
    }
   ],
   "source": [
    "!pip install matplotlib"
   ]
  },
  {
   "cell_type": "code",
   "execution_count": 73,
   "id": "5c6d0f03-6eb6-4d15-bc22-2742fa872571",
   "metadata": {},
   "outputs": [],
   "source": [
    "import pandas as pd\n",
    "import numpy as np\n",
    "import matplotlib.pyplot as plt"
   ]
  },
  {
   "cell_type": "code",
   "execution_count": 74,
   "id": "0ca86bc4-9941-4d80-9a44-1ae58bae1d57",
   "metadata": {},
   "outputs": [
    {
     "data": {
      "text/plain": [
       "{'Date': DatetimeIndex(['2050-01-01', '2050-01-02', '2050-01-03', '2050-01-04',\n",
       "                '2050-01-05', '2050-01-06', '2050-01-07', '2050-01-08',\n",
       "                '2050-01-09', '2050-01-10', '2050-01-11', '2050-01-12',\n",
       "                '2050-01-13', '2050-01-14', '2050-01-15', '2050-01-16',\n",
       "                '2050-01-17', '2050-01-18', '2050-01-19', '2050-01-20',\n",
       "                '2050-01-21', '2050-01-22', '2050-01-23', '2050-01-24',\n",
       "                '2050-01-25', '2050-01-26', '2050-01-27', '2050-01-28',\n",
       "                '2050-01-29', '2050-01-30', '2050-01-31', '2050-02-01',\n",
       "                '2050-02-02', '2050-02-03', '2050-02-04', '2050-02-05',\n",
       "                '2050-02-06', '2050-02-07', '2050-02-08', '2050-02-09',\n",
       "                '2050-02-10', '2050-02-11', '2050-02-12', '2050-02-13',\n",
       "                '2050-02-14', '2050-02-15', '2050-02-16', '2050-02-17',\n",
       "                '2050-02-18', '2050-02-19', '2050-02-20', '2050-02-21',\n",
       "                '2050-02-22', '2050-02-23', '2050-02-24', '2050-02-25',\n",
       "                '2050-02-26', '2050-02-27', '2050-02-28', '2050-03-01',\n",
       "                '2050-03-02', '2050-03-03', '2050-03-04', '2050-03-05',\n",
       "                '2050-03-06', '2050-03-07', '2050-03-08', '2050-03-09',\n",
       "                '2050-03-10', '2050-03-11', '2050-03-12', '2050-03-13',\n",
       "                '2050-03-14', '2050-03-15', '2050-03-16', '2050-03-17',\n",
       "                '2050-03-18', '2050-03-19', '2050-03-20', '2050-03-21',\n",
       "                '2050-03-22', '2050-03-23', '2050-03-24', '2050-03-25',\n",
       "                '2050-03-26', '2050-03-27', '2050-03-28', '2050-03-29',\n",
       "                '2050-03-30', '2050-03-31', '2050-04-01', '2050-04-02',\n",
       "                '2050-04-03', '2050-04-04', '2050-04-05', '2050-04-06',\n",
       "                '2050-04-07', '2050-04-08', '2050-04-09', '2050-04-10'],\n",
       "               dtype='datetime64[ns]', freq='D'),\n",
       " 'Product': array(['Microphone', 'Keyboard', 'Tablet', 'Camera', 'Microphone',\n",
       "        'Tablet', 'Tablet', 'Camera', 'Keyboard', 'Keyboard', 'Camera',\n",
       "        'Phone', 'Keyboard', 'Phone', 'Keyboard', 'Microphone', 'Keyboard',\n",
       "        'Phone', 'Keyboard', 'Phone', 'Keyboard', 'Camera', 'Camera',\n",
       "        'Tablet', 'Camera', 'Camera', 'Camera', 'Camera', 'Tablet',\n",
       "        'Keyboard', 'Camera', 'Tablet', 'Tablet', 'Microphone', 'Phone',\n",
       "        'Camera', 'Tablet', 'Microphone', 'Camera', 'Camera', 'Microphone',\n",
       "        'Keyboard', 'Tablet', 'Camera', 'Microphone', 'Keyboard', 'Phone',\n",
       "        'Keyboard', 'Tablet', 'Microphone', 'Camera', 'Phone', 'Tablet',\n",
       "        'Keyboard', 'Camera', 'Phone', 'Phone', 'Camera', 'Tablet',\n",
       "        'Camera', 'Microphone', 'Keyboard', 'Microphone', 'Camera',\n",
       "        'Microphone', 'Tablet', 'Tablet', 'Phone', 'Phone', 'Camera',\n",
       "        'Microphone', 'Keyboard', 'Phone', 'Tablet', 'Tablet', 'Camera',\n",
       "        'Camera', 'Microphone', 'Tablet', 'Tablet', 'Keyboard', 'Phone',\n",
       "        'Keyboard', 'Microphone', 'Microphone', 'Tablet', 'Microphone',\n",
       "        'Keyboard', 'Microphone', 'Keyboard', 'Keyboard', 'Keyboard',\n",
       "        'Camera', 'Tablet', 'Keyboard', 'Phone', 'Tablet', 'Phone',\n",
       "        'Keyboard', 'Camera'], dtype='<U10'),\n",
       " 'Price': array([147.16, 103.09, 164.48, 103.48, 162.92, 182.2 ,  51.75, 124.72,\n",
       "         61.07, 168.04,  59.61, 103.3 , 191.28, 106.97, 164.44, 165.74,\n",
       "         95.2 , 165.91,  72.94, 136.8 ,  51.35, 156.36, 120.6 , 164.69,\n",
       "        120.11,  90.35, 174.75, 132.7 ,  60.51, 120.87, 161.41,  78.79,\n",
       "        119.65,  84.55, 126.24,  81.29,  57.4 , 127.83,  75.84, 109.45,\n",
       "         66.1 , 126.47,  65.32,  93.31,  84.76, 195.15,  91.75,  85.04,\n",
       "         63.73, 135.51, 112.69, 105.18, 171.95,  93.46, 157.61, 141.94,\n",
       "        114.04, 162.78, 114.17, 114.26, 104.29,  73.  , 190.58, 187.46,\n",
       "        167.29, 142.45,  55.4 , 148.15,  69.47,  94.15, 104.12,  91.2 ,\n",
       "         61.1 ,  72.82,  74.24, 190.81, 105.67,  57.5 , 161.14,  94.8 ,\n",
       "         80.65, 197.26, 183.95, 163.9 , 147.67,  55.95, 172.08, 164.39,\n",
       "        118.29, 129.77,  66.4 ,  71.9 , 126.32,  82.35, 187.47, 119.32,\n",
       "         69.84, 164.64,  81.91,  61.14]),\n",
       " 'Quantity': array([ 7, 10,  7,  1,  1,  3, 13, 10,  7,  1,  7,  8,  1,  4, 10,  1, 13,\n",
       "         4, 11, 12,  5,  8,  6, 13,  4,  9,  9,  1,  7,  8, 13, 14, 10,  6,\n",
       "         5, 10, 11,  6,  3, 14, 13,  6,  7, 12,  7, 13, 13,  9, 12, 11, 13,\n",
       "         8,  8,  8, 14, 12, 13,  3,  7, 12,  1, 14,  6,  3,  2, 12, 11,  9,\n",
       "         6, 10,  5, 10, 12, 12,  2,  3,  1, 11,  5,  8,  1,  7,  3,  5,  4,\n",
       "         7, 13,  8,  7,  4,  1, 14,  7, 14,  5,  8,  7,  3, 11, 13])}"
      ]
     },
     "execution_count": 74,
     "metadata": {},
     "output_type": "execute_result"
    }
   ],
   "source": [
    "# Создадим на базе случайно сгенерированых данных!\n",
    "np.random.seed(1)\n",
    "n=100\n",
    "dates = pd.date_range(start='2050-01-01', periods=n, freq='D') # freq -> частотав в один день\n",
    "products = np.random.choice(['Tablet','Camera','Phone','Microphone','Keyboard'],n)\n",
    "prices=np.round(np.random.uniform(50.0,200.0,n),2)\n",
    "quantities=np.random.randint(1,15,n)\n",
    "data = {\n",
    "    'Date': dates,\n",
    "    'Product':products,\n",
    "    'Price':prices,\n",
    "    'Quantity':quantities\n",
    "}\n",
    "data"
   ]
  },
  {
   "cell_type": "markdown",
   "id": "dd7ea624-b58c-4afd-af37-7d9d3ddf5769",
   "metadata": {},
   "source": [
    "## Create Csv"
   ]
  },
  {
   "cell_type": "code",
   "execution_count": 75,
   "id": "43042353-b7ca-40b4-a5e0-bd9e43c62931",
   "metadata": {},
   "outputs": [
    {
     "data": {
      "text/html": [
       "<div>\n",
       "<style scoped>\n",
       "    .dataframe tbody tr th:only-of-type {\n",
       "        vertical-align: middle;\n",
       "    }\n",
       "\n",
       "    .dataframe tbody tr th {\n",
       "        vertical-align: top;\n",
       "    }\n",
       "\n",
       "    .dataframe thead th {\n",
       "        text-align: right;\n",
       "    }\n",
       "</style>\n",
       "<table border=\"1\" class=\"dataframe\">\n",
       "  <thead>\n",
       "    <tr style=\"text-align: right;\">\n",
       "      <th></th>\n",
       "      <th>Date</th>\n",
       "      <th>Product</th>\n",
       "      <th>Price</th>\n",
       "      <th>Quantity</th>\n",
       "    </tr>\n",
       "  </thead>\n",
       "  <tbody>\n",
       "    <tr>\n",
       "      <th>0</th>\n",
       "      <td>2050-01-01</td>\n",
       "      <td>Microphone</td>\n",
       "      <td>147.16</td>\n",
       "      <td>7</td>\n",
       "    </tr>\n",
       "    <tr>\n",
       "      <th>1</th>\n",
       "      <td>2050-01-02</td>\n",
       "      <td>Keyboard</td>\n",
       "      <td>103.09</td>\n",
       "      <td>10</td>\n",
       "    </tr>\n",
       "    <tr>\n",
       "      <th>2</th>\n",
       "      <td>2050-01-03</td>\n",
       "      <td>Tablet</td>\n",
       "      <td>164.48</td>\n",
       "      <td>7</td>\n",
       "    </tr>\n",
       "    <tr>\n",
       "      <th>3</th>\n",
       "      <td>2050-01-04</td>\n",
       "      <td>Camera</td>\n",
       "      <td>103.48</td>\n",
       "      <td>1</td>\n",
       "    </tr>\n",
       "    <tr>\n",
       "      <th>4</th>\n",
       "      <td>2050-01-05</td>\n",
       "      <td>Microphone</td>\n",
       "      <td>162.92</td>\n",
       "      <td>1</td>\n",
       "    </tr>\n",
       "  </tbody>\n",
       "</table>\n",
       "</div>"
      ],
      "text/plain": [
       "        Date     Product   Price  Quantity\n",
       "0 2050-01-01  Microphone  147.16         7\n",
       "1 2050-01-02    Keyboard  103.09        10\n",
       "2 2050-01-03      Tablet  164.48         7\n",
       "3 2050-01-04      Camera  103.48         1\n",
       "4 2050-01-05  Microphone  162.92         1"
      ]
     },
     "execution_count": 75,
     "metadata": {},
     "output_type": "execute_result"
    }
   ],
   "source": [
    "df = pd.DataFrame(data)\n",
    "df.head()"
   ]
  },
  {
   "cell_type": "code",
   "execution_count": 76,
   "id": "8ca7a829-09f5-4757-8bf1-ff568a9f3e41",
   "metadata": {},
   "outputs": [
    {
     "data": {
      "text/plain": [
       "Date        datetime64[ns]\n",
       "Product             object\n",
       "Price              float64\n",
       "Quantity             int32\n",
       "dtype: object"
      ]
     },
     "execution_count": 76,
     "metadata": {},
     "output_type": "execute_result"
    }
   ],
   "source": [
    "df.dtypes"
   ]
  },
  {
   "cell_type": "code",
   "execution_count": 77,
   "id": "d6c4c825-09c2-4050-87ab-afc245ff0c17",
   "metadata": {},
   "outputs": [],
   "source": [
    "df.to_csv(path_or_buf='random_sales.csv', index=False) #"
   ]
  },
  {
   "cell_type": "markdown",
   "id": "d951255a-d711-432c-b817-fc15442ec2bc",
   "metadata": {},
   "source": [
    "## Read csv"
   ]
  },
  {
   "cell_type": "code",
   "execution_count": 78,
   "id": "ff7b59f6-2d91-41a9-8148-59819f63d881",
   "metadata": {},
   "outputs": [],
   "source": [
    "df_read = pd.read_csv(filepath_or_buffer='random_sales.csv', parse_dates=['Date'],date_format='%Y-%m-%d') \n",
    "# Date без этого параметра как object date_format -> дает понять в каком формате даты в файле"
   ]
  },
  {
   "cell_type": "code",
   "execution_count": 79,
   "id": "32455797-e11f-47cc-8e8a-882370a0d90d",
   "metadata": {},
   "outputs": [
    {
     "data": {
      "text/plain": [
       "<bound method NDFrame.head of          Date     Product   Price  Quantity\n",
       "0  2050-01-01  Microphone  147.16         7\n",
       "1  2050-01-02    Keyboard  103.09        10\n",
       "2  2050-01-03      Tablet  164.48         7\n",
       "3  2050-01-04      Camera  103.48         1\n",
       "4  2050-01-05  Microphone  162.92         1\n",
       "..        ...         ...     ...       ...\n",
       "95 2050-04-06       Phone  119.32         8\n",
       "96 2050-04-07      Tablet   69.84         7\n",
       "97 2050-04-08       Phone  164.64         3\n",
       "98 2050-04-09    Keyboard   81.91        11\n",
       "99 2050-04-10      Camera   61.14        13\n",
       "\n",
       "[100 rows x 4 columns]>"
      ]
     },
     "execution_count": 79,
     "metadata": {},
     "output_type": "execute_result"
    }
   ],
   "source": [
    "df_read.head"
   ]
  },
  {
   "cell_type": "code",
   "execution_count": 80,
   "id": "108cead6-a44e-4f5c-ad8d-5fc985932c2a",
   "metadata": {},
   "outputs": [
    {
     "data": {
      "text/plain": [
       "Date        datetime64[ns]\n",
       "Product             object\n",
       "Price              float64\n",
       "Quantity             int64\n",
       "dtype: object"
      ]
     },
     "execution_count": 80,
     "metadata": {},
     "output_type": "execute_result"
    }
   ],
   "source": [
    "df_read.dtypes    "
   ]
  },
  {
   "cell_type": "markdown",
   "id": "64fa37f4-a6dd-4415-92b2-4d6d665caf2d",
   "metadata": {},
   "source": [
    "## Save to Json, Excel"
   ]
  },
  {
   "cell_type": "code",
   "execution_count": 81,
   "id": "5719e284-003a-4f2f-b9a0-4151f468b1b6",
   "metadata": {},
   "outputs": [],
   "source": [
    "df.to_excel(excel_writer='sales_to_xlsx.xlsx') "
   ]
  },
  {
   "cell_type": "code",
   "execution_count": 82,
   "id": "f343f61a-af61-48f5-8a80-626878f3d167",
   "metadata": {},
   "outputs": [],
   "source": [
    "df.to_json(path_or_buf='sales_to_json.json')"
   ]
  },
  {
   "cell_type": "code",
   "execution_count": 83,
   "id": "64b8f5af-ab93-43c3-a448-4e375b8b5280",
   "metadata": {},
   "outputs": [],
   "source": [
    "# И еще много форматов сохранения"
   ]
  },
  {
   "cell_type": "code",
   "execution_count": 84,
   "id": "c5bb0c59-10f7-47ee-b5be-a4d5c5a4fff6",
   "metadata": {},
   "outputs": [
    {
     "data": {
      "text/plain": [
       "(100, 4)"
      ]
     },
     "execution_count": 84,
     "metadata": {},
     "output_type": "execute_result"
    }
   ],
   "source": [
    "df.shape"
   ]
  },
  {
   "cell_type": "code",
   "execution_count": 85,
   "id": "6451413e-7b0f-487c-b681-a5c3eb09629b",
   "metadata": {},
   "outputs": [
    {
     "data": {
      "text/html": [
       "<div>\n",
       "<style scoped>\n",
       "    .dataframe tbody tr th:only-of-type {\n",
       "        vertical-align: middle;\n",
       "    }\n",
       "\n",
       "    .dataframe tbody tr th {\n",
       "        vertical-align: top;\n",
       "    }\n",
       "\n",
       "    .dataframe thead th {\n",
       "        text-align: right;\n",
       "    }\n",
       "</style>\n",
       "<table border=\"1\" class=\"dataframe\">\n",
       "  <thead>\n",
       "    <tr style=\"text-align: right;\">\n",
       "      <th></th>\n",
       "      <th>Date</th>\n",
       "      <th>Price</th>\n",
       "      <th>Quantity</th>\n",
       "    </tr>\n",
       "  </thead>\n",
       "  <tbody>\n",
       "    <tr>\n",
       "      <th>count</th>\n",
       "      <td>100</td>\n",
       "      <td>100.000000</td>\n",
       "      <td>100.000000</td>\n",
       "    </tr>\n",
       "    <tr>\n",
       "      <th>mean</th>\n",
       "      <td>2050-02-19 12:00:00</td>\n",
       "      <td>117.319000</td>\n",
       "      <td>7.790000</td>\n",
       "    </tr>\n",
       "    <tr>\n",
       "      <th>min</th>\n",
       "      <td>2050-01-01 00:00:00</td>\n",
       "      <td>51.350000</td>\n",
       "      <td>1.000000</td>\n",
       "    </tr>\n",
       "    <tr>\n",
       "      <th>25%</th>\n",
       "      <td>2050-01-25 18:00:00</td>\n",
       "      <td>81.130000</td>\n",
       "      <td>5.000000</td>\n",
       "    </tr>\n",
       "    <tr>\n",
       "      <th>50%</th>\n",
       "      <td>2050-02-19 12:00:00</td>\n",
       "      <td>114.105000</td>\n",
       "      <td>8.000000</td>\n",
       "    </tr>\n",
       "    <tr>\n",
       "      <th>75%</th>\n",
       "      <td>2050-03-16 06:00:00</td>\n",
       "      <td>161.207500</td>\n",
       "      <td>11.250000</td>\n",
       "    </tr>\n",
       "    <tr>\n",
       "      <th>max</th>\n",
       "      <td>2050-04-10 00:00:00</td>\n",
       "      <td>197.260000</td>\n",
       "      <td>14.000000</td>\n",
       "    </tr>\n",
       "    <tr>\n",
       "      <th>std</th>\n",
       "      <td>NaN</td>\n",
       "      <td>42.469805</td>\n",
       "      <td>4.030928</td>\n",
       "    </tr>\n",
       "  </tbody>\n",
       "</table>\n",
       "</div>"
      ],
      "text/plain": [
       "                      Date       Price    Quantity\n",
       "count                  100  100.000000  100.000000\n",
       "mean   2050-02-19 12:00:00  117.319000    7.790000\n",
       "min    2050-01-01 00:00:00   51.350000    1.000000\n",
       "25%    2050-01-25 18:00:00   81.130000    5.000000\n",
       "50%    2050-02-19 12:00:00  114.105000    8.000000\n",
       "75%    2050-03-16 06:00:00  161.207500   11.250000\n",
       "max    2050-04-10 00:00:00  197.260000   14.000000\n",
       "std                    NaN   42.469805    4.030928"
      ]
     },
     "execution_count": 85,
     "metadata": {},
     "output_type": "execute_result"
    }
   ],
   "source": [
    "df.describe()"
   ]
  },
  {
   "cell_type": "code",
   "execution_count": 86,
   "id": "5764226c-088f-4fa3-ac7a-3d11aebcb2a7",
   "metadata": {},
   "outputs": [
    {
     "data": {
      "text/html": [
       "<div>\n",
       "<style scoped>\n",
       "    .dataframe tbody tr th:only-of-type {\n",
       "        vertical-align: middle;\n",
       "    }\n",
       "\n",
       "    .dataframe tbody tr th {\n",
       "        vertical-align: top;\n",
       "    }\n",
       "\n",
       "    .dataframe thead th {\n",
       "        text-align: right;\n",
       "    }\n",
       "</style>\n",
       "<table border=\"1\" class=\"dataframe\">\n",
       "  <thead>\n",
       "    <tr style=\"text-align: right;\">\n",
       "      <th></th>\n",
       "      <th>Date</th>\n",
       "      <th>Price</th>\n",
       "      <th>Quantity</th>\n",
       "    </tr>\n",
       "  </thead>\n",
       "  <tbody>\n",
       "    <tr>\n",
       "      <th>count</th>\n",
       "      <td>100</td>\n",
       "      <td>100.00</td>\n",
       "      <td>100.00</td>\n",
       "    </tr>\n",
       "    <tr>\n",
       "      <th>mean</th>\n",
       "      <td>2050-02-19 12:00:00</td>\n",
       "      <td>117.32</td>\n",
       "      <td>7.79</td>\n",
       "    </tr>\n",
       "    <tr>\n",
       "      <th>min</th>\n",
       "      <td>2050-01-01 00:00:00</td>\n",
       "      <td>51.35</td>\n",
       "      <td>1.00</td>\n",
       "    </tr>\n",
       "    <tr>\n",
       "      <th>25%</th>\n",
       "      <td>2050-01-25 18:00:00</td>\n",
       "      <td>81.13</td>\n",
       "      <td>5.00</td>\n",
       "    </tr>\n",
       "    <tr>\n",
       "      <th>50%</th>\n",
       "      <td>2050-02-19 12:00:00</td>\n",
       "      <td>114.10</td>\n",
       "      <td>8.00</td>\n",
       "    </tr>\n",
       "    <tr>\n",
       "      <th>75%</th>\n",
       "      <td>2050-03-16 06:00:00</td>\n",
       "      <td>161.21</td>\n",
       "      <td>11.25</td>\n",
       "    </tr>\n",
       "    <tr>\n",
       "      <th>max</th>\n",
       "      <td>2050-04-10 00:00:00</td>\n",
       "      <td>197.26</td>\n",
       "      <td>14.00</td>\n",
       "    </tr>\n",
       "    <tr>\n",
       "      <th>std</th>\n",
       "      <td>NaN</td>\n",
       "      <td>42.47</td>\n",
       "      <td>4.03</td>\n",
       "    </tr>\n",
       "  </tbody>\n",
       "</table>\n",
       "</div>"
      ],
      "text/plain": [
       "                      Date   Price  Quantity\n",
       "count                  100  100.00    100.00\n",
       "mean   2050-02-19 12:00:00  117.32      7.79\n",
       "min    2050-01-01 00:00:00   51.35      1.00\n",
       "25%    2050-01-25 18:00:00   81.13      5.00\n",
       "50%    2050-02-19 12:00:00  114.10      8.00\n",
       "75%    2050-03-16 06:00:00  161.21     11.25\n",
       "max    2050-04-10 00:00:00  197.26     14.00\n",
       "std                    NaN   42.47      4.03"
      ]
     },
     "execution_count": 86,
     "metadata": {},
     "output_type": "execute_result"
    }
   ],
   "source": [
    "df.describe().round(2)"
   ]
  },
  {
   "cell_type": "code",
   "execution_count": 87,
   "id": "e9410eae-1bfd-4a04-895d-99584bab2851",
   "metadata": {},
   "outputs": [
    {
     "data": {
      "text/plain": [
       "array([[Timestamp('2050-01-01 00:00:00'), 'Microphone', 147.16, 7],\n",
       "       [Timestamp('2050-01-02 00:00:00'), 'Keyboard', 103.09, 10],\n",
       "       [Timestamp('2050-01-03 00:00:00'), 'Tablet', 164.48, 7],\n",
       "       [Timestamp('2050-01-04 00:00:00'), 'Camera', 103.48, 1],\n",
       "       [Timestamp('2050-01-05 00:00:00'), 'Microphone', 162.92, 1]],\n",
       "      dtype=object)"
      ]
     },
     "execution_count": 87,
     "metadata": {},
     "output_type": "execute_result"
    }
   ],
   "source": [
    "df.values[:5]"
   ]
  },
  {
   "cell_type": "code",
   "execution_count": 88,
   "id": "0909805a-5c3a-44aa-b42a-cfdaa36aa97c",
   "metadata": {},
   "outputs": [
    {
     "data": {
      "text/plain": [
       "<pandas.core.groupby.generic.DataFrameGroupBy object at 0x000001CC200F2D80>"
      ]
     },
     "execution_count": 88,
     "metadata": {},
     "output_type": "execute_result"
    }
   ],
   "source": [
    "# Общее количество по каждому товару\n",
    "df.groupby(by='Product')"
   ]
  },
  {
   "cell_type": "code",
   "execution_count": 89,
   "id": "240061dd-be71-462e-9c25-b516af73703f",
   "metadata": {},
   "outputs": [
    {
     "data": {
      "text/plain": [
       "<pandas.core.groupby.generic.SeriesGroupBy object at 0x000001CC207B4110>"
      ]
     },
     "execution_count": 89,
     "metadata": {},
     "output_type": "execute_result"
    }
   ],
   "source": [
    "df.groupby(by='Product')['Quantity']"
   ]
  },
  {
   "cell_type": "code",
   "execution_count": 93,
   "id": "b4f59e0b-f146-473a-a70c-bc8bf7899dba",
   "metadata": {},
   "outputs": [
    {
     "data": {
      "text/plain": [
       "Product\n",
       "Camera        186\n",
       "Keyboard      173\n",
       "Microphone    106\n",
       "Phone         124\n",
       "Tablet        190\n",
       "Name: Quantity, dtype: int32"
      ]
     },
     "execution_count": 93,
     "metadata": {},
     "output_type": "execute_result"
    }
   ],
   "source": [
    "product_sales = df.groupby(by='Product')['Quantity'].sum()\n",
    "product_sales"
   ]
  },
  {
   "cell_type": "code",
   "execution_count": 94,
   "id": "a80e23a3-2f32-4e4f-b702-21024ee5b4cf",
   "metadata": {},
   "outputs": [
    {
     "data": {
      "text/plain": [
       "Product\n",
       "Camera        2916.87\n",
       "Keyboard      2659.04\n",
       "Microphone    2200.29\n",
       "Phone         1852.07\n",
       "Tablet        2103.63\n",
       "Name: Price, dtype: float64"
      ]
     },
     "execution_count": 94,
     "metadata": {},
     "output_type": "execute_result"
    }
   ],
   "source": [
    "df.groupby(by='Product')['Price'].sum()"
   ]
  },
  {
   "cell_type": "code",
   "execution_count": 107,
   "id": "cc020591-9c8c-4a8c-b500-64bdb50880f0",
   "metadata": {},
   "outputs": [
    {
     "data": {
      "text/plain": [
       "Product\n",
       "Camera        121.54\n",
       "Keyboard      115.61\n",
       "Microphone    129.43\n",
       "Phone         123.47\n",
       "Tablet        100.17\n",
       "Name: Price, dtype: float64"
      ]
     },
     "execution_count": 107,
     "metadata": {},
     "output_type": "execute_result"
    }
   ],
   "source": [
    "avarage_prices = df.groupby(by='Product')['Price'].mean().round(2)\n",
    "avarage_prices"
   ]
  },
  {
   "cell_type": "code",
   "execution_count": 108,
   "id": "187ec0f0-3837-48a3-a9f4-8e5e185e828a",
   "metadata": {},
   "outputs": [
    {
     "data": {
      "image/png": "[encoded data removed]",
      "text/plain": [
       "<Figure size 640x480 with 1 Axes>"
      ]
     },
     "metadata": {},
     "output_type": "display_data"
    }
   ],
   "source": [
    "plt.bar(product_sales.index,product_sales.values,color=['red','blue','green'], edgecolor=\"white\", linewidth=0.7,width=0.7)\n",
    "plt.title('Total Sales per Product')\n",
    "plt.xlabel('Product')\n",
    "plt.ylabel('Total Quantity')\n",
    "plt.show()"
   ]
  },
  {
   "cell_type": "code",
   "execution_count": 111,
   "id": "8c7d6d36-a467-4326-a044-d89bd194c580",
   "metadata": {},
   "outputs": [
    {
     "data": {
      "image/png": "[encoded data removed]",
      "text/plain": [
       "<Figure size 640x480 with 1 Axes>"
      ]
     },
     "metadata": {},
     "output_type": "display_data"
    }
   ],
   "source": [
    "plt.plot(avarage_prices.index,avarage_prices.values,color='green')\n",
    "plt.title('Avarage Sales per Product')\n",
    "plt.xlabel('Product')\n",
    "plt.ylabel('Total Prices')\n",
    "plt.show()"
   ]
  },
  {
   "cell_type": "code",
   "execution_count": null,
   "id": "489d3d3f-d7bd-4ca0-a8cd-22af1b65a398",
   "metadata": {},
   "outputs": [],
   "source": []
  }
 ],
 "metadata": {
  "kernelspec": {
   "display_name": "Python 3 (ipykernel)",
   "language": "python",
   "name": "python3"
  },
  "language_info": {
   "codemirror_mode": {
    "name": "ipython",
    "version": 3
   },
   "file_extension": ".py",
   "mimetype": "text/x-python",
   "name": "python",
   "nbconvert_exporter": "python",
   "pygments_lexer": "ipython3",
   "version": "3.12.1"
  }
 },
 "nbformat": 4,
 "nbformat_minor": 5
}
